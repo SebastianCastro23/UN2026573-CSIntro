{
  "cells": [
    {
      "cell_type": "markdown",
      "source": [
        "- Write requirements spec down.\n",
        "- Define critical objects.\n",
        "- Describe objects, attribs, methods."
      ],
      "metadata": {}
    },
    {
      "cell_type": "markdown",
      "source": [
        "## Scope\n",
        "Busco desarrollar un entorno gráfico que dibuje figuras geométricas en un plano 2D limitado por un dominio y rango finitos, que éstos presenten movimiento parametrizado o aleatorio a través del plano, y detecte e informe al usuario cuando exista una colisión entre dos figuras o entre una figura y los bordes del plano.\n",
        "\n",
        "### Requerimientos\n",
        "\n",
        "* Generar un plano 2D limitado un dominio y rango finitos.\n",
        "* Dentro de este plano, se podrán dibujar cero o más figuras geométricas.\n",
        "* Las figuras tendrán una posición y un movimiento que puede ser parametrizado (dado un vector de movimiento o una función paramétrica) o aleatorio\n",
        "* Cada vez que una figura se mueva, deberá verificar si existe una colisión con alguna otra figura, o con los bordes del plano. En el caso de que exista, deberá informar al usuario.\n",
        "\n",
        "### Ejemplos\n",
        "![Slither.io](https://media1.tenor.com/images/c0b3e860a0a08dbea0500b5464c9f407/tenor.gif?itemid=7462401)"
      ],
      "metadata": {}
    },
    {
      "cell_type": "markdown",
      "source": [
        "## Definición de objetos\n",
        "\n",
        "* Plano\n",
        "* Figura Geométrica\n",
        "  * Figura poligonal\n",
        "  * Figura circular"
      ],
      "metadata": {}
    },
    {
      "cell_type": "markdown",
      "source": [
        "## Objects description\n",
        "\n",
        "### 2DPlane\n",
        "\n",
        "#### Attributes\n",
        "\n",
        "* **height** `Int`: Limits the plane to a height.\n",
        "* **width** `Int`: Limits the plane to a width.\n",
        "* **figures** `List<GeometricalFigure>`: Contains the figures added and moving in the plane.\n",
        "\n",
        "#### Methods\n",
        "\n",
        "* *draw()*: Draws a plane and its figures.\n",
        "* *move()*: Moves the figures in a plane.\n",
        "* *addFigure(`figure: GeometricalFigure, x: Int, y: Int`)*: Adds a figure inside the plane, stating initial coordinates.\n",
        "* *checkCollisions(`figure: GeometricalFigure`)*: Checks whether a figure collides with another one or the edges of the plane.\n",
        "\n",
        "### GeometricalFigure\n",
        "\n",
        "#### Attributes\n",
        "\n",
        "* **x** `Int`: Limits the plane to a height.\n",
        "* **y** `Int`: Limits the plane to a width.\n",
        "\n",
        "#### Methods\n",
        "\n",
        "* *draw()*: Draws a figure.\n",
        "* *move()*: Draws a figure randomly.\n",
        "* *move(`vector: List<Int>`)*: Draws a figure using a movement vector.\n",
        "* *move(`limit: List<Int>, List<List<Int>>`)*: Draws a figure using a parametrics equation.\n",
        "\n",
        "### Polygon (GeometricalFigure)\n",
        "\n",
        "#### Attributes\n",
        "\n",
        "* **sides** `Int`: Sets the sides' number of a polygon.\n",
        "* **sideLength** `Int`: Sets the lenght of a side.\n",
        "\n",
        "### Circle (GeometricalFigure)\n",
        "\n",
        "#### Attributes\n",
        "\n* **radius** `Int`: The radius of the circle."
      ],
      "metadata": {}
    }
  ],
  "metadata": {
    "kernel_info": {
      "name": "python3"
    },
    "language_info": {
      "name": "python",
      "version": "3.7.2",
      "mimetype": "text/x-python",
      "codemirror_mode": {
        "name": "ipython",
        "version": 3
      },
      "pygments_lexer": "ipython3",
      "nbconvert_exporter": "python",
      "file_extension": ".py"
    },
    "kernelspec": {
      "name": "python3",
      "language": "python",
      "display_name": "Python 3"
    },
    "nteract": {
      "version": "0.12.3"
    }
  },
  "nbformat": 4,
  "nbformat_minor": 4
}