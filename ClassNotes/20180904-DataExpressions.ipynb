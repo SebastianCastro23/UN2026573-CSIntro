{
  "cells": [
    {
      "cell_type": "markdown",
      "source": [
        "## Cifrado César (cifrado mediante módulos)\n",
        "\n",
        "1. Tomar un mensaje y obtener el arreglo de valores.\n",
        "2. Para cifrar, aplicar una clave (sumar un número) al arreglo $c = (i + k) \\bmod n$.\n",
        "3. Para decifrar, aplicar la clave en inversa (restar un número) al arreglo $i = (c - k) \\bmod n$"
      ],
      "metadata": {}
    },
    {
      "cell_type": "code",
      "source": [
        "chr_to_number = lambda s: [ ord(x) - 97 for x in s ]\n",
        "numbers_to_chr = lambda l: ''.join([ chr(x + 97) for x in l ])\n",
        "encrypt = lambda l, k: [ x + k % 26 for x in l ]\n",
        "decrypt = lambda l, k: [ x - k % 26 for x in l ]\n",
        "\nnumbers_to_chr(decrypt(encrypt(chr_to_number('enrico'), 11), 11))"
      ],
      "outputs": [
        {
          "output_type": "execute_result",
          "execution_count": 1,
          "data": {
            "text/plain": [
              "'enrico'"
            ]
          },
          "metadata": {}
        }
      ],
      "execution_count": 1,
      "metadata": {
        "collapsed": false,
        "outputHidden": false,
        "inputHidden": false
      }
    },
    {
      "cell_type": "markdown",
      "source": [
        "## Operators Associativity\n",
        "\n",
        "| Operation                             | Associativity |\n",
        "| ------------------------------------- | ------------- |\n",
        "| Exponentiation (`**`)                 | right-to-left |\n",
        "| Negación (`-`)                        | left-to-right |\n",
        "| Multiplication (`*`) / Division (`/`) | left-to-right |\n",
        "| Addition (`+`) / Subtraction (`-`)    | left-to-right |\n",
        "\n",
        "### Precedence order: PEMDAS\n",
        "\n",
        "1. Parentheses: $()$\n",
        "2. Exponents: $x^2$\n",
        "3. Multiplication: $*$\n",
        "4. Division: $/$\n",
        "5. Addition: $+$\n",
        "6. Subtraction: $-$"
      ],
      "metadata": {}
    },
    {
      "cell_type": "code",
      "source": [],
      "outputs": [],
      "execution_count": null,
      "metadata": {}
    },
    {
      "cell_type": "markdown",
      "source": [],
      "metadata": {
        "collapsed": false,
        "outputHidden": false,
        "inputHidden": false
      }
    }
  ],
  "metadata": {
    "kernel_info": {
      "name": "python3"
    },
    "language_info": {
      "name": "python",
      "version": "3.6.5",
      "mimetype": "text/x-python",
      "codemirror_mode": {
        "name": "ipython",
        "version": 3
      },
      "pygments_lexer": "ipython3",
      "nbconvert_exporter": "python",
      "file_extension": ".py"
    },
    "kernelspec": {
      "name": "python3",
      "language": "python",
      "display_name": "Python 3"
    },
    "nteract": {
      "version": "0.11.6"
    }
  },
  "nbformat": 4,
  "nbformat_minor": 4
}