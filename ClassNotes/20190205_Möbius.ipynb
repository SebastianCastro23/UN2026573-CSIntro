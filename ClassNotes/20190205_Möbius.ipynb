{
  "cells": [
    {
      "cell_type": "code",
      "source": [
        "%matplotlib inline\n",
        "\n",
        "import matplotlib.pyplot as plt\n",
        "\n",
        "moebiusTransform = lambda z, a, b, c, d: (a * z + b) / (c * z + d)\n",
        "\n",
        "origDataX = [];\n",
        "origDataY = [];\n",
        "\n",
        "transDataX = [];\n",
        "transDataY = [];\n",
        "\n",
        "for i in range(100):\n",
        "    for j in range(100):\n",
        "        z = complex('{}+{}j'.format(i / 100, j / 100))\n",
        "        origDataX.append(z.real)\n",
        "        origDataY.append(z.imag)\n",
        "\n",
        "        t = moebiusTransform(z, complex('1+5j'), complex('2-15j'), complex('3+5j'), complex('2-15j'))\n",
        "        transDataX.append(t.real)\n",
        "        transDataY.append(t.imag)\n",
        "    \n",
        "plt.scatter(origDataX, origDataY)\n",
        "plt.scatter(transDataX, transDataY)\n",
        "plt.ylabel('some numbers')\n",
        "plt.show()"
      ],
      "outputs": [
        {
          "output_type": "display_data",
          "data": {
            "text/plain": [
              "<Figure size 432x288 with 1 Axes>"
            ],
            "image/png": "[encoded data removed]"
          },
          "metadata": {
            "needs_background": "light"
          }
        }
      ],
      "execution_count": 29,
      "metadata": {
        "collapsed": false,
        "outputHidden": false,
        "inputHidden": false
      }
    }
  ],
  "metadata": {
    "kernel_info": {
      "name": "python3"
    },
    "language_info": {
      "name": "python",
      "version": "3.7.2",
      "mimetype": "text/x-python",
      "codemirror_mode": {
        "name": "ipython",
        "version": 3
      },
      "pygments_lexer": "ipython3",
      "nbconvert_exporter": "python",
      "file_extension": ".py"
    },
    "kernelspec": {
      "name": "python3",
      "language": "python",
      "display_name": "Python 3"
    },
    "nteract": {
      "version": "0.12.3"
    }
  },
  "nbformat": 4,
  "nbformat_minor": 4
}