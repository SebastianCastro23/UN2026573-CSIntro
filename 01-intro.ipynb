{
  "cells": [
    {
      "cell_type": "markdown",
      "source": [
        "__Ejercicios__\n",
        "\n",
        "- Se dice que dos cantidades $a$ y $b$ están en proporción aurea si la longitud total $a+b$ es al segmento más largo $a$, como $a$ es al segmento más corto $b$, es decir, para $a$ mayor que $b$ se tiene $\\frac{a}{b} = \\frac{a+b}{b}$. Esta razón define una constate llamada número aureo $\\phi$ que aparece de forma recurrente en muchos fenómenos naturales. Se dice que la distancia del ombligo a la planta de los pies y la altura total de una persona están en proporción aurea. Utilizando la observación anterior y las medidas experimentales de 5 compañeros encuentre una aproximación al número aureo $\\phi$.\n",
        "\n"
      ],
      "metadata": {}
    },
    {
      "cell_type": "code",
      "source": [
        "print('Hello world')"
      ],
      "outputs": [
        {
          "output_type": "stream",
          "name": "stdout",
          "text": [
            "Hello world\n"
          ]
        }
      ],
      "execution_count": 1,
      "metadata": {
        "collapsed": false,
        "outputHidden": false,
        "inputHidden": false
      }
    },
    {
      "cell_type": "markdown",
      "source": [
        "- Escriba un programa que calcule la suma de $1^2+2^2+3^2...+n^2$.\n",
        "\n",
        "- Escriba un programa que calcule el área total del cuerpo (Body surface area).\n",
        "\n",
        "- Recientemente se descubrieron 7 planetas similares a la Tierra y potencialmente habitables que orbitan alrededor de una estrella denominada TRAPPIST-1. El sistema solar se encuentra a aproximadamente 369 trillones de kilómetros (Un trillón equivale a $10^18$ kilometros). Si asumimos que podemos viajar a la velocidad de la luz cuantos años luz tomaría llegar a este sistema solar.\n",
        "\n",
        "- De todos los planetas que orbitan alrededor de TRAPPIST-1 ([blue_text](https://es.wikipedia.org/wiki/TRAPPIST-1)) cual es el planeta que de acuerdo a su temperatura usted podría habitar más fácilmente.\n",
        "\n",
        "- Escriba un programa que verifique si dos segmentos de línea recta se intersectan.\n",
        "\n",
        "- Escriba un programa que calcule la distancia más corta de un punto a una línea.\n",
        "\n",
        "- Escriba un programa que verifique si dos círculos se intersectan o no.\n",
        "\n",
        "- Escriba un programa que calcule el área de dos círculos que se sobrelapan.\n",
        "\n",
        "- Verifique que la suma de los recíprocos converge a https://oeis.org/A079586.\n",
        "\n",
        "- Construya una medida de la seguridad de un password (random password's information entropy).\n",
        "\n",
        "- Dado un triángulo determine la ecuación de recta de Euler y la circunferencia de los nueve puntos**.\n"
      ],
      "metadata": {}
    }
  ],
  "metadata": {
    "anaconda-cloud": {},
    "kernelspec": {
      "name": "python3",
      "language": "python",
      "display_name": "Python 3"
    },
    "language_info": {
      "name": "python",
      "version": "3.6.5",
      "mimetype": "text/x-python",
      "codemirror_mode": {
        "name": "ipython",
        "version": 3
      },
      "pygments_lexer": "ipython3",
      "nbconvert_exporter": "python",
      "file_extension": ".py"
    },
    "nteract": {
      "version": "0.11.6"
    },
    "kernel_info": {
      "name": "python3"
    }
  },
  "nbformat": 4,
  "nbformat_minor": 0
}