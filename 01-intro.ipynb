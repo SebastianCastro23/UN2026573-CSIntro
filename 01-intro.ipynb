{
  "cells": [
    {
      "cell_type": "markdown",
      "source": [
        "# Ejercicios\n",
        "\n1) Se dice que dos cantidades $a$ y $b$ están en proporción aurea si la longitud total $a+b$ es al segmento más largo $a$, como $a$ es al segmento más corto $b$, es decir, para $a$ mayor que $b$ se tiene $\\frac{a}{b} = \\frac{a+b}{b}$. Esta razón define una constate llamada número aureo $\\phi$ que aparece de forma recurrente en muchos fenómenos naturales. Se dice que la distancia del ombligo a la planta de los pies y la altura total de una persona están en proporción aurea. Utilizando la observación anterior y las medidas experimentales de 5 compañeros encuentre una aproximación al número aureo $\\phi$."
      ],
      "metadata": {}
    },
    {
      "cell_type": "code",
      "source": [
        "measures = [\n",
        "    { 'ftbb': 103, 'bbth': 68 },\n",
        "    { 'ftbb': 104, 'bbth': 67 },\n",
        "    { 'ftbb': 101, 'bbth': 71 },\n",
        "    { 'ftbb': 103, 'bbth': 69 },\n",
        "    { 'ftbb': 106, 'bbth': 69 }\n",
        "]\n",
        "\n",
        "proportions = [ (p['ftbb'] + p['bbth']) / p['ftbb'] for p in measures ]\n",
        "\n",
        "phi = sum(proportions) / len(proportions)\n",
        "\nphi"
      ],
      "outputs": [
        {
          "output_type": "execute_result",
          "execution_count": 1,
          "data": {
            "text/plain": [
              "1.6656483099731054"
            ]
          },
          "metadata": {}
        }
      ],
      "execution_count": 1,
      "metadata": {
        "collapsed": false,
        "outputHidden": false,
        "inputHidden": false
      }
    },
    {
      "cell_type": "markdown",
      "source": [
        "2) Escriba un programa que calcule la suma de $1^2+2^2+3^2...+n^2$."
      ],
      "metadata": {}
    },
    {
      "cell_type": "code",
      "source": [
        "sumN = lambda n: n if n == 0 else sumN(n - 1) + n\n",
        "\nsumN(100)"
      ],
      "outputs": [
        {
          "output_type": "execute_result",
          "execution_count": 4,
          "data": {
            "text/plain": [
              "5050"
            ]
          },
          "metadata": {}
        }
      ],
      "execution_count": 4,
      "metadata": {
        "collapsed": false,
        "outputHidden": false,
        "inputHidden": false
      }
    },
    {
      "cell_type": "markdown",
      "source": [
        "3) Escriba un programa que calcule el área total del cuerpo (Body surface area)."
      ],
      "metadata": {}
    },
    {
      "cell_type": "code",
      "source": [
        "from math import sqrt\n",
        "\n",
        "bsa = lambda h, w: sqrt(h * w / 3600)\n",
        "\n",
        "myBsa = bsa(179, 89)\n",
        "\nprint('{:.2f} m²'.format(myBsa))"
      ],
      "outputs": [
        {
          "output_type": "stream",
          "name": "stdout",
          "text": [
            "2.10 m²\n"
          ]
        }
      ],
      "execution_count": 5,
      "metadata": {
        "collapsed": false,
        "outputHidden": false,
        "inputHidden": false
      }
    },
    {
      "cell_type": "markdown",
      "source": [
        "4) Recientemente se descubrieron 7 planetas similares a la Tierra y potencialmente habitables que orbitan alrededor de una estrella denominada TRAPPIST-1. El sistema solar se encuentra a aproximadamente 369 billones de kilómetros (Un billón equivale a $10^{15}$ kilometros). Si asumimos que podemos viajar a la velocidad de la luz cuantos años luz tomaría llegar a este sistema solar."
      ],
      "metadata": {}
    },
    {
      "cell_type": "code",
      "source": [
        "def light_time_to (distance):\n",
        "    km_per_second = 299792.458\n",
        "\n",
        "    time = distance / km_per_second\n",
        "    time_in_years = time / 31536000\n",
        "    time_in_days = (time_in_years - int(time_in_years)) * 365\n",
        "    time_in_hours = (time_in_days - int(time_in_days)) * 24\n",
        "    time_in_minutes = (time_in_hours - int(time_in_hours)) * 60\n",
        "    time_in_seconds = (time_in_minutes - int(time_in_minutes)) * 60\n",
        "    time_in_milliseconds = (time_in_seconds - int(time_in_seconds)) * 1000\n",
        "\n",
        "    return '{:,.0f} years, {:.0f} days, {:.0f}:{:.0f}:{:.0f}.{:.0f} hours'.format(\n",
        "        time_in_years, time_in_days, time_in_hours, time_in_minutes, time_in_seconds, time_in_milliseconds)\n",
        "\n\nlight_time_to(369 * 10 ** 12)"
      ],
      "outputs": [
        {
          "output_type": "execute_result",
          "execution_count": 94,
          "data": {
            "text/plain": [
              "'39 years, 11 days, 23:12:51.281 hours'"
            ]
          },
          "metadata": {}
        }
      ],
      "execution_count": 94,
      "metadata": {
        "collapsed": false,
        "outputHidden": false,
        "inputHidden": false
      }
    },
    {
      "cell_type": "markdown",
      "source": [
        "5) De todos los planetas que orbitan alrededor de TRAPPIST-1 ([blue_text](https://es.wikipedia.org/wiki/TRAPPIST-1)) cual es el planeta que de acuerdo a su temperatura usted podría habitar más fácilmente."
      ],
      "metadata": {}
    },
    {
      "cell_type": "code",
      "source": [],
      "outputs": [],
      "execution_count": null,
      "metadata": {
        "collapsed": false,
        "outputHidden": false,
        "inputHidden": false
      }
    },
    {
      "cell_type": "markdown",
      "source": [
        "6) Escriba un programa que verifique si dos segmentos de línea recta se intersectan."
      ],
      "metadata": {}
    },
    {
      "cell_type": "code",
      "source": [
        "class Segment:\n",
        "    def __str__ (self):\n",
        "        return str([ self.p, self.q ])\n",
        "\n",
        "    def __init__ (self, p, q):\n",
        "        self.p = p\n",
        "        self.q = q\n",
        "    \n",
        "    def slope (self):\n",
        "        (x1, y1) = self.p\n",
        "        (x2, y2) = self.q\n",
        "        \n",
        "        return (y2 - y1) / (x2 - x1)\n",
        "    \n",
        "    def intersects (self, other):\n",
        "        return self.slope() != other.slope()\n",
        "\n\n",
        "A = Segment((-1, -1), (1, 1))\n",
        "B = Segment((-1, 1), (1, -1))\n",
        "\n",
        "print('A = ', A)\n",
        "print('B = ', B)\n",
        "print('A intersects B = ', A.intersects(B), end = '\\n\\n')\n",
        "\n",
        "C = Segment((-1, -1), (1, 1))\n",
        "D = Segment((-3, -3), (3, 3))\n",
        "\n",
        "print('C = ', C)\n",
        "print('D = ', D)\n",
        "print('C intersects D = ', C.intersects(D))"
      ],
      "outputs": [
        {
          "output_type": "stream",
          "name": "stdout",
          "text": [
            "A =  [(-1, -1), (1, 1)]\n",
            "B =  [(-1, 1), (1, -1)]\n",
            "A intersects B =  True\n",
            "\n",
            "C =  [(-1, -1), (1, 1)]\n",
            "D =  [(-3, -3), (3, 3)]\n",
            "C intersects D =  False\n"
          ]
        }
      ],
      "execution_count": 109,
      "metadata": {
        "collapsed": false,
        "outputHidden": false,
        "inputHidden": false
      }
    },
    {
      "cell_type": "markdown",
      "source": [
        "7) Escriba un programa que calcule la distancia más corta de un punto a una línea.\n",
        "\n",
        "8) Escriba un programa que verifique si dos círculos se intersectan o no.\n",
        "\n",
        "9) Escriba un programa que calcule el área de dos círculos que se sobrelapan.\n",
        "\n",
        "10) Verifique que la suma de los recíprocos converge a https://oeis.org/A079586.\n",
        "\n",
        "11) Construya una medida de la seguridad de un password (random password's information entropy).\n",
        "\n12) Dado un triángulo determine la ecuación de recta de Euler y la circunferencia de los nueve puntos**."
      ],
      "metadata": {}
    }
  ],
  "metadata": {
    "anaconda-cloud": {},
    "kernelspec": {
      "name": "python3",
      "language": "python",
      "display_name": "Python 3"
    },
    "language_info": {
      "name": "python",
      "version": "3.6.5",
      "mimetype": "text/x-python",
      "codemirror_mode": {
        "name": "ipython",
        "version": 3
      },
      "pygments_lexer": "ipython3",
      "nbconvert_exporter": "python",
      "file_extension": ".py"
    },
    "nteract": {
      "version": "0.11.6"
    },
    "kernel_info": {
      "name": "python3"
    }
  },
  "nbformat": 4,
  "nbformat_minor": 0
}