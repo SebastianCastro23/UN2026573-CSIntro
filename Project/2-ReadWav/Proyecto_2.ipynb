{
  "cells": [
    {
      "cell_type": "markdown",
      "source": [
        "# Editor de sonido - Proyecto 2 "
      ],
      "metadata": {
        "id": "IKATavS4phV-",
        "colab_type": "text"
      }
    },
    {
      "cell_type": "markdown",
      "source": [
        "Como científico(a) de la computación usted es contratado para diseñar y desarrollar un sistema de edición de sonido.\n",
        "\n",
        "El sistema debe permitir como mínimo:\n",
        "\n",
        "- [x] Cargar archivos de sonido mono en formato .wav (Waveform Audio Format).\n",
        "- [x] Aumentar el volumen.\n",
        "- [x] Disminuir el volumen.\n",
        "- [x] Reproducción en alta velocidad.\n",
        "- [x] Reproducción en baja velocidad.\n",
        "- [ ] Realice de los bajos.\n",
        "- [ ] Realce de los altos.\n",
        "- [ ] Ecualización de diferentes frecuencias.\n",
        "- [ ] Mezcla de dos archivos de audio diferentes con diferentes niveles de volumen.\n",
        "\n",
        "Diseñe, desarrolle y construya el editor de sonido y construya un reporte que incluya:\n",
        "\n",
        "1.\tIntroducción. Defina el problema y el trabajo previo realizado para abordar este problema.\n",
        "2.\tMateriales y métodos. Describa el modelo matemático utilizado, el modelo numérico utilizado para solucionar el problema, y las herramientas computacionales utilizadas para realizar la edición.\n",
        "3.\tResultados. Muestre algunos ejemplos de las ediciones construidas y comente los resultados.\n",
        "4.\tConclusiones. Concluya sobre su trabajo\n",
        "\nEl reporte debe entregarse como en un notebook."
      ],
      "metadata": {
        "id": "q79-9hcdptvf",
        "colab_type": "text"
      }
    },
    {
      "cell_type": "markdown",
      "source": [
        "# Recursos\n",
        "\n",
        "- [Introduction to digital filtering](https://www.dsprelated.com/freebooks/filters/Simplest_Lowpass_Filter_I.html)\n",
        "- [DSP guide](http://www.dspguide.com/ch14/4.htm)\n",
        "- [Digital image processing book](http://web.ipac.caltech.edu/staff/fmasci/home/astro_refs/Digital_Image_Processing_2ndEd.pdf)\n",
        "- En la carpeta código para la apertura de un wav"
      ],
      "metadata": {
        "id": "-jvXNEqPvvzN",
        "colab_type": "text"
      }
    }
  ],
  "metadata": {
    "colab": {
      "name": "Proyecto_2.ipynb",
      "version": "0.3.2",
      "provenance": []
    },
    "kernelspec": {
      "name": "python3",
      "language": "python",
      "display_name": "Python 3"
    },
    "kernel_info": {
      "name": "python3"
    },
    "language_info": {
      "name": "python",
      "version": "3.7.2",
      "mimetype": "text/x-python",
      "codemirror_mode": {
        "name": "ipython",
        "version": 3
      },
      "pygments_lexer": "ipython3",
      "nbconvert_exporter": "python",
      "file_extension": ".py"
    },
    "nteract": {
      "version": "0.12.3"
    }
  },
  "nbformat": 4,
  "nbformat_minor": 0
}