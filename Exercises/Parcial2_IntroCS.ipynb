{
  "cells": [
    {
      "cell_type": "markdown",
      "source": [
        "# Parcial 2 (Sobre 55 Puntos)"
      ],
      "metadata": {
        "id": "FzskXPIasBf5",
        "colab_type": "text"
      }
    },
    {
      "cell_type": "markdown",
      "source": [
        "_Nombre:_ Pablo Andrés Dorado Suárez\n",
        "\n",
        "_Correo:_ paadoradosu@unal.edu.co\n",
        "\n__Nota: El notebook del parcial debe ser enviado al correo fagomezj@unal.edu.co antes de las 10:50 am desde su correo institucional__"
      ],
      "metadata": {
        "id": "FsqUk1rmucp4",
        "colab_type": "text"
      }
    },
    {
      "cell_type": "markdown",
      "source": [
        "1. Un ciclo que nunca termina se refiere a (2 puntos):"
      ],
      "metadata": {
        "id": "BRKdtg7vl2SY",
        "colab_type": "text"
      }
    },
    {
      "cell_type": "code",
      "source": [
        "option = \"Ciclo infinito\" #@param [\"Ciclo while\", \"Ciclo infinito\",\"Ciclo recursivo\",\"Ciclo for\",\"Ninguna de las anteriores\"]\n"
      ],
      "outputs": [],
      "execution_count": 1,
      "metadata": {
        "id": "WmX73MCWjodm",
        "colab_type": "code",
        "colab": {}
      }
    },
    {
      "cell_type": "markdown",
      "source": [
        "2. Juan necesita ejecutar una sección de código diez veces dentro de un programa. Compare las estructuras y seleccione la que mejor con las necesidades identificadas (2 puntos):"
      ],
      "metadata": {
        "id": "A9sXgNOTn4Mw",
        "colab_type": "text"
      }
    },
    {
      "cell_type": "code",
      "source": [
        "option = \"for\" #@param [\"If-else\", \"endif\", \"for\",\"if\",\"Ninguna de las anteriores\"]"
      ],
      "outputs": [],
      "execution_count": 2,
      "metadata": {
        "id": "rjK1Ee_Fn4eI",
        "colab_type": "code",
        "colab": {}
      }
    },
    {
      "cell_type": "markdown",
      "source": [
        "3. Escoja la definición que más se ajusta para **Attribute** (3 puntos):"
      ],
      "metadata": {
        "id": "yvWOxZgMp1FI",
        "colab_type": "text"
      }
    },
    {
      "cell_type": "code",
      "source": [
        "option = \"Some state or value that belongs to a particular object\" #@param [\"Some state or value that belongs to a particular object\", \"An object that belongs to a class\",\"To activate the method\",\"Any number of statements nested inside a loop\"]"
      ],
      "outputs": [],
      "execution_count": 3,
      "metadata": {
        "id": "RaY8Prodp1OQ",
        "colab_type": "code",
        "colab": {}
      }
    },
    {
      "cell_type": "markdown",
      "source": [
        "4. Escoja la definición que más se ajusta para **Instance** (3 puntos):"
      ],
      "metadata": {
        "id": "BJ4Rtcdkjy2J",
        "colab_type": "text"
      }
    },
    {
      "cell_type": "code",
      "source": [
        "option = \"An object that belongs to a class\" #@param [\"An object that belongs to a class\", \"A statement in Python for convenient repetition of statements in the body of the loop\",\"A function that is attached to an object\",\"A conditional statement with a series of alternative branches\"]"
      ],
      "outputs": [],
      "execution_count": 4,
      "metadata": {
        "id": "-UKHQvOCjzFg",
        "colab_type": "code",
        "colab": {}
      }
    },
    {
      "cell_type": "markdown",
      "source": [
        "5 Escoja la definición que más se ajusta para **Recursion** (3 puntos):"
      ],
      "metadata": {
        "id": "htLZ_PNGj3DI",
        "colab_type": "text"
      }
    },
    {
      "cell_type": "code",
      "source": [
        "option = \"The process of calling the function that is currently executing\" #@param [\"A conditional statement that appears in one of the branches of another conditional statement\",\"A conditional statement with a series of alternative branches\",\"One of the alternative sequences of statements in a conditional statement\",\"The process of calling the function that is currently executing\"]"
      ],
      "outputs": [],
      "execution_count": 5,
      "metadata": {
        "id": "-k3MNoTij3M6",
        "colab_type": "code",
        "colab": {}
      }
    },
    {
      "cell_type": "markdown",
      "source": [
        "6. Escoja la definición que más se ajusta para **temporary variable** (3 puntos):"
      ],
      "metadata": {
        "id": "_BAVSRmoj8cO",
        "colab_type": "text"
      }
    },
    {
      "cell_type": "code",
      "source": [
        "option = \"A variable used to store an intermediate value in a complex calculation\" #@param [\"A variable used to store an intermediate value in a complex calculation\",\"Part of a program that can never be executed, often because it appears after a return statement\",\"The value provided as the result of a function call\",\"A special value returned by functions that have no return statement or a return statement without an argument\"]"
      ],
      "outputs": [],
      "execution_count": 6,
      "metadata": {
        "id": "lAnadUVrj8kx",
        "colab_type": "code",
        "colab": {}
      }
    },
    {
      "cell_type": "markdown",
      "source": [
        "7. la mediana representa el valor de la variable de posición central en un conjunto de $n$ datos numéricos ordenados. Si $n$ es impar la mediana es el valor que ocupa la posición (n+1)/2, por ejemplo, la mediana de $\\{1,7,4, 9,8,3,5\\}$ es $5$. Si $n$ es par es el valor de la media aritmética entre los dos valores centrales $\\{4,2,3,2\\}$ es $2.5$. Calcule la mediana de un conjunto de números (10 puntos)."
      ],
      "metadata": {
        "id": "4jAYLhy3u4u2",
        "colab_type": "text"
      }
    },
    {
      "cell_type": "code",
      "source": [
        "sample_set = [ 1, 2, 3, 4, 5, 6, 7, 8, 9, 10 ]\n",
        "\n",
        "def median(numbers_set):\n",
        "    numbers_set.sort()\n",
        "    \n",
        "    size = len(numbers_set)\n",
        "    indices_to_avg = [ size // 2 - 1, size // 2 ] if size % 2 == 0 else [ size // 2 ]\n",
        "    \n",
        "    return sum([ numbers_set[i] for i in indices_to_avg ]) / len(indices_to_avg)\n",
        "\nmedian(sample_set) == 5.5"
      ],
      "outputs": [
        {
          "output_type": "execute_result",
          "execution_count": 7,
          "data": {
            "text/plain": [
              "True"
            ]
          },
          "metadata": {}
        }
      ],
      "execution_count": 7,
      "metadata": {
        "collapsed": false,
        "outputHidden": false,
        "inputHidden": false
      }
    },
    {
      "cell_type": "markdown",
      "source": [
        "8. Calcule el producto puntual entre dos listas de números, el corresponde a la lista cuyas entradas son los productos de las entradas correspondientes. Si una lista es más larga que otra reemplace las entradas faltantes por 1. Por ejemplo, [1,2,3] x [2,2] = [1*2,2*2,3*1] =  [2,4,3] (10 puntos)"
      ],
      "metadata": {
        "id": "cXdP7l19vAhv",
        "colab_type": "text"
      }
    },
    {
      "cell_type": "code",
      "source": [
        "def simple_product(a, b):\n",
        "    size = max(len(a), len(b))\n",
        "\n",
        "    res = []\n",
        "    for i in range(size):\n",
        "        a_val = 0\n",
        "        b_val = 0\n",
        "    \n",
        "        if i >= len(a):\n",
        "            a_val = 1\n",
        "        else:\n",
        "            a_val = a[i]\n",
        "\n",
        "        if i >= len(b):\n",
        "            b_val = 1\n",
        "        else:\n",
        "            b_val = b[i]\n",
        "        \n",
        "        res.append(a_val * b_val)\n",
        "    \n",
        "    return res\n",
        "        \n",
        "simple_product([1, 2, 3], [2, 2]) == [2, 4, 3]"
      ],
      "outputs": [
        {
          "output_type": "execute_result",
          "execution_count": 8,
          "data": {
            "text/plain": [
              "True"
            ]
          },
          "metadata": {}
        }
      ],
      "execution_count": 8,
      "metadata": {
        "collapsed": false,
        "outputHidden": false,
        "inputHidden": false
      }
    },
    {
      "cell_type": "markdown",
      "source": [
        "9.\tEscriba un programa que calcule las raíces posiblemente complejas de un polinomio cuadrático $a+b x + c x^2$, a partir de los coeficientes del polinomio $a$, $b$ y $c$ posiblemente complejos (10 puntos)."
      ],
      "metadata": {
        "id": "11FaQv9SvFgD",
        "colab_type": "text"
      }
    },
    {
      "cell_type": "code",
      "source": [
        "class Complex:\n",
        "    def __init__(self, realValue, imgValue = 0):\n",
        "        if type(realValue) is Complex:\n",
        "            self.__real = realValue.__real\n",
        "            self.__imag = realValue.__imag\n",
        "        else:\n",
        "            self.__real = realValue * 1.0\n",
        "            self.__imag = imgValue * 1.0\n",
        "    \n",
        "    def getReal(self):\n",
        "        return self.__real;\n",
        "\n",
        "    def getImag(self):\n",
        "        return self.__imag;\n",
        "    \n",
        "    def __str__(self):\n",
        "        return \"{} {} {}i\".format(self.__real, '+' if self.__imag >= 0 else '-', abs(self.__imag))\n",
        "    \n",
        "    def __add__(self, z):\n",
        "        return Complex(self.__real + z.getReal(),\n",
        "                       self.__imag + z.getImag())\n",
        "\n",
        "    def __sub__(self, z):\n",
        "        return Complex(self.__real - z.getReal(),\n",
        "                       self.__imag - z.getImag())\n",
        "  \n",
        "    def __mul__(self, z):\n",
        "        return Complex(self.__real * z.getReal() - self.__imag * z.getImag(),\n",
        "                       self.__real * z.getImag() + self.__imag * z.getReal())\n",
        "    \n",
        "    def __rmul__(self, z):\n",
        "        if type(z) is float:\n",
        "            z = Complex(z, 0.0)\n",
        "        elif type(z) is int:\n",
        "            z = Complex(z * 1.0, 0.0)\n",
        "\n",
        "        return self * z\n",
        "    \n",
        "    def __neg__(self):\n",
        "        return self * Complex(-1.0, -1.0)\n",
        "\n",
        "    def __truediv__(self, z):\n",
        "        norm = z.getReal() * z.getReal() + z.getImag() * z.getImag(); \n",
        "        return Complex((self.__real * z.getReal() + self.__imag * z.getImag()) / norm,\n",
        "                       (self.__imag * z.getReal() - self.__real * z.getImag()) / norm)\n",
        "  \n",
        "    def __pow__(self, e):\n",
        "        return Complex(self.__real ** e,\n",
        "                       self.__imag ** e)\n",
        "   \n",
        "    def root(self, b):\n",
        "        return Complex(self.__real ** 1 / e,\n",
        "                       self.__imag ** 1 / e)\n",
        "\n\n",
        "def discriminant(a, b, c):\n",
        "    return b ** 2 - 4 * a * c\n",
        "\n",
        "def roots(coefficients):\n",
        "    [ a, b, c ] = coefficients\n",
        "    [ a, b, c ] = [ Complex(a), Complex(b), Complex(c) ]\n",
        "    d = discriminant(a, b, c)\n",
        "    \n",
        "    if d.getReal() < 0:\n",
        "        d *= -1\n",
        "    \n",
        "    return [-b + d / (2 * a), -b - d / (2 * a)]\n",
        "    \n",
        "\nprint([ str(c) for c in roots([ Complex(1), 2, 1 ]) ])"
      ],
      "outputs": [
        {
          "output_type": "stream",
          "name": "stdout",
          "text": [
            "['-2.0 - 2.0i', '-2.0 - 2.0i']\n"
          ]
        }
      ],
      "execution_count": 9,
      "metadata": {
        "collapsed": false,
        "outputHidden": false,
        "inputHidden": false
      }
    },
    {
      "cell_type": "markdown",
      "source": [
        "10.\tEscriba un programa que tome un string de palabras separadas por espacio (asuma que no hay puntuación y que todas las palabras de encuentran en minúscula), junto con una palabra target, y muestre la posición de la palabra target en el string de palabras. Por ejemplo,\n",
        "*“we dont need no education we dont need no thought control no we dont”*\n",
        "y la palabra target es “dont” entonces el procedimiento debe retornar 1, 6 y 13. La posición de la palabra debe empezar en 0. El procedimiento debe retornar False si la palabra target no aparece en el string (15 puntos).\n"
      ],
      "metadata": {
        "id": "lPDTeq8uvJx2",
        "colab_type": "text"
      }
    },
    {
      "cell_type": "code",
      "source": [
        "def find(sentence, stopword):\n",
        "    sentence = sentence.split(' ')\n",
        "    \n",
        "    return [ i for i, x in enumerate(sentence) if x == stopword ]\n",
        "\nfind('we dont need no education we dont need no thought control no we dont', 'dont')"
      ],
      "outputs": [
        {
          "output_type": "execute_result",
          "execution_count": 10,
          "data": {
            "text/plain": [
              "[1, 6, 13]"
            ]
          },
          "metadata": {}
        }
      ],
      "execution_count": 10,
      "metadata": {
        "collapsed": false,
        "outputHidden": false,
        "inputHidden": false
      }
    }
  ],
  "metadata": {
    "colab": {
      "name": "Parcial2_IntroCS.ipynb",
      "version": "0.3.2",
      "provenance": [],
      "collapsed_sections": []
    },
    "kernelspec": {
      "name": "python3",
      "language": "python",
      "display_name": "Python 3"
    },
    "kernel_info": {
      "name": "python3"
    },
    "language_info": {
      "name": "python",
      "version": "3.7.2",
      "mimetype": "text/x-python",
      "codemirror_mode": {
        "name": "ipython",
        "version": 3
      },
      "pygments_lexer": "ipython3",
      "nbconvert_exporter": "python",
      "file_extension": ".py"
    },
    "nteract": {
      "version": "0.12.3"
    }
  },
  "nbformat": 4,
  "nbformat_minor": 0
}