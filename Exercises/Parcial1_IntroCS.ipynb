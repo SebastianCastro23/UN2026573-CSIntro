{
  "cells": [
    {
      "cell_type": "markdown",
      "source": [
        "# Parcial 1 (Sobre 50 Puntos)"
      ],
      "metadata": {
        "id": "FzskXPIasBf5",
        "colab_type": "text"
      }
    },
    {
      "cell_type": "markdown",
      "source": [
        "_Nombre:_ Pablo Andrés Dorado Suárez\n",
        "\n",
        "_Correo:_ paadoradosu@unal.edu.co\n",
        "\n__Nota: El notebook del parcial debe ser enviado al correo fagomezj@unal.edu.co antes de las 10:50 am desde su correo institucional__"
      ],
      "metadata": {
        "id": "FsqUk1rmucp4",
        "colab_type": "text"
      }
    },
    {
      "cell_type": "markdown",
      "source": [
        "1. La representación interna en Pyhton del número -20 es (10 Puntos):"
      ],
      "metadata": {
        "id": "BRKdtg7vl2SY",
        "colab_type": "text"
      }
    },
    {
      "cell_type": "code",
      "source": [
        "option = \"11101011\" #@param [\"...10010100\", \"...11101100\",\"...11101011\",\"...00010100\",\"Ninguna de las anteriores\"]"
      ],
      "outputs": [],
      "execution_count": 1,
      "metadata": {
        "id": "WmX73MCWjodm",
        "colab_type": "code",
        "colab": {}
      }
    },
    {
      "cell_type": "markdown",
      "source": [
        "2. Cual de las siguientes opciones son validas como nombres para una variable en Python (10 Puntos):"
      ],
      "metadata": {
        "id": "A9sXgNOTn4Mw",
        "colab_type": "text"
      }
    },
    {
      "cell_type": "code",
      "source": [
        "option = \"EstoEsValido\" #@param [\"1_EsValido\", \"EstoEsValido\", \"Esto-Tambien\",\"if\",\"Ninguna de las anteriores\"]"
      ],
      "outputs": [],
      "execution_count": 2,
      "metadata": {
        "id": "rjK1Ee_Fn4eI",
        "colab_type": "code",
        "colab": {}
      }
    },
    {
      "cell_type": "markdown",
      "source": [
        "3. El orden lexicográfico de las siguientes cadenas de caracteres _\"Alexandra\", \"Alexander\", \"Alexandria\"_  es (10 Puntos):"
      ],
      "metadata": {
        "id": "yvWOxZgMp1FI",
        "colab_type": "text"
      }
    },
    {
      "cell_type": "code",
      "source": [
        "option = \"\\\"Alexander\\\", \\\"Alexandra\\\", \\\"Alexandria\\\"\" #@param [\"\\\"Alexandria\\\", \\\"Alexander\\\", \\\"Alexandra\\\"\", \"\\\"Alexandria\\\", \\\"Alexandra\\\", \\\"Alexander\\\"\", \"\\\"Alexander\\\", \\\"Alexandra\\\", \\\"Alexandria\\\"\",\"Ninguna de las anteriores\"]"
      ],
      "outputs": [],
      "execution_count": 3,
      "metadata": {
        "id": "RaY8Prodp1OQ",
        "colab_type": "code",
        "colab": {}
      }
    },
    {
      "cell_type": "markdown",
      "source": [
        "4. Escriba un programa que verifique si dados dos números positivos su último dígito coincide o no (10 Puntos)."
      ],
      "metadata": {
        "id": "BJ4Rtcdkjy2J",
        "colab_type": "text"
      }
    },
    {
      "cell_type": "code",
      "source": [
        "leastDigitEquals = lambda a, b: int(a) % 10 == int(b) % 10\n",
        "\n(leastDigitEquals(545, 145), leastDigitEquals(545, 141))"
      ],
      "outputs": [
        {
          "output_type": "execute_result",
          "execution_count": 4,
          "data": {
            "text/plain": [
              "(True, False)"
            ]
          },
          "metadata": {}
        }
      ],
      "execution_count": 4,
      "metadata": {
        "id": "-UKHQvOCjzFg",
        "colab_type": "code",
        "colab": {}
      }
    },
    {
      "cell_type": "markdown",
      "source": [
        "5. Escriba un programa que liste los números primos entre 100 y 900, cuyas cifras sumen un número par (10 Puntos)."
      ],
      "metadata": {
        "id": "htLZ_PNGj3DI",
        "colab_type": "text"
      }
    },
    {
      "cell_type": "code",
      "source": [
        "sum_digits = lambda n: n if n < 10 else n % 10 + sum_digits(n // 10)\n",
        "\n",
        "def is_prime (n):\n",
        "    for i in range(2, n):\n",
        "        if n % i == 0:\n",
        "            return False\n",
        "    return True\n",
        "\n",
        "for i in range(100, 901):\n",
        "    if is_prime(i) and sum_digits(i) % 2 == 0:\n",
        "        print(i)"
      ],
      "outputs": [
        {
          "output_type": "stream",
          "name": "stdout",
          "text": [
            "101\n",
            "103\n",
            "107\n",
            "109\n",
            "127\n",
            "149\n",
            "163\n",
            "167\n",
            "181\n",
            "211\n",
            "233\n",
            "239\n",
            "251\n",
            "257\n",
            "271\n",
            "277\n",
            "293\n",
            "307\n",
            "347\n",
            "349\n",
            "367\n",
            "383\n",
            "389\n",
            "419\n",
            "431\n",
            "433\n",
            "439\n",
            "457\n",
            "479\n",
            "491\n",
            "499\n",
            "503\n",
            "509\n",
            "521\n",
            "523\n",
            "541\n",
            "547\n",
            "563\n",
            "569\n",
            "587\n",
            "613\n",
            "617\n",
            "619\n",
            "631\n",
            "653\n",
            "659\n",
            "673\n",
            "677\n",
            "691\n",
            "701\n",
            "709\n",
            "727\n",
            "743\n",
            "761\n",
            "769\n",
            "787\n",
            "811\n",
            "839\n",
            "853\n",
            "857\n",
            "859\n",
            "877\n"
          ]
        }
      ],
      "execution_count": 5,
      "metadata": {
        "id": "-k3MNoTij3M6",
        "colab_type": "code",
        "colab": {}
      }
    },
    {
      "cell_type": "markdown",
      "source": [
        "6. En una tienda venden paquetes de arepas con 6, 9 y 20 piezas. Escriba un programa que acepte un entero, _num_,  y decida cuándo o no es posible comprar exactament _num_ arepas en esa tienda (10 puntos)."
      ],
      "metadata": {
        "id": "_BAVSRmoj8cO",
        "colab_type": "text"
      }
    },
    {
      "cell_type": "code",
      "source": [
        "def get_arepas (num):\n",
        "    arepa_bags = [20, 9, 6]\n",
        "    \n",
        "    while True:\n",
        "        if len(arepa_bags) == 0:\n",
        "            return num == 0\n",
        "            \n",
        "        if num >= arepa_bags[0]:\n",
        "            num -= arepa_bags[0]\n",
        "        \n",
        "        if num < arepa_bags[0]:\n",
        "            arepa_bags = arepa_bags[1:]\n",
        "\n(get_arepas(20), get_arepas(19))"
      ],
      "outputs": [
        {
          "output_type": "execute_result",
          "execution_count": 6,
          "data": {
            "text/plain": [
              "(True, False)"
            ]
          },
          "metadata": {}
        }
      ],
      "execution_count": 6,
      "metadata": {
        "id": "lAnadUVrj8kx",
        "colab_type": "code",
        "colab": {}
      }
    }
  ],
  "metadata": {
    "colab": {
      "name": "Parcial1_IntroCS.ipynb",
      "version": "0.3.2",
      "provenance": [],
      "collapsed_sections": []
    },
    "kernelspec": {
      "name": "python3",
      "language": "python",
      "display_name": "Python 3"
    },
    "kernel_info": {
      "name": "python3"
    },
    "language_info": {
      "name": "python",
      "version": "3.7.2",
      "mimetype": "text/x-python",
      "codemirror_mode": {
        "name": "ipython",
        "version": 3
      },
      "pygments_lexer": "ipython3",
      "nbconvert_exporter": "python",
      "file_extension": ".py"
    },
    "nteract": {
      "version": "0.12.3"
    }
  },
  "nbformat": 4,
  "nbformat_minor": 0
}