{
  "nbformat": 4,
  "nbformat_minor": 0,
  "metadata": {
    "colab": {
      "name": "04_IterativeExpressions.ipynb",
      "version": "0.3.2",
      "provenance": [],
      "collapsed_sections": []
    },
    "kernelspec": {
      "name": "python3",
      "display_name": "Python 3"
    }
  },
  "cells": [
    {
      "metadata": {
        "id": "3oxedQvB1c5p",
        "colab_type": "text"
      },
      "cell_type": "markdown",
      "source": [
        "<table>\n",
        "  <tr align=left>\n",
        "    <td><img align=left src=\"https://drive.google.com/uc?export=view&id=1edefIUL_iwWk4K3KtrNynSJ0Qvpdb2YY\"></td>\n",
        "    <td>Text provided under a Creative Commons Attribution license, CC-BY. All code is made available under the FSF-approved MIT license. &copy; Francisco Gómez</td>\n",
        "  </tr>\n",
        "</table>"
      ]
    },
    {
      "metadata": {
        "id": "Xq_hs1jGRtLR",
        "colab_type": "text"
      },
      "cell_type": "markdown",
      "source": [
        "*“People think that computer science is the art of geniuses but the actual reality is the opposite, just many people doing things that build on eachother, like a wall of mini stones.” *\n",
        "\n",
        "__Donald Knuth__"
      ]
    },
    {
      "metadata": {
        "id": "zYW3ZR0NSLk7",
        "colab_type": "text"
      },
      "cell_type": "markdown",
      "source": [
        "## Problemas"
      ]
    },
    {
      "metadata": {
        "id": "Lw7Zrm0lJ52N",
        "colab_type": "text"
      },
      "cell_type": "markdown",
      "source": [
        "* Escriba un programa que adivine números entre 1 y 9"
      ]
    },
    {
      "metadata": {
        "id": "RUcWXtUQJ9E0",
        "colab_type": "code",
        "colab": {}
      },
      "cell_type": "code",
      "source": [
        "from random import randint\n",
        "\n",
        "while True:\n",
        "    try:\n",
        "        print('Ingresa un número entre 1 y 9')\n",
        "        a = int(input())\n",
        "        r = randint(1, 9)\n",
        "        if a == r:\n",
        "            print('Has adivinado!')\n",
        "        else:\n",
        "            print('Lo siento. Sigue intentando')\n",
        "            print()\n",
        "    except KeyboardInterrupt:\n",
        "        break"
      ],
      "execution_count": 0,
      "outputs": []
    },
    {
      "metadata": {
        "id": "B72fnfAPFZNz",
        "colab_type": "text"
      },
      "cell_type": "markdown",
      "source": [
        "* Calcular un número elevado a otro número utilizando el método de multiplicaciones sucesivas"
      ]
    },
    {
      "metadata": {
        "id": "JiCFfhv2FZWL",
        "colab_type": "code",
        "colab": {
          "base_uri": "https://localhost:8080/",
          "height": 34
        },
        "outputId": "fda1e94a-934a-407f-b805-80a6da33b1e9"
      },
      "cell_type": "code",
      "source": [
        "def pow (a, n):\n",
        "    if n < 0:\n",
        "        return 'Error: Exponente negativo'\n",
        "    elif n == 0:\n",
        "        return 1\n",
        "    else:\n",
        "        res = 1\n",
        "        i = 0\n",
        "        while i < n:\n",
        "            res *= a\n",
        "            i += 1\n",
        "        return res\n",
        "\n",
        "(pow(2, 3), pow(1000, 0), pow(1, -1))"
      ],
      "execution_count": 14,
      "outputs": [
        {
          "output_type": "execute_result",
          "data": {
            "text/plain": [
              "(8, 1, 'Error: Exponente negativo')"
            ]
          },
          "metadata": {
            "tags": []
          },
          "execution_count": 14
        }
      ]
    },
    {
      "metadata": {
        "id": "FP5SChrPE1qp",
        "colab_type": "text"
      },
      "cell_type": "markdown",
      "source": [
        "* Encuentre los números que son divisibles por 7 y múltiplos de 5, entre 3500 y 4700"
      ]
    },
    {
      "metadata": {
        "id": "HXJhejw4FLsy",
        "colab_type": "code",
        "colab": {
          "base_uri": "https://localhost:8080/",
          "height": 612
        },
        "outputId": "08f73870-a4fe-481a-a7d9-63341d04a763"
      },
      "cell_type": "code",
      "source": [
        "n = 3500\n",
        "while n <= 4700:\n",
        "    if not (n % 7) and not (n % 5): print(n)\n",
        "    n += 1"
      ],
      "execution_count": 23,
      "outputs": [
        {
          "output_type": "stream",
          "text": [
            "3500\n",
            "3535\n",
            "3570\n",
            "3605\n",
            "3640\n",
            "3675\n",
            "3710\n",
            "3745\n",
            "3780\n",
            "3815\n",
            "3850\n",
            "3885\n",
            "3920\n",
            "3955\n",
            "3990\n",
            "4025\n",
            "4060\n",
            "4095\n",
            "4130\n",
            "4165\n",
            "4200\n",
            "4235\n",
            "4270\n",
            "4305\n",
            "4340\n",
            "4375\n",
            "4410\n",
            "4445\n",
            "4480\n",
            "4515\n",
            "4550\n",
            "4585\n",
            "4620\n",
            "4655\n",
            "4690\n"
          ],
          "name": "stdout"
        }
      ]
    },
    {
      "metadata": {
        "id": "OKKbv1BKFMex",
        "colab_type": "text"
      },
      "cell_type": "markdown",
      "source": [
        "- Escriba un programa que obtenga los valores de la serie de Fibonacci entre 100 y 200"
      ]
    },
    {
      "metadata": {
        "id": "1f_EIYa9FMp2",
        "colab_type": "code",
        "colab": {
          "base_uri": "https://localhost:8080/",
          "height": 1734
        },
        "outputId": "cc012a40-2753-444e-cae6-45e867c86df6"
      },
      "cell_type": "code",
      "source": [
        "fibo_array = [ 135301852344706746049, 218922995834555169026 ]\n",
        "\n",
        "n = 100\n",
        "while n <= 200:\n",
        "    fibo_array.append(fibo_array[-1] + fibo_array[-2])\n",
        "    print('fibonacci({:d}) = {:d}'.format(n, fibo_array[-1]))\n",
        "    n += 1"
      ],
      "execution_count": 21,
      "outputs": [
        {
          "output_type": "stream",
          "text": [
            "fibonacci(100) = 354224848179261915075\n",
            "fibonacci(101) = 573147844013817084101\n",
            "fibonacci(102) = 927372692193078999176\n",
            "fibonacci(103) = 1500520536206896083277\n",
            "fibonacci(104) = 2427893228399975082453\n",
            "fibonacci(105) = 3928413764606871165730\n",
            "fibonacci(106) = 6356306993006846248183\n",
            "fibonacci(107) = 10284720757613717413913\n",
            "fibonacci(108) = 16641027750620563662096\n",
            "fibonacci(109) = 26925748508234281076009\n",
            "fibonacci(110) = 43566776258854844738105\n",
            "fibonacci(111) = 70492524767089125814114\n",
            "fibonacci(112) = 114059301025943970552219\n",
            "fibonacci(113) = 184551825793033096366333\n",
            "fibonacci(114) = 298611126818977066918552\n",
            "fibonacci(115) = 483162952612010163284885\n",
            "fibonacci(116) = 781774079430987230203437\n",
            "fibonacci(117) = 1264937032042997393488322\n",
            "fibonacci(118) = 2046711111473984623691759\n",
            "fibonacci(119) = 3311648143516982017180081\n",
            "fibonacci(120) = 5358359254990966640871840\n",
            "fibonacci(121) = 8670007398507948658051921\n",
            "fibonacci(122) = 14028366653498915298923761\n",
            "fibonacci(123) = 22698374052006863956975682\n",
            "fibonacci(124) = 36726740705505779255899443\n",
            "fibonacci(125) = 59425114757512643212875125\n",
            "fibonacci(126) = 96151855463018422468774568\n",
            "fibonacci(127) = 155576970220531065681649693\n",
            "fibonacci(128) = 251728825683549488150424261\n",
            "fibonacci(129) = 407305795904080553832073954\n",
            "fibonacci(130) = 659034621587630041982498215\n",
            "fibonacci(131) = 1066340417491710595814572169\n",
            "fibonacci(132) = 1725375039079340637797070384\n",
            "fibonacci(133) = 2791715456571051233611642553\n",
            "fibonacci(134) = 4517090495650391871408712937\n",
            "fibonacci(135) = 7308805952221443105020355490\n",
            "fibonacci(136) = 11825896447871834976429068427\n",
            "fibonacci(137) = 19134702400093278081449423917\n",
            "fibonacci(138) = 30960598847965113057878492344\n",
            "fibonacci(139) = 50095301248058391139327916261\n",
            "fibonacci(140) = 81055900096023504197206408605\n",
            "fibonacci(141) = 131151201344081895336534324866\n",
            "fibonacci(142) = 212207101440105399533740733471\n",
            "fibonacci(143) = 343358302784187294870275058337\n",
            "fibonacci(144) = 555565404224292694404015791808\n",
            "fibonacci(145) = 898923707008479989274290850145\n",
            "fibonacci(146) = 1454489111232772683678306641953\n",
            "fibonacci(147) = 2353412818241252672952597492098\n",
            "fibonacci(148) = 3807901929474025356630904134051\n",
            "fibonacci(149) = 6161314747715278029583501626149\n",
            "fibonacci(150) = 9969216677189303386214405760200\n",
            "fibonacci(151) = 16130531424904581415797907386349\n",
            "fibonacci(152) = 26099748102093884802012313146549\n",
            "fibonacci(153) = 42230279526998466217810220532898\n",
            "fibonacci(154) = 68330027629092351019822533679447\n",
            "fibonacci(155) = 110560307156090817237632754212345\n",
            "fibonacci(156) = 178890334785183168257455287891792\n",
            "fibonacci(157) = 289450641941273985495088042104137\n",
            "fibonacci(158) = 468340976726457153752543329995929\n",
            "fibonacci(159) = 757791618667731139247631372100066\n",
            "fibonacci(160) = 1226132595394188293000174702095995\n",
            "fibonacci(161) = 1983924214061919432247806074196061\n",
            "fibonacci(162) = 3210056809456107725247980776292056\n",
            "fibonacci(163) = 5193981023518027157495786850488117\n",
            "fibonacci(164) = 8404037832974134882743767626780173\n",
            "fibonacci(165) = 13598018856492162040239554477268290\n",
            "fibonacci(166) = 22002056689466296922983322104048463\n",
            "fibonacci(167) = 35600075545958458963222876581316753\n",
            "fibonacci(168) = 57602132235424755886206198685365216\n",
            "fibonacci(169) = 93202207781383214849429075266681969\n",
            "fibonacci(170) = 150804340016807970735635273952047185\n",
            "fibonacci(171) = 244006547798191185585064349218729154\n",
            "fibonacci(172) = 394810887814999156320699623170776339\n",
            "fibonacci(173) = 638817435613190341905763972389505493\n",
            "fibonacci(174) = 1033628323428189498226463595560281832\n",
            "fibonacci(175) = 1672445759041379840132227567949787325\n",
            "fibonacci(176) = 2706074082469569338358691163510069157\n",
            "fibonacci(177) = 4378519841510949178490918731459856482\n",
            "fibonacci(178) = 7084593923980518516849609894969925639\n",
            "fibonacci(179) = 11463113765491467695340528626429782121\n",
            "fibonacci(180) = 18547707689471986212190138521399707760\n",
            "fibonacci(181) = 30010821454963453907530667147829489881\n",
            "fibonacci(182) = 48558529144435440119720805669229197641\n",
            "fibonacci(183) = 78569350599398894027251472817058687522\n",
            "fibonacci(184) = 127127879743834334146972278486287885163\n",
            "fibonacci(185) = 205697230343233228174223751303346572685\n",
            "fibonacci(186) = 332825110087067562321196029789634457848\n",
            "fibonacci(187) = 538522340430300790495419781092981030533\n",
            "fibonacci(188) = 871347450517368352816615810882615488381\n",
            "fibonacci(189) = 1409869790947669143312035591975596518914\n",
            "fibonacci(190) = 2281217241465037496128651402858212007295\n",
            "fibonacci(191) = 3691087032412706639440686994833808526209\n",
            "fibonacci(192) = 5972304273877744135569338397692020533504\n",
            "fibonacci(193) = 9663391306290450775010025392525829059713\n",
            "fibonacci(194) = 15635695580168194910579363790217849593217\n",
            "fibonacci(195) = 25299086886458645685589389182743678652930\n",
            "fibonacci(196) = 40934782466626840596168752972961528246147\n",
            "fibonacci(197) = 66233869353085486281758142155705206899077\n",
            "fibonacci(198) = 107168651819712326877926895128666735145224\n",
            "fibonacci(199) = 173402521172797813159685037284371942044301\n",
            "fibonacci(200) = 280571172992510140037611932413038677189525\n"
          ],
          "name": "stdout"
        }
      ]
    },
    {
      "metadata": {
        "id": "PgqWFNG5MH_S",
        "colab_type": "text"
      },
      "cell_type": "markdown",
      "source": [
        "- Calcule la secuencia de Padovan (1, 1, 1, 2, 2, 3, 4, 5, 7, 9, 12, 16...) para un n arbitrario"
      ]
    },
    {
      "metadata": {
        "id": "CUESPjKTMIJS",
        "colab_type": "code",
        "colab": {
          "base_uri": "https://localhost:8080/",
          "height": 1751
        },
        "outputId": "53ea5610-5082-4d7f-cf70-c7bec8106d11"
      },
      "cell_type": "code",
      "source": [
        "def padovan (n):\n",
        "    seq = [ 1, 1, 1 ]\n",
        "    i = 2\n",
        "    if (n > i):\n",
        "        while i <= n:\n",
        "            seq.append(seq[-2] + seq[-3])\n",
        "            i += 1\n",
        "    return seq\n",
        "\n",
        "padovan(100)"
      ],
      "execution_count": 29,
      "outputs": [
        {
          "output_type": "execute_result",
          "data": {
            "text/plain": [
              "[1,\n",
              " 1,\n",
              " 1,\n",
              " 2,\n",
              " 2,\n",
              " 3,\n",
              " 4,\n",
              " 5,\n",
              " 7,\n",
              " 9,\n",
              " 12,\n",
              " 16,\n",
              " 21,\n",
              " 28,\n",
              " 37,\n",
              " 49,\n",
              " 65,\n",
              " 86,\n",
              " 114,\n",
              " 151,\n",
              " 200,\n",
              " 265,\n",
              " 351,\n",
              " 465,\n",
              " 616,\n",
              " 816,\n",
              " 1081,\n",
              " 1432,\n",
              " 1897,\n",
              " 2513,\n",
              " 3329,\n",
              " 4410,\n",
              " 5842,\n",
              " 7739,\n",
              " 10252,\n",
              " 13581,\n",
              " 17991,\n",
              " 23833,\n",
              " 31572,\n",
              " 41824,\n",
              " 55405,\n",
              " 73396,\n",
              " 97229,\n",
              " 128801,\n",
              " 170625,\n",
              " 226030,\n",
              " 299426,\n",
              " 396655,\n",
              " 525456,\n",
              " 696081,\n",
              " 922111,\n",
              " 1221537,\n",
              " 1618192,\n",
              " 2143648,\n",
              " 2839729,\n",
              " 3761840,\n",
              " 4983377,\n",
              " 6601569,\n",
              " 8745217,\n",
              " 11584946,\n",
              " 15346786,\n",
              " 20330163,\n",
              " 26931732,\n",
              " 35676949,\n",
              " 47261895,\n",
              " 62608681,\n",
              " 82938844,\n",
              " 109870576,\n",
              " 145547525,\n",
              " 192809420,\n",
              " 255418101,\n",
              " 338356945,\n",
              " 448227521,\n",
              " 593775046,\n",
              " 786584466,\n",
              " 1042002567,\n",
              " 1380359512,\n",
              " 1828587033,\n",
              " 2422362079,\n",
              " 3208946545,\n",
              " 4250949112,\n",
              " 5631308624,\n",
              " 7459895657,\n",
              " 9882257736,\n",
              " 13091204281,\n",
              " 17342153393,\n",
              " 22973462017,\n",
              " 30433357674,\n",
              " 40315615410,\n",
              " 53406819691,\n",
              " 70748973084,\n",
              " 93722435101,\n",
              " 124155792775,\n",
              " 164471408185,\n",
              " 217878227876,\n",
              " 288627200960,\n",
              " 382349636061,\n",
              " 506505428836,\n",
              " 670976837021,\n",
              " 888855064897,\n",
              " 1177482265857,\n",
              " 1559831901918]"
            ]
          },
          "metadata": {
            "tags": []
          },
          "execution_count": 29
        }
      ]
    },
    {
      "metadata": {
        "id": "w6aG4ekFFfv8",
        "colab_type": "text"
      },
      "cell_type": "markdown",
      "source": [
        "- Determine si un número es primo o no"
      ]
    },
    {
      "metadata": {
        "id": "-91xnpfrFf3S",
        "colab_type": "code",
        "colab": {
          "base_uri": "https://localhost:8080/",
          "height": 34
        },
        "outputId": "8e8f9b48-d797-49e1-b74f-e4c215877ed0"
      },
      "cell_type": "code",
      "source": [
        "def is_prime (n):\n",
        "    i = 2\n",
        "    while i < n:\n",
        "        if n % i == 0:\n",
        "            return False\n",
        "        i += 1\n",
        "    return True\n",
        "\n"
      ],
      "execution_count": 26,
      "outputs": [
        {
          "output_type": "execute_result",
          "data": {
            "text/plain": [
              "(True, False)"
            ]
          },
          "metadata": {
            "tags": []
          },
          "execution_count": 26
        }
      ]
    },
    {
      "metadata": {
        "id": "47xu0dynFw9R",
        "colab_type": "text"
      },
      "cell_type": "markdown",
      "source": [
        "- Determine si un número es compuesto o no"
      ]
    },
    {
      "metadata": {
        "id": "MzX3bSIxFxIa",
        "colab_type": "code",
        "colab": {
          "base_uri": "https://localhost:8080/",
          "height": 34
        },
        "outputId": "34949b78-9fd0-41a2-9f1c-b3be205b4dd4"
      },
      "cell_type": "code",
      "source": [
        "def is_composite (n):\n",
        "    return not is_prime(n)\n",
        "\n",
        "(is_composite(7), is_composite(12))"
      ],
      "execution_count": 27,
      "outputs": [
        {
          "output_type": "execute_result",
          "data": {
            "text/plain": [
              "(False, True)"
            ]
          },
          "metadata": {
            "tags": []
          },
          "execution_count": 27
        }
      ]
    },
    {
      "metadata": {
        "id": "S599fJnrLlk7",
        "colab_type": "text"
      },
      "cell_type": "markdown",
      "source": [
        "* Aproxime pi utilizando los 100 primeros términos de la serie de Ramanujan–Sato"
      ]
    },
    {
      "metadata": {
        "id": "Uvy08g4MLlxU",
        "colab_type": "code",
        "colab": {}
      },
      "cell_type": "code",
      "source": [
        "from math import sqrt\n",
        "\n",
        "def pi_by_ramanujan(n):\n",
        "    s = 0\n",
        "    \n",
        "    for i in range(0, n + 1):\n",
        "        \n",
        "    \n",
        "    return (99 ** 2)/(2 * sqrt(2) * s)\n",
        "\n",
        "pi_by_ramanujan(100)"
      ],
      "execution_count": 0,
      "outputs": []
    },
    {
      "metadata": {
        "id": "kluLrKL7LphH",
        "colab_type": "text"
      },
      "cell_type": "markdown",
      "source": [
        "* Determine si un número es narcisista"
      ]
    },
    {
      "metadata": {
        "id": "9PisdmFlLprA",
        "colab_type": "code",
        "colab": {}
      },
      "cell_type": "code",
      "source": [
        ""
      ],
      "execution_count": 0,
      "outputs": []
    },
    {
      "metadata": {
        "id": "1emFpwGjL6o9",
        "colab_type": "text"
      },
      "cell_type": "markdown",
      "source": [
        "* Determine si un número es primo fuerte "
      ]
    },
    {
      "metadata": {
        "id": "O4FldweFcSAj",
        "colab_type": "code",
        "colab": {}
      },
      "cell_type": "code",
      "source": [
        ""
      ],
      "execution_count": 0,
      "outputs": []
    },
    {
      "metadata": {
        "id": "GjFkz87icRKv",
        "colab_type": "text"
      },
      "cell_type": "markdown",
      "source": [
        "* Determine si un número es perfecto o no "
      ]
    },
    {
      "metadata": {
        "id": "ycutVAZZL6wL",
        "colab_type": "code",
        "colab": {}
      },
      "cell_type": "code",
      "source": [
        ""
      ],
      "execution_count": 0,
      "outputs": []
    },
    {
      "metadata": {
        "id": "gbgnZsxccVJc",
        "colab_type": "text"
      },
      "cell_type": "markdown",
      "source": [
        "* Determine si un número es semiperfecto"
      ]
    },
    {
      "metadata": {
        "id": "lEOuUIJNcVUE",
        "colab_type": "code",
        "colab": {}
      },
      "cell_type": "code",
      "source": [
        ""
      ],
      "execution_count": 0,
      "outputs": []
    },
    {
      "metadata": {
        "id": "AxQWaXKjcYGm",
        "colab_type": "text"
      },
      "cell_type": "markdown",
      "source": [
        "* Determine si un número es abundante"
      ]
    },
    {
      "metadata": {
        "id": "P0QvK-JrcYPl",
        "colab_type": "code",
        "colab": {}
      },
      "cell_type": "code",
      "source": [
        ""
      ],
      "execution_count": 0,
      "outputs": []
    },
    {
      "metadata": {
        "id": "CUX_zeJKcand",
        "colab_type": "text"
      },
      "cell_type": "markdown",
      "source": [
        "* Calcule el n-esimo término de la secuencia de Ulam"
      ]
    },
    {
      "metadata": {
        "id": "aC8aejmlcaym",
        "colab_type": "code",
        "colab": {}
      },
      "cell_type": "code",
      "source": [
        ""
      ],
      "execution_count": 0,
      "outputs": []
    },
    {
      "metadata": {
        "id": "FN4kJotHcdX0",
        "colab_type": "text"
      },
      "cell_type": "markdown",
      "source": [
        "* Calcule el doble factorial de un número"
      ]
    },
    {
      "metadata": {
        "id": "loTsOI4CcdiU",
        "colab_type": "code",
        "colab": {}
      },
      "cell_type": "code",
      "source": [
        ""
      ],
      "execution_count": 0,
      "outputs": []
    },
    {
      "metadata": {
        "id": "zXCcY8eAcf1r",
        "colab_type": "text"
      },
      "cell_type": "markdown",
      "source": [
        "* Calcule el subfactorial de un número"
      ]
    },
    {
      "metadata": {
        "id": "Nwmr27ZscgAG",
        "colab_type": "code",
        "colab": {}
      },
      "cell_type": "code",
      "source": [
        ""
      ],
      "execution_count": 0,
      "outputs": []
    },
    {
      "metadata": {
        "id": "XSvu3IFocio3",
        "colab_type": "text"
      },
      "cell_type": "markdown",
      "source": [
        "* Calcule los 6 primeros números de Dedekin"
      ]
    },
    {
      "metadata": {
        "id": "dr93hm63ciyb",
        "colab_type": "code",
        "colab": {}
      },
      "cell_type": "code",
      "source": [
        ""
      ],
      "execution_count": 0,
      "outputs": []
    }
  ]
}