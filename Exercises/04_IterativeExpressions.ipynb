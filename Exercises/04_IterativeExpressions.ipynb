{
  "cells": [
    {
      "cell_type": "markdown",
      "source": [
        "[texto del enlace](https://)<table>\n",
        " <tr align=left><td><img align=left src=\"https://drive.google.com/uc?export=view&id=1edefIUL_iwWk4K3KtrNynSJ0Qvpdb2YY\">\n",
        " <td>Text provided under a Creative Commons Attribution license, CC-BY. All code is made available under the FSF-approved MIT license. (c) Francisco Gómez</td>\n",
        "</table>"
      ],
      "metadata": {
        "id": "3oxedQvB1c5p",
        "colab_type": "text",
        "slideshow": {
          "slide_type": "skip"
        }
      }
    },
    {
      "cell_type": "markdown",
      "source": [
        "*“People think that computer science is the art of geniuses but the actual reality is the opposite, just many people doing things that build on eachother, like a wall of mini stones.” *\n",
        "\n__Donald Knuth__"
      ],
      "metadata": {
        "id": "Xq_hs1jGRtLR",
        "colab_type": "text"
      }
    },
    {
      "cell_type": "markdown",
      "source": [
        "## Problemas"
      ],
      "metadata": {
        "id": "zYW3ZR0NSLk7",
        "colab_type": "text"
      }
    },
    {
      "cell_type": "markdown",
      "source": [
        "* Escriba un programa que adivine números entre 1 y 9"
      ],
      "metadata": {
        "id": "Lw7Zrm0lJ52N",
        "colab_type": "text"
      }
    },
    {
      "cell_type": "code",
      "source": [
        "from random import randint\n",
        "\n",
        "guess = lambda n: 'Adivinaste!' if randint(1, 9) == n else 'No adivinaste!'\n",
        "\n",
        "for i in range(9):\n",
        "    print(guess(randint(1, 9)))"
      ],
      "outputs": [
        {
          "output_type": "stream",
          "name": "stdout",
          "text": [
            "No adivinaste!\n",
            "No adivinaste!\n",
            "No adivinaste!\n",
            "No adivinaste!\n",
            "No adivinaste!\n",
            "No adivinaste!\n",
            "No adivinaste!\n",
            "No adivinaste!\n",
            "No adivinaste!\n"
          ]
        }
      ],
      "execution_count": 1,
      "metadata": {
        "id": "RUcWXtUQJ9E0",
        "colab_type": "code",
        "colab": {}
      }
    },
    {
      "cell_type": "markdown",
      "source": [
        "* Calcular un número elevado a otro número utilizando el método de multiplicaciones sucesivas"
      ],
      "metadata": {
        "id": "B72fnfAPFZNz",
        "colab_type": "text"
      }
    },
    {
      "cell_type": "code",
      "source": [
        "def power (n, m):\n",
        "    x = 1\n",
        "    for i in range(m):\n",
        "        x *= n\n",
        "\n",
        "    return x\n",
        "\npower(2, 3) == 8"
      ],
      "outputs": [
        {
          "output_type": "execute_result",
          "execution_count": 2,
          "data": {
            "text/plain": [
              "True"
            ]
          },
          "metadata": {}
        }
      ],
      "execution_count": 2,
      "metadata": {
        "id": "JiCFfhv2FZWL",
        "colab_type": "code",
        "colab": {}
      }
    },
    {
      "cell_type": "markdown",
      "source": [
        "* Encuentre los números que son divisibles por 7 y múltiplos de 5, entre 3500 y 4700"
      ],
      "metadata": {
        "id": "FP5SChrPE1qp",
        "colab_type": "text"
      }
    },
    {
      "cell_type": "code",
      "source": [
        "response = []\n",
        "\n",
        "for i in range(3500, 4701):\n",
        "    if not i % 35:\n",
        "        response.append(i)\n",
        "\nresponse"
      ],
      "outputs": [
        {
          "output_type": "execute_result",
          "execution_count": 3,
          "data": {
            "text/plain": [
              "[3500,\n",
              " 3535,\n",
              " 3570,\n",
              " 3605,\n",
              " 3640,\n",
              " 3675,\n",
              " 3710,\n",
              " 3745,\n",
              " 3780,\n",
              " 3815,\n",
              " 3850,\n",
              " 3885,\n",
              " 3920,\n",
              " 3955,\n",
              " 3990,\n",
              " 4025,\n",
              " 4060,\n",
              " 4095,\n",
              " 4130,\n",
              " 4165,\n",
              " 4200,\n",
              " 4235,\n",
              " 4270,\n",
              " 4305,\n",
              " 4340,\n",
              " 4375,\n",
              " 4410,\n",
              " 4445,\n",
              " 4480,\n",
              " 4515,\n",
              " 4550,\n",
              " 4585,\n",
              " 4620,\n",
              " 4655,\n",
              " 4690]"
            ]
          },
          "metadata": {}
        }
      ],
      "execution_count": 3,
      "metadata": {
        "id": "HXJhejw4FLsy",
        "colab_type": "code",
        "colab": {}
      }
    },
    {
      "cell_type": "markdown",
      "source": [
        "- Escriba un programa que obtenga los valores de la serie de Fibonacci entre 100 y 200"
      ],
      "metadata": {
        "id": "OKKbv1BKFMex",
        "colab_type": "text"
      }
    },
    {
      "cell_type": "code",
      "source": [
        "fibonacci = [ 1, 2 ]\n",
        "numbers = []\n",
        "\n",
        "while fibonacci[-1] <= 200:\n",
        "    number = fibonacci[-1] + fibonacci[-2]\n",
        "    if number >= 100 and number <= 200:\n",
        "        numbers.append(number)\n",
        "    fibonacci.append(number)\n",
        "\nnumbers"
      ],
      "outputs": [
        {
          "output_type": "execute_result",
          "execution_count": 4,
          "data": {
            "text/plain": [
              "[144]"
            ]
          },
          "metadata": {}
        }
      ],
      "execution_count": 4,
      "metadata": {
        "id": "1f_EIYa9FMp2",
        "colab_type": "code",
        "colab": {}
      }
    },
    {
      "cell_type": "markdown",
      "source": [
        "- Calcule la secuencia de Padovan (1, 1, 1, 2, 2, 3, 4, 5, 7, 9, 12, 16...) para un n arbitrario"
      ],
      "metadata": {
        "id": "PgqWFNG5MH_S",
        "colab_type": "text"
      }
    },
    {
      "cell_type": "code",
      "source": [
        "padovan = lambda n: 1 if n < 3 else padovan(n - 2) + padovan(n - 3)\n",
        "\npadovan(11) == 16"
      ],
      "outputs": [
        {
          "output_type": "execute_result",
          "execution_count": 5,
          "data": {
            "text/plain": [
              "True"
            ]
          },
          "metadata": {}
        }
      ],
      "execution_count": 5,
      "metadata": {
        "id": "CUESPjKTMIJS",
        "colab_type": "code",
        "colab": {}
      }
    },
    {
      "cell_type": "markdown",
      "source": [
        "- Determine si un número es primo o no"
      ],
      "metadata": {
        "id": "w6aG4ekFFfv8",
        "colab_type": "text"
      }
    },
    {
      "cell_type": "code",
      "source": [
        "def is_prime (n):\n",
        "    for i in range(2, n + 1):\n",
        "        if not n % i and n != i:\n",
        "            return False\n",
        "        \n",
        "    return True\n",
        "\n(is_prime(7), is_prime(9))"
      ],
      "outputs": [
        {
          "output_type": "execute_result",
          "execution_count": 6,
          "data": {
            "text/plain": [
              "(True, False)"
            ]
          },
          "metadata": {}
        }
      ],
      "execution_count": 6,
      "metadata": {
        "id": "-91xnpfrFf3S",
        "colab_type": "code",
        "colab": {}
      }
    },
    {
      "cell_type": "markdown",
      "source": [
        "- Determine si un número es compuesto o no"
      ],
      "metadata": {
        "id": "47xu0dynFw9R",
        "colab_type": "text"
      }
    },
    {
      "cell_type": "code",
      "source": [
        "is_composite = lambda n: not is_prime(n)\n",
        "\n(is_composite(7), is_composite(9))"
      ],
      "outputs": [
        {
          "output_type": "execute_result",
          "execution_count": 7,
          "data": {
            "text/plain": [
              "(False, True)"
            ]
          },
          "metadata": {}
        }
      ],
      "execution_count": 7,
      "metadata": {
        "id": "MzX3bSIxFxIa",
        "colab_type": "code",
        "colab": {}
      }
    },
    {
      "cell_type": "markdown",
      "source": [
        "* Aproxime pi utilizando los 100 primeros términos de la serie de Ramanujan–Sato"
      ],
      "metadata": {
        "id": "S599fJnrLlk7",
        "colab_type": "text"
      }
    },
    {
      "cell_type": "code",
      "source": [
        "from math import sqrt, factorial\n",
        "\n",
        "ramanujan_sato_sum = lambda n: (2 * sqrt(2)) / (99 ** 2) * sum([\n",
        "    int(factorial(4 * k) / (factorial(k) ** 4)) * \n",
        "    int((26390 * k + 1103) / (396 ** (4 * k)))\n",
        "    \n",
        "    for k in range(0, n + 1)\n",
        "])\n",
        "\n",
        "pi = 1 / ramanujan_sato_sum(100)\n",
        "\npi"
      ],
      "outputs": [
        {
          "output_type": "execute_result",
          "execution_count": 8,
          "data": {
            "text/plain": [
              "3.1415927300133055"
            ]
          },
          "metadata": {}
        }
      ],
      "execution_count": 8,
      "metadata": {
        "id": "Uvy08g4MLlxU",
        "colab_type": "code",
        "colab": {}
      }
    },
    {
      "cell_type": "markdown",
      "source": [
        "* Determine si un número es narcisista"
      ],
      "metadata": {
        "id": "kluLrKL7LphH",
        "colab_type": "text"
      }
    },
    {
      "cell_type": "code",
      "source": [
        "from math import log10\n",
        "\n",
        "def narcissist (n):\n",
        "    (d, k, sum) = (n, int(log10(n)) + 1, 0)\n",
        "\n",
        "    while d > 0:\n",
        "        sum += int((d % 10) ** k)\n",
        "        d = d // 10\n",
        "\n",
        "    return sum == n\n",
        "\n(narcissist(10), narcissist(1634))"
      ],
      "outputs": [
        {
          "output_type": "execute_result",
          "execution_count": 9,
          "data": {
            "text/plain": [
              "(False, True)"
            ]
          },
          "metadata": {}
        }
      ],
      "execution_count": 9,
      "metadata": {
        "id": "9PisdmFlLprA",
        "colab_type": "code",
        "colab": {}
      }
    },
    {
      "cell_type": "markdown",
      "source": [
        "* Determine si un número es primo fuerte "
      ],
      "metadata": {
        "id": "1emFpwGjL6o9",
        "colab_type": "text"
      }
    },
    {
      "cell_type": "code",
      "source": [],
      "outputs": [],
      "execution_count": 10,
      "metadata": {
        "id": "O4FldweFcSAj",
        "colab_type": "code",
        "colab": {}
      }
    },
    {
      "cell_type": "markdown",
      "source": [
        "* Determine si un número es perfecto o no "
      ],
      "metadata": {
        "id": "GjFkz87icRKv",
        "colab_type": "text"
      }
    },
    {
      "cell_type": "code",
      "source": [],
      "outputs": [],
      "execution_count": 10,
      "metadata": {
        "id": "ycutVAZZL6wL",
        "colab_type": "code",
        "colab": {}
      }
    },
    {
      "cell_type": "markdown",
      "source": [
        "* Determine si un número es semiperfecto"
      ],
      "metadata": {
        "id": "gbgnZsxccVJc",
        "colab_type": "text"
      }
    },
    {
      "cell_type": "code",
      "source": [],
      "outputs": [],
      "execution_count": 10,
      "metadata": {
        "id": "lEOuUIJNcVUE",
        "colab_type": "code",
        "colab": {}
      }
    },
    {
      "cell_type": "markdown",
      "source": [
        "* Determine si un número es abundante"
      ],
      "metadata": {
        "id": "AxQWaXKjcYGm",
        "colab_type": "text"
      }
    },
    {
      "cell_type": "code",
      "source": [],
      "outputs": [],
      "execution_count": 10,
      "metadata": {
        "id": "P0QvK-JrcYPl",
        "colab_type": "code",
        "colab": {}
      }
    },
    {
      "cell_type": "markdown",
      "source": [
        "* Calcule el n-esimo término de la secuencia de Ulam"
      ],
      "metadata": {
        "id": "CUX_zeJKcand",
        "colab_type": "text"
      }
    },
    {
      "cell_type": "code",
      "source": [],
      "outputs": [],
      "execution_count": 10,
      "metadata": {
        "id": "aC8aejmlcaym",
        "colab_type": "code",
        "colab": {}
      }
    },
    {
      "cell_type": "markdown",
      "source": [
        "* Calcule el doble factorial de un número"
      ],
      "metadata": {
        "id": "FN4kJotHcdX0",
        "colab_type": "text"
      }
    },
    {
      "cell_type": "code",
      "source": [
        "def factorial2 (n):\n",
        "    (mult, should) = (1, True)\n",
        "    \n",
        "    while n > 0:\n",
        "        if should:\n",
        "            mult *= n\n",
        "\n",
        "        should = not should\n",
        "        n -= 1\n",
        "    \n",
        "    return mult\n",
        "\nfactorial2(5) == 15"
      ],
      "outputs": [
        {
          "output_type": "execute_result",
          "execution_count": 10,
          "data": {
            "text/plain": [
              "True"
            ]
          },
          "metadata": {}
        }
      ],
      "execution_count": 10,
      "metadata": {
        "id": "loTsOI4CcdiU",
        "colab_type": "code",
        "colab": {}
      }
    },
    {
      "cell_type": "markdown",
      "source": [
        "* Calcule el subfactorial de un número"
      ],
      "metadata": {
        "id": "zXCcY8eAcf1r",
        "colab_type": "text"
      }
    },
    {
      "cell_type": "code",
      "source": [],
      "outputs": [],
      "execution_count": 11,
      "metadata": {
        "id": "Nwmr27ZscgAG",
        "colab_type": "code",
        "colab": {}
      }
    },
    {
      "cell_type": "markdown",
      "source": [
        "* Calcule los 6 primeros números de Dedekin"
      ],
      "metadata": {
        "id": "XSvu3IFocio3",
        "colab_type": "text"
      }
    },
    {
      "cell_type": "code",
      "source": [],
      "outputs": [],
      "execution_count": 11,
      "metadata": {
        "id": "dr93hm63ciyb",
        "colab_type": "code",
        "colab": {}
      }
    }
  ],
  "metadata": {
    "colab": {
      "name": "04_IterativeExpressions.ipynb",
      "version": "0.3.2",
      "provenance": []
    },
    "kernelspec": {
      "name": "python3",
      "language": "python",
      "display_name": "Python 3"
    },
    "kernel_info": {
      "name": "python3"
    },
    "language_info": {
      "name": "python",
      "version": "3.7.2",
      "mimetype": "text/x-python",
      "codemirror_mode": {
        "name": "ipython",
        "version": 3
      },
      "pygments_lexer": "ipython3",
      "nbconvert_exporter": "python",
      "file_extension": ".py"
    },
    "nteract": {
      "version": "0.12.3"
    }
  },
  "nbformat": 4,
  "nbformat_minor": 0
}