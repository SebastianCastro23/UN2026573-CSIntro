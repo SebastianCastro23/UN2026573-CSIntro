{
  "cells": [
    {
      "cell_type": "markdown",
      "source": [
        "[texto del enlace](https://)<table>\n",
        " <tr align=left><td><img align=left src=\"https://drive.google.com/uc?export=view&id=1edefIUL_iwWk4K3KtrNynSJ0Qvpdb2YY\">\n",
        " <td>Text provided under a Creative Commons Attribution license, CC-BY. All code is made available under the FSF-approved MIT license. (c) Francisco Gómez</td>\n",
        "</table>"
      ],
      "metadata": {
        "id": "3oxedQvB1c5p",
        "colab_type": "text",
        "slideshow": {
          "slide_type": "skip"
        }
      }
    },
    {
      "cell_type": "markdown",
      "source": [
        "*“when you don't create things, you become defined by your tastes rather than ability. your tastes only narrow & exclude people. so create.” *\n",
        "\n__Why The Lucky Stiff__"
      ],
      "metadata": {
        "id": "Xq_hs1jGRtLR",
        "colab_type": "text"
      }
    },
    {
      "cell_type": "markdown",
      "source": [
        "## Problemas"
      ],
      "metadata": {
        "id": "zYW3ZR0NSLk7",
        "colab_type": "text"
      }
    },
    {
      "cell_type": "markdown",
      "source": [
        "Para los siguientes problemas:\n",
        "1. [Especifique en lenguaje natural](https://courses.cs.vt.edu/csonline/Algorithms/Lessons/SpecifyingAlgorithms/index.html)\n",
        "2. Escriba el código en pyhton para los siguientes problemas. \n",
        "\nSi no esta familiarizado con pyhton puede utilizar ([blocky](https://blockly-demo.appspot.com/static/demos/code/index.html))."
      ],
      "metadata": {
        "id": "VGPAaTVmGR7h",
        "colab_type": "text"
      }
    },
    {
      "cell_type": "markdown",
      "source": [
        "* Calcule el área de un triángulo equilatero."
      ],
      "metadata": {
        "id": "B72fnfAPFZNz",
        "colab_type": "text"
      }
    },
    {
      "cell_type": "markdown",
      "source": [
        "Especificación:\n",
        "\n",
        "Para un triángulo equilátero de lado $l$, su área es:\n",
        "\n$A = \\frac{\\sqrt{3}}{4}l^2$"
      ],
      "metadata": {
        "id": "CZosDsZ8Mhp5",
        "colab_type": "text"
      }
    },
    {
      "cell_type": "code",
      "source": [
        "from math import sqrt\n",
        "\n",
        "equilateral_triangle_area = lambda l: sqrt(3)/4 * l ** 2\n",
        "\nequilateral_triangle_area(10)"
      ],
      "outputs": [
        {
          "output_type": "execute_result",
          "execution_count": 1,
          "data": {
            "text/plain": [
              "43.30127018922193"
            ]
          },
          "metadata": {}
        }
      ],
      "execution_count": 1,
      "metadata": {
        "id": "JiCFfhv2FZWL",
        "colab_type": "code",
        "colab": {}
      }
    },
    {
      "cell_type": "markdown",
      "source": [
        "* Verifique si un punto cualquiera en el plano se encuentra dentro de un circulo de radio 15 y centro en ()0,0)."
      ],
      "metadata": {
        "id": "FP5SChrPE1qp",
        "colab_type": "text"
      }
    },
    {
      "cell_type": "markdown",
      "source": [
        "Especificación:\n",
        "\n",
        "La distancia entre $\\langle x_c,y_c \\rangle$ y $\\langle x_p,y_p \\rangle$ está dada por el teorema de Pitágoras, así[<sup>1</sup>](https://math.stackexchange.com/questions/198764/how-to-know-if-a-point-is-inside-a-circle):\n",
        "\n",
        "$d = \\sqrt{(x_p - x_c)^2 + (y_p - y_c)^2}$\n",
        "\nEl punto $\\langle x_p,y_p \\rangle$ está dentro del círculo si $d < r$, sobre la circunferencia si $d = r$, y fuera del círculo si $d > r$."
      ],
      "metadata": {
        "id": "lDrps4GJMZCl",
        "colab_type": "text"
      }
    },
    {
      "cell_type": "code",
      "source": [
        "from math import sqrt\n",
        "\n",
        "is_inside_circle = lambda xc, yc, r, xp, yp: sqrt((xp - xc) ** 2 + (yp - yc) ** 2) <= r\n",
        "\nis_inside_circle(0, 0, 15, 5, 5)"
      ],
      "outputs": [
        {
          "output_type": "execute_result",
          "execution_count": 2,
          "data": {
            "text/plain": [
              "True"
            ]
          },
          "metadata": {}
        }
      ],
      "execution_count": 2,
      "metadata": {
        "id": "HXJhejw4FLsy",
        "colab_type": "code",
        "colab": {}
      }
    },
    {
      "cell_type": "markdown",
      "source": [
        "- Encuentre el área y el volumén de un toro"
      ],
      "metadata": {
        "id": "OKKbv1BKFMex",
        "colab_type": "text"
      }
    },
    {
      "cell_type": "markdown",
      "source": [
        "Especificación:"
      ],
      "metadata": {
        "id": "oE6KYD3gMkiy",
        "colab_type": "text"
      }
    },
    {
      "cell_type": "code",
      "source": [],
      "outputs": [],
      "execution_count": null,
      "metadata": {
        "id": "1f_EIYa9FMp2",
        "colab_type": "code",
        "colab": {}
      }
    },
    {
      "cell_type": "markdown",
      "source": [
        "- Encuentre el área de la unión de dos rectangulos."
      ],
      "metadata": {
        "id": "PgqWFNG5MH_S",
        "colab_type": "text"
      }
    },
    {
      "cell_type": "markdown",
      "source": [
        "Especificación:"
      ],
      "metadata": {
        "id": "ip48gHdNMmkj",
        "colab_type": "text"
      }
    },
    {
      "cell_type": "code",
      "source": [],
      "outputs": [],
      "execution_count": null,
      "metadata": {
        "id": "CUESPjKTMIJS",
        "colab_type": "code",
        "colab": {}
      }
    },
    {
      "cell_type": "markdown",
      "source": [
        "- Verifique si una lista con números es palindrome o no."
      ],
      "metadata": {
        "id": "w6aG4ekFFfv8",
        "colab_type": "text"
      }
    },
    {
      "cell_type": "markdown",
      "source": [
        "Especificación:\n",
        "\nEn este caso podemos ir comparando la cabeza y la cola de la lista, y luego eliminándolas de la misma, hasta que quede uno o ningún elemento, o hasta que cabeza y cola sean diferentes."
      ],
      "metadata": {
        "id": "yVWZR-0zMnf6",
        "colab_type": "text"
      }
    },
    {
      "cell_type": "code",
      "source": [
        "is_palyndrome = lambda l: True if len(l) <= 1 else l[0] == l[-1] and is_palyndrome(l[1:-1])\n",
        "\n",
        "print(is_palyndrome([1, 7, 7, 1]))\n",
        "print(is_palyndrome([1, 7, 4, 7, 1]))\n",
        "print(is_palyndrome([1, 6, 7, 1]))\n",
        "print(is_palyndrome([1, 7, 5, 2, 7, 1]))"
      ],
      "outputs": [
        {
          "output_type": "stream",
          "name": "stdout",
          "text": [
            "True\n",
            "True\n",
            "False\n",
            "False\n"
          ]
        }
      ],
      "execution_count": 5,
      "metadata": {
        "id": "-91xnpfrFf3S",
        "colab_type": "code",
        "colab": {}
      }
    },
    {
      "cell_type": "markdown",
      "source": [
        "- Un joyero vino de Siria para vender joyas en Bagdad. Prometió que pagaría por el hospedaje 20 dinares si el dueño de la hostería vendía todas las joyas por 100 dinares; y 35 dinares si las vendía por 200 dinares. Al cabo de varios días, tras andar de aquí para allá, acabó vendiéndolas todas por 140 dinares. ¿Cuánto debe pagar el joyero de acuerdo con el trato de hospedaje?"
      ],
      "metadata": {
        "id": "47xu0dynFw9R",
        "colab_type": "text"
      }
    },
    {
      "cell_type": "markdown",
      "source": [
        "Especificación:\n",
        "\n",
        "Para este problema hay dos posibles approach\n",
        "\n",
        "1. Definir el precio a pagar teniendo tres posibilidades:\n",
        "    1. Que se vendieran las joyas por 100 dinares, entonces se pagará 20 dinares.\n",
        "    2. Que se vendieran las joyas por 200 dinares, entonces se pagará 35 dinares.\n",
        "    3. Que se vendieran las joyas por otro valor, o no se hayan vendido, entonces no se pagará.\n",
        "2. Definir el precio a pagar teniendo tres posibilidades:\n",
        "    1. Que se vendieran las joyas por un valor inferior a 100 dinares, o no se hayan vendido, entonces no se pagará.\n",
        "    2. Que se vendieran las joyas por 100 dinares, como mínimo, entonces se pagará 20 dinares.\n",
        "    3. Que se vendieran las joyas por 200 dinares, como mínimo, entonces se pagará 35 dinares."
      ],
      "metadata": {
        "id": "ip0bTLoOMo6a",
        "colab_type": "text"
      }
    },
    {
      "cell_type": "code",
      "source": [
        "def pay_if (value):\n",
        "    if value == 100:\n",
        "        return 20\n",
        "    elif value == 200:\n",
        "        return 35\n",
        "    return 0\n",
        "\n",
        "def pay_from (value):\n",
        "    if value >= 100:\n",
        "        return 20\n",
        "    elif value >= 200:\n",
        "        return 35\n",
        "    return 0\n",
        "\n",
        "print('Pay if: {:d}'.format(pay_if(140)))\n",
        "print('Pay from {:d}'.format(pay_from(140)))"
      ],
      "outputs": [
        {
          "output_type": "stream",
          "name": "stdout",
          "text": [
            "Pay if: 0\n",
            "Pay from 20\n"
          ]
        }
      ],
      "execution_count": 6,
      "metadata": {
        "id": "MzX3bSIxFxIa",
        "colab_type": "code",
        "colab": {}
      }
    },
    {
      "cell_type": "markdown",
      "source": [
        "- Determine el área y el volumen de un cono truncado."
      ],
      "metadata": {
        "id": "U_pGWTaMH3Bj",
        "colab_type": "text"
      }
    },
    {
      "cell_type": "markdown",
      "source": [
        "Especificación:"
      ],
      "metadata": {
        "id": "H11fWvIjMqPC",
        "colab_type": "text"
      }
    },
    {
      "cell_type": "code",
      "source": [],
      "outputs": [],
      "execution_count": null,
      "metadata": {
        "id": "ovco97_WH202",
        "colab_type": "code",
        "colab": {}
      }
    },
    {
      "cell_type": "markdown",
      "source": [
        "- Cuente el número de ocurrencias de una variable $x$ en una lista."
      ],
      "metadata": {
        "id": "zenG-SPxJerZ",
        "colab_type": "text"
      }
    },
    {
      "cell_type": "markdown",
      "source": [
        "Especificación:"
      ],
      "metadata": {
        "id": "LP8Cvq59MrMC",
        "colab_type": "text"
      }
    },
    {
      "cell_type": "code",
      "source": [],
      "outputs": [],
      "execution_count": null,
      "metadata": {
        "id": "w2ogfRuDJX3j",
        "colab_type": "code",
        "colab": {}
      }
    },
    {
      "cell_type": "markdown",
      "source": [
        "- Dado un año de nacimiento determine el animal correspondiente en el calendario chino."
      ],
      "metadata": {
        "id": "H-LJAK7WLUdT",
        "colab_type": "text"
      }
    },
    {
      "cell_type": "markdown",
      "source": [
        "Especificación:"
      ],
      "metadata": {
        "id": "A0R9fDU0LU_h",
        "colab_type": "text"
      }
    },
    {
      "cell_type": "code",
      "source": [],
      "outputs": [],
      "execution_count": null,
      "metadata": {
        "id": "rD4KA2bNLVwk",
        "colab_type": "code",
        "colab": {}
      }
    },
    {
      "cell_type": "markdown",
      "source": [
        "- Genere el $n$-esimo termino de la []serie de Lucas(https://en.wikipedia.org/wiki/Lucas_number)."
      ],
      "metadata": {
        "id": "7dyDo3WmMV9P",
        "colab_type": "text"
      }
    },
    {
      "cell_type": "markdown",
      "source": [],
      "metadata": {
        "id": "6QyDrGi3MWHI",
        "colab_type": "text"
      }
    },
    {
      "cell_type": "code",
      "source": [],
      "outputs": [],
      "execution_count": null,
      "metadata": {
        "id": "d-KrshrZMWZe",
        "colab_type": "code",
        "colab": {}
      }
    }
  ],
  "metadata": {
    "colab": {
      "name": "01_IntroAlgorithms.ipynb",
      "version": "0.3.2",
      "provenance": []
    },
    "kernelspec": {
      "name": "python3",
      "language": "python",
      "display_name": "Python 3"
    },
    "kernel_info": {
      "name": "python3"
    },
    "language_info": {
      "name": "python",
      "version": "3.6.5",
      "mimetype": "text/x-python",
      "codemirror_mode": {
        "name": "ipython",
        "version": 3
      },
      "pygments_lexer": "ipython3",
      "nbconvert_exporter": "python",
      "file_extension": ".py"
    },
    "nteract": {
      "version": "0.11.6"
    }
  },
  "nbformat": 4,
  "nbformat_minor": 0
}