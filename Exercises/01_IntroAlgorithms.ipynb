{
  "cells": [
    {
      "cell_type": "markdown",
      "source": [
        "<table>\n",
        " <tr align=left><td><img align=left src=\"https://drive.google.com/uc?export=view&id=1edefIUL_iwWk4K3KtrNynSJ0Qvpdb2YY\">\n",
        " <td>Text provided under a Creative Commons Attribution license, CC-BY. All code is made available under the FSF-approved MIT license. (c) Francisco Gómez</td>\n",
        "</table>"
      ],
      "metadata": {
        "id": "3oxedQvB1c5p",
        "colab_type": "text",
        "slideshow": {
          "slide_type": "skip"
        }
      }
    },
    {
      "cell_type": "markdown",
      "source": [
        "*“when you don't create things, you become defined by your tastes rather than ability. your tastes only narrow & exclude people. so create.” *\n",
        "\n__Why The Lucky Stiff__"
      ],
      "metadata": {
        "id": "Xq_hs1jGRtLR",
        "colab_type": "text"
      }
    },
    {
      "cell_type": "markdown",
      "source": [
        "## Problemas"
      ],
      "metadata": {
        "id": "zYW3ZR0NSLk7",
        "colab_type": "text"
      }
    },
    {
      "cell_type": "markdown",
      "source": [
        "Para los siguientes problemas:\n",
        "1. [Especifique en lenguaje natural](https://courses.cs.vt.edu/csonline/Algorithms/Lessons/SpecifyingAlgorithms/index.html)\n",
        "2. Escriba el código en pyhton para los siguientes problemas. \n",
        "\nSi no esta familiarizado con pyhton puede utilizar ([blocky](https://blockly-demo.appspot.com/static/demos/code/index.html))."
      ],
      "metadata": {
        "id": "VGPAaTVmGR7h",
        "colab_type": "text"
      }
    },
    {
      "cell_type": "markdown",
      "source": [
        "* Calcule el área de un triángulo equilatero."
      ],
      "metadata": {
        "id": "B72fnfAPFZNz",
        "colab_type": "text"
      }
    },
    {
      "cell_type": "markdown",
      "source": [
        "Especificación:\n",
        "\n",
        "Para un triángulo equilátero de lado $l$, su área es:\n",
        "\n$A = \\frac{\\sqrt{3}}{4}l^2$"
      ],
      "metadata": {
        "id": "CZosDsZ8Mhp5",
        "colab_type": "text"
      }
    },
    {
      "cell_type": "code",
      "source": [
        "from math import sqrt\n",
        "\n",
        "equilateral_triangle_area = lambda l: sqrt(3)/4 * l ** 2\n",
        "\nequilateral_triangle_area(10)"
      ],
      "outputs": [
        {
          "output_type": "execute_result",
          "execution_count": 1,
          "data": {
            "text/plain": [
              "43.30127018922193"
            ]
          },
          "metadata": {}
        }
      ],
      "execution_count": 1,
      "metadata": {
        "id": "JiCFfhv2FZWL",
        "colab_type": "code",
        "colab": {}
      }
    },
    {
      "cell_type": "markdown",
      "source": [
        "* Verifique si un punto cualquiera en el plano se encuentra dentro de un circulo de radio 15 y centro en ()0,0)."
      ],
      "metadata": {
        "id": "FP5SChrPE1qp",
        "colab_type": "text"
      }
    },
    {
      "cell_type": "markdown",
      "source": [
        "Especificación:\n",
        "\n",
        "La distancia entre $\\langle x_c,y_c \\rangle$ y $\\langle x_p,y_p \\rangle$ está dada por el teorema de Pitágoras, así[<sup>1</sup>](https://math.stackexchange.com/questions/198764/how-to-know-if-a-point-is-inside-a-circle):\n",
        "\n",
        "$d = \\sqrt{(x_p - x_c)^2 + (y_p - y_c)^2}$\n",
        "\nEl punto $\\langle x_p,y_p \\rangle$ está dentro del círculo si $d < r$, sobre la circunferencia si $d = r$, y fuera del círculo si $d > r$."
      ],
      "metadata": {
        "id": "lDrps4GJMZCl",
        "colab_type": "text"
      }
    },
    {
      "cell_type": "code",
      "source": [
        "from math import sqrt\n",
        "\n",
        "is_inside_circle = lambda xc, yc, r, xp, yp: sqrt((xp - xc) ** 2 + (yp - yc) ** 2) <= r\n",
        "\nis_inside_circle(0, 0, 15, 5, 5)"
      ],
      "outputs": [
        {
          "output_type": "execute_result",
          "execution_count": 2,
          "data": {
            "text/plain": [
              "True"
            ]
          },
          "metadata": {}
        }
      ],
      "execution_count": 2,
      "metadata": {
        "id": "HXJhejw4FLsy",
        "colab_type": "code",
        "colab": {}
      }
    },
    {
      "cell_type": "markdown",
      "source": [
        "- Encuentre el área y el volumén de un toro"
      ],
      "metadata": {
        "id": "OKKbv1BKFMex",
        "colab_type": "text"
      }
    },
    {
      "cell_type": "markdown",
      "source": [
        "Especificación:\n",
        "\n",
        "Para un toro de radio `R` y radio interior `r`, su área es:\n",
        "\n",
        "$A = 4\\pi^2Rr$ \n",
        "\n$V = 4\\pi^2Rr^2$"
      ],
      "metadata": {
        "id": "oE6KYD3gMkiy",
        "colab_type": "text"
      }
    },
    {
      "cell_type": "code",
      "source": [
        "from math import pi\n",
        "\n",
        "toroid_area = lambda R, r: 4 * (pi ** 2) * R * r\n",
        "toroid_volume = lambda R, r: 4 * (pi ** 2) * R * (r ** 2)\n",
        "\n",
        "(R, r) = (5, 3)\n",
        "\n(toroid_area(R, r), toroid_volume(R, r))"
      ],
      "outputs": [
        {
          "output_type": "execute_result",
          "execution_count": 3,
          "data": {
            "text/plain": [
              "(592.1762640653615, 1776.5287921960846)"
            ]
          },
          "metadata": {}
        }
      ],
      "execution_count": 3,
      "metadata": {
        "id": "1f_EIYa9FMp2",
        "colab_type": "code",
        "colab": {}
      }
    },
    {
      "cell_type": "markdown",
      "source": [
        "- Encuentre el área de la unión de dos rectángulos."
      ],
      "metadata": {
        "id": "PgqWFNG5MH_S",
        "colab_type": "text"
      }
    },
    {
      "cell_type": "markdown",
      "source": [
        "Especificación:\n",
        "\n",
        "Dados dos rectángulos $F$ y $G$, cuyas esquinas inferior izquierda e superior derecha son $((x_1, y_1), (x_2, y_2))$, y $((X_1, Y_1), (X_2, Y_2))$, respectivamente para ambos rectángulos, existe un rectángulo intersecado $I$ conformado por las esquinas $((m_1, n_1), (m_2, n_2))$, definidas como:\n",
        "\n",
        "$m_1 = \\operatorname{max}(x_1, X_1)$\n",
        "\n",
        "$n_1 = \\operatorname{max}(y_1, Y_1)$\n",
        "\n",
        "$m_2 = \\operatorname{min}(x_2, X_2)$\n",
        "\n",
        "$n_2 = \\operatorname{min}(y_2, Y_2)$\n",
        "\n",
        "Si el rectángulo intersecto existe (es decir: $m1 < m2$ y $n1 < n2$), el área de los dos rectángulos unidos es:\n",
        "\n$A = A_F + A_G - A_I$"
      ],
      "metadata": {
        "id": "ip48gHdNMmkj",
        "colab_type": "text"
      }
    },
    {
      "cell_type": "code",
      "source": [
        "def rectangle_area (F):\n",
        "    ((x1, y1), (x2, y2)) = F\n",
        "    return (x2 - x1) * (y2 - y1) if (x1 < x2 and y1 < y2) else 0\n",
        "\n",
        "def intersect_rectangle (F, G):\n",
        "    ((x1, y1), (x2, y2)), ((X1, Y1), (X2, Y2)) = (F, G)\n",
        "    (m1, n1) = (max(x1, X1), max(y1, Y1))\n",
        "    (m2, n2) = (min(x2, X2), min(y2, Y2))\n",
        "    \n",
        "    return ((m1, n1), (m2, n2))\n",
        "\n",
        "def joined_rectangles_area(F, G):\n",
        "    I = intersect_rectangle(F, G)\n",
        "    if (rectangle_area(I) > 0):\n",
        "        return rectangle_area(F) + rectangle_area(G) - rectangle_area(I)\n",
        "    else:\n",
        "        raise Exception('No hay intersección entre {} y {})'.format(F, G))\n",
        "\n",
        "F = ((0, 0), (2, 2))\n",
        "G = ((1, 1), (3, 3))\n",
        "\n",
        "H = ((0, 0), (2, 2))\n",
        "I = ((3, 3), (4, 4))\n",
        "\n",
        "try:\n",
        "    for (A, B) in [ (F, G), (H, I) ]:\n",
        "        print('{}cm²'.format(joined_rectangles_area(A, B)))\n",
        "except Exception as e:\n",
        "    print(e)"
      ],
      "outputs": [
        {
          "output_type": "stream",
          "name": "stdout",
          "text": [
            "7cm²\n",
            "No hay intersección entre ((0, 0), (2, 2)) y ((3, 3), (4, 4)))\n"
          ]
        }
      ],
      "execution_count": 4,
      "metadata": {
        "id": "CUESPjKTMIJS",
        "colab_type": "code",
        "colab": {}
      }
    },
    {
      "cell_type": "markdown",
      "source": [
        "- Verifique si una lista con números es palindrome o no."
      ],
      "metadata": {
        "id": "w6aG4ekFFfv8",
        "colab_type": "text"
      }
    },
    {
      "cell_type": "markdown",
      "source": [
        "Especificación:\n",
        "\nEn este caso podemos ir comparando la cabeza y la cola de la lista, y luego eliminándolas de la misma, hasta que quede uno o ningún elemento, o hasta que cabeza y cola sean diferentes."
      ],
      "metadata": {
        "id": "yVWZR-0zMnf6",
        "colab_type": "text"
      }
    },
    {
      "cell_type": "code",
      "source": [
        "is_palyndrome = lambda l: True if len(l) <= 1 else l[0] == l[-1] and is_palyndrome(l[1:-1])\n",
        "\n",
        "print(is_palyndrome([1, 7, 7, 1]))\n",
        "print(is_palyndrome([1, 7, 4, 7, 1]))\n",
        "print(is_palyndrome([1, 6, 7, 1]))\n",
        "print(is_palyndrome([1, 7, 5, 2, 7, 1]))"
      ],
      "outputs": [
        {
          "output_type": "stream",
          "name": "stdout",
          "text": [
            "True\n",
            "True\n",
            "False\n",
            "False\n"
          ]
        }
      ],
      "execution_count": 5,
      "metadata": {
        "id": "-91xnpfrFf3S",
        "colab_type": "code",
        "colab": {}
      }
    },
    {
      "cell_type": "markdown",
      "source": [
        "- Un joyero vino de Siria para vender joyas en Bagdad. Prometió que pagaría por el hospedaje 20 dinares si el dueño de la hostería vendía todas las joyas por 100 dinares; y 35 dinares si las vendía por 200 dinares. Al cabo de varios días, tras andar de aquí para allá, acabó vendiéndolas todas por 140 dinares. ¿Cuánto debe pagar el joyero de acuerdo con el trato de hospedaje?"
      ],
      "metadata": {
        "id": "47xu0dynFw9R",
        "colab_type": "text"
      }
    },
    {
      "cell_type": "markdown",
      "source": [
        "De acuerdo al cuento, deberán pagarse 20 dinares por los primeros 100 dinares, mas $\\frac{15(d)}{100}$ siendo $d$ la diferencia entre el valor vendido y 100 dinares, hasta 200 dinares, donde se pagará 35 dinares."
      ],
      "metadata": {
        "id": "ip0bTLoOMo6a",
        "colab_type": "text"
      }
    },
    {
      "cell_type": "code",
      "source": [
        "def pay (value):\n",
        "    if value >= 100:\n",
        "        return 20 + (15 * (value - 100) / 100)\n",
        "    elif value >= 200:\n",
        "        return 35\n",
        "    return 0\n",
        "\npay(140)"
      ],
      "outputs": [
        {
          "output_type": "execute_result",
          "execution_count": 6,
          "data": {
            "text/plain": [
              "26.0"
            ]
          },
          "metadata": {}
        }
      ],
      "execution_count": 6,
      "metadata": {
        "id": "MzX3bSIxFxIa",
        "colab_type": "code",
        "colab": {}
      }
    },
    {
      "cell_type": "markdown",
      "source": [
        "- Determine el área y el volumen de un cono truncado."
      ],
      "metadata": {
        "id": "U_pGWTaMH3Bj",
        "colab_type": "text"
      }
    },
    {
      "cell_type": "markdown",
      "source": [
        "Especificación:\n",
        "\n",
        "Dado un cono truncado de una altura $h$, un radio base $R$, y un radio $r$ en el corte superior:\n",
        "\n",
        "Su generatríz es $g = \\sqrt{h^2 + (R - r)^2}$\n",
        "\n",
        "Su área es $A = \\pi(g(R + r) + R^2 + r^2)$\n",
        "\nSu volumen es $V = \\frac{1}{3}\\pi h(R^2r^2+Rr)$"
      ],
      "metadata": {
        "id": "H11fWvIjMqPC",
        "colab_type": "text"
      }
    },
    {
      "cell_type": "code",
      "source": [
        "truncate_cone_generatrix = lambda h, R, r: sqrt(h ** 2 + (R - r) ** 2)\n",
        "truncate_cone_area = lambda h, R, r: pi * (\n",
        "    (truncate_cone_generatrix(h, R, r) * (R + r)) + R ** 2 + r ** 2\n",
        ")\n",
        "\n",
        "truncate_cone_volume = lambda h, R, r: 1 / 3 * pi * h * (\n",
        "    R ** 2 * r ** 2 + R * r\n",
        ")\n",
        "\n",
        "(h, R, r) = (1, 2, 1)\n",
        "\n(truncate_cone_area(h , R, r), truncate_cone_volume(h, R, r))"
      ],
      "outputs": [
        {
          "output_type": "execute_result",
          "execution_count": 7,
          "data": {
            "text/plain": [
              "(29.036612082424064, 6.283185307179586)"
            ]
          },
          "metadata": {}
        }
      ],
      "execution_count": 7,
      "metadata": {
        "id": "ovco97_WH202",
        "colab_type": "code",
        "colab": {}
      }
    },
    {
      "cell_type": "markdown",
      "source": [
        "- Cuente el número de ocurrencias de una variable $x$ en una lista."
      ],
      "metadata": {
        "id": "zenG-SPxJerZ",
        "colab_type": "text"
      }
    },
    {
      "cell_type": "markdown",
      "source": [
        "Especificación:\n",
        "\nDada una lista y una variable, se cuentan todas las ocurrencias de la variable hasta que la lista quede vacía."
      ],
      "metadata": {
        "id": "LP8Cvq59MrMC",
        "colab_type": "text"
      }
    },
    {
      "cell_type": "code",
      "source": [
        "count_in = lambda l, x: 0 if len(l) == 0 \\\n",
        "    else 1 + count_in(l[1:], x) if l[0] == x \\\n",
        "        else 0 + count_in(l[1:], x)\n",
        "\ncount_in([1, 2, 2, 3, 4, 5], 2)"
      ],
      "outputs": [
        {
          "output_type": "execute_result",
          "execution_count": 8,
          "data": {
            "text/plain": [
              "2"
            ]
          },
          "metadata": {}
        }
      ],
      "execution_count": 8,
      "metadata": {
        "id": "w2ogfRuDJX3j",
        "colab_type": "code",
        "colab": {}
      }
    },
    {
      "cell_type": "markdown",
      "source": [
        "- Dado un año de nacimiento determine el animal correspondiente en el calendario chino."
      ],
      "metadata": {
        "id": "H-LJAK7WLUdT",
        "colab_type": "text"
      }
    },
    {
      "cell_type": "markdown",
      "source": [
        "Especificación:\n",
        "\n",
        "El calendario chino inicia el año 2697 a.C., y es un ciclo de 12 años. Para hallar el animal correspondiente, se busca el año dentro del ciclo así:\n",
        "\n",
        "$(y + y_0) \\mod 12$\n",
        "\nSiendo $y$ el año de nacimiento y $y_0 = 2696$, para tener en cuenta el año $0$."
      ],
      "metadata": {
        "id": "A0R9fDU0LU_h",
        "colab_type": "text"
      }
    },
    {
      "cell_type": "code",
      "source": [
        "year_animal = [ 'Rata', 'Buey', 'Tigre', 'Conejo', 'Dragón', 'Serpiente', 'Caballo', 'Oveja', 'Mono', 'Gallo', 'Perro', 'Cerdo' ]\n",
        "year_cycle = lambda year: (year + 2696) % 12\n",
        "animal_in_year = lambda year: year_animal[year_cycle(year)]\n",
        "\nanimal_in_year(2018)"
      ],
      "outputs": [
        {
          "output_type": "execute_result",
          "execution_count": 9,
          "data": {
            "text/plain": [
              "'Perro'"
            ]
          },
          "metadata": {}
        }
      ],
      "execution_count": 9,
      "metadata": {
        "id": "rD4KA2bNLVwk",
        "colab_type": "code",
        "colab": {}
      }
    },
    {
      "cell_type": "markdown",
      "source": [
        "- Genere el $n$-esimo termino de la [serie de Lucas](https://en.wikipedia.org/wiki/Lucas_number)."
      ],
      "metadata": {
        "id": "7dyDo3WmMV9P",
        "colab_type": "text"
      }
    },
    {
      "cell_type": "code",
      "source": [
        "lucas_numbers = [ 1, 3 ]\n",
        "\n",
        "def lucas (n):\n",
        "    if n > len(lucas_numbers):\n",
        "        for i in range(len(lucas_numbers), n):\n",
        "            lucas_numbers.append(lucas_numbers[i - 1] + lucas_numbers[i - 2])\n",
        "    return lucas_numbers[n - 1]\n",
        "\nlucas(9)"
      ],
      "outputs": [
        {
          "output_type": "execute_result",
          "execution_count": 10,
          "data": {
            "text/plain": [
              "76"
            ]
          },
          "metadata": {}
        }
      ],
      "execution_count": 10,
      "metadata": {
        "id": "d-KrshrZMWZe",
        "colab_type": "code",
        "colab": {}
      }
    }
  ],
  "metadata": {
    "colab": {
      "name": "01_IntroAlgorithms.ipynb",
      "version": "0.3.2",
      "provenance": []
    },
    "kernelspec": {
      "name": "python3",
      "language": "python",
      "display_name": "Python 3"
    },
    "kernel_info": {
      "name": "python3"
    },
    "language_info": {
      "name": "python",
      "version": "3.7.2",
      "mimetype": "text/x-python",
      "codemirror_mode": {
        "name": "ipython",
        "version": 3
      },
      "pygments_lexer": "ipython3",
      "nbconvert_exporter": "python",
      "file_extension": ".py"
    },
    "nteract": {
      "version": "0.12.3"
    }
  },
  "nbformat": 4,
  "nbformat_minor": 0
}