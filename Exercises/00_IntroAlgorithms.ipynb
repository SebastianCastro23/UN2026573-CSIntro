{
  "cells": [
    {
      "cell_type": "markdown",
      "source": [
        "<table>\n",
        " <tr align=left><td><img align=left src=\"https://drive.google.com/uc?export=view&id=1edefIUL_iwWk4K3KtrNynSJ0Qvpdb2YY\">\n",
        " <td>Text provided under a Creative Commons Attribution license, CC-BY. All code is made available under the FSF-approved MIT license. (c) Francisco Gómez</td>\n",
        "</table>"
      ],
      "metadata": {
        "id": "3oxedQvB1c5p",
        "colab_type": "text",
        "slideshow": {
          "slide_type": "skip"
        }
      }
    },
    {
      "cell_type": "markdown",
      "source": [
        "*“when you don't create things, you become defined by your tastes rather than ability. your tastes only narrow & exclude people. so create.” *\n",
        "\n__Why The Lucky Stiff__"
      ],
      "metadata": {
        "id": "Xq_hs1jGRtLR",
        "colab_type": "text"
      }
    },
    {
      "cell_type": "markdown",
      "source": [
        "## Problemas"
      ],
      "metadata": {
        "id": "zYW3ZR0NSLk7",
        "colab_type": "text"
      }
    },
    {
      "cell_type": "markdown",
      "source": [
        "Para los siguientes problemas:\n",
        "\n",
        "1. [Especifique en lenguaje natural](https://courses.cs.vt.edu/csonline/Algorithms/Lessons/SpecifyingAlgorithms/index.html)\n",
        "2. Escriba el código en pyhton para los siguientes problemas. \n",
        "\nSi no esta familiarizado con pyhton puede utilizar ([blocky](https://blockly-demo.appspot.com/static/demos/code/index.html))."
      ],
      "metadata": {
        "id": "VGPAaTVmGR7h",
        "colab_type": "text"
      }
    },
    {
      "cell_type": "markdown",
      "source": [
        "* Escriba un programa que calcule el área total del cuerpo (Body surface area)."
      ],
      "metadata": {
        "id": "B72fnfAPFZNz",
        "colab_type": "text"
      }
    },
    {
      "cell_type": "markdown",
      "source": [
        "Especificación:\n",
        "\n",
        "Sean `h` la altura (medido en centímetros) y `w` el peso (medido en kilogramos), el área total del cuerpo, BSA[<sup>1</sup>](https://es.wikipedia.org/wiki/%C3%81rea_de_superficie_corporal), es:\n",
        "\n$BSA = \\sqrt{\\frac{h * w}{3600}}$"
      ],
      "metadata": {
        "id": "CZosDsZ8Mhp5",
        "colab_type": "text"
      }
    },
    {
      "cell_type": "code",
      "source": [
        "from math import sqrt\n",
        "\n",
        "bsa = lambda h, w: sqrt(h * w / 3600)\n",
        "\n",
        "my_bsa = bsa(179, 89)\n",
        "print('{:.2f} m²'.format(my_bsa))"
      ],
      "outputs": [
        {
          "output_type": "stream",
          "name": "stdout",
          "text": [
            "2.10 m²\n"
          ]
        }
      ],
      "execution_count": 4,
      "metadata": {
        "id": "JiCFfhv2FZWL",
        "colab_type": "code",
        "colab": {}
      }
    },
    {
      "cell_type": "markdown",
      "source": [
        "* Se dice que dos cantidades $a$ y $b$ están en proporción aurea si la longitud total $a+b$ es al segmento más largo $a$, como $a$ es al segmento más corto $b$, es decir, para $a$ mayor que $b$ se tiene $\\frac{a}{b} = \\frac{a+b}{b}$. Esta razón define una constate llamada [número aureo $\\phi$](https://es.wikipedia.org/wiki/N%C3%BAmero_%C3%A1ureo) que aparece de forma recurrente en muchos fenómenos naturales. Se dice que la distancia del ombligo a la planta de los pies y la altura total de una persona están en proporción aurea. Utilizando la observación anterior y sus medidas experimentales encuentre una aproximación al número aureo $\\phi$. Utilizando la observación anterior y las medidas experimentales de 5, 7 y 10 compañeros encuentre una aproximación al número aureo $\\phi$."
      ],
      "metadata": {
        "id": "FP5SChrPE1qp",
        "colab_type": "text"
      }
    },
    {
      "cell_type": "markdown",
      "source": [
        "Especificación:\n",
        "\nSe construye una tabla con los datos de las distancias pies-ombligo y ombligo-cabeza. Luego de esto, se obtiene la _relación_ de cada par de medidas, de la forma $\\frac{piesombligo + ombligocabeza}{piesombligo}$. Finalmente, se aproxima al valor de $\\phi$ a través del promedio de las relaciones anteriormente obtenidas."
      ],
      "metadata": {
        "id": "lDrps4GJMZCl",
        "colab_type": "text"
      }
    },
    {
      "cell_type": "code",
      "source": [
        "measures = [\n",
        "    { 'ftbb': 103, 'bbth': 68 },\n",
        "    { 'ftbb': 104, 'bbth': 67 },\n",
        "    { 'ftbb': 101, 'bbth': 71 },\n",
        "    { 'ftbb': 103, 'bbth': 69 },\n",
        "    { 'ftbb': 106, 'bbth': 69 }\n",
        "]\n",
        "\n",
        "proportions = [ (p['ftbb'] + p['bbth']) / p['ftbb'] for p in measures ]\n",
        "\n",
        "phi = sum(proportions) / len(proportions)\n",
        "\nphi"
      ],
      "outputs": [
        {
          "output_type": "execute_result",
          "execution_count": 5,
          "data": {
            "text/plain": [
              "1.6656483099731054"
            ]
          },
          "metadata": {}
        }
      ],
      "execution_count": 5,
      "metadata": {
        "id": "HXJhejw4FLsy",
        "colab_type": "code",
        "colab": {}
      }
    },
    {
      "cell_type": "markdown",
      "source": [
        "- Calcule la suma de la serie de números $1+2+⋯+n$. [Hint](https://www.youtube.com/watch?v=aGUQ1bwio68)"
      ],
      "metadata": {
        "id": "OKKbv1BKFMex",
        "colab_type": "text"
      }
    },
    {
      "cell_type": "markdown",
      "source": [
        "Especificación:\n",
        "\nLa sumatoria $\\sum_{k=0}^n{k} = \\frac{n * (n+1)}{2}$"
      ],
      "metadata": {
        "id": "oE6KYD3gMkiy",
        "colab_type": "text"
      }
    },
    {
      "cell_type": "code",
      "source": [
        "sumN = lambda n: int(n * (n + 1) / 2)\n",
        "\nsumN(100)"
      ],
      "outputs": [
        {
          "output_type": "execute_result",
          "execution_count": 7,
          "data": {
            "text/plain": [
              "5050"
            ]
          },
          "metadata": {}
        }
      ],
      "execution_count": 7,
      "metadata": {
        "id": "1f_EIYa9FMp2",
        "colab_type": "code",
        "colab": {}
      }
    },
    {
      "cell_type": "markdown",
      "source": [
        "- Dado un digito de tres cifras escriba un programa que calcule la suma de sus dígitos. Recuerde que los números negativos también tienen tres cifras."
      ],
      "metadata": {
        "id": "PgqWFNG5MH_S",
        "colab_type": "text"
      }
    },
    {
      "cell_type": "markdown",
      "source": [
        "Especificación:\n",
        "\nSea $n$ un número decimal de tres cifras ($log_{10} {n} = 3$), la suma de los dígitos desde el dígito más a la derecha hasta la izquierda. Para la lectura, uso el módulo (o residuo) de la división por 10, y me deshago de este, para seguir con la lectura."
      ],
      "metadata": {
        "id": "ip48gHdNMmkj",
        "colab_type": "text"
      }
    },
    {
      "cell_type": "code",
      "source": [
        "sumDigits = lambda n: n if n < 10 else n % 10 + sumDigits (int(n / 10))\n",
        "\nsumDigits(999)"
      ],
      "outputs": [
        {
          "output_type": "execute_result",
          "execution_count": 9,
          "data": {
            "text/plain": [
              "27"
            ]
          },
          "metadata": {}
        }
      ],
      "execution_count": 9,
      "metadata": {
        "id": "CUESPjKTMIJS",
        "colab_type": "code",
        "colab": {}
      }
    },
    {
      "cell_type": "markdown",
      "source": [
        "- Calcule la distancia más corta de un punto a una línea."
      ],
      "metadata": {
        "id": "w6aG4ekFFfv8",
        "colab_type": "text"
      }
    },
    {
      "cell_type": "markdown",
      "source": [
        "Especificación:"
      ],
      "metadata": {
        "id": "yVWZR-0zMnf6",
        "colab_type": "text"
      }
    },
    {
      "cell_type": "code",
      "source": [],
      "outputs": [],
      "execution_count": 0,
      "metadata": {
        "id": "-91xnpfrFf3S",
        "colab_type": "code",
        "colab": {}
      }
    },
    {
      "cell_type": "markdown",
      "source": [
        "- Dadas las coordenadas de un triángulo verifique si es equilátero"
      ],
      "metadata": {
        "id": "47xu0dynFw9R",
        "colab_type": "text"
      }
    },
    {
      "cell_type": "markdown",
      "source": [
        "Especificación:"
      ],
      "metadata": {
        "id": "ip0bTLoOMo6a",
        "colab_type": "text"
      }
    },
    {
      "cell_type": "code",
      "source": [],
      "outputs": [],
      "execution_count": 0,
      "metadata": {
        "id": "MzX3bSIxFxIa",
        "colab_type": "code",
        "colab": {}
      }
    },
    {
      "cell_type": "markdown",
      "source": [
        "- Determine la ecuación de la [recta de Euler](https://es.wikipedia.org/wiki/Recta_de_Euler)."
      ],
      "metadata": {
        "id": "U_pGWTaMH3Bj",
        "colab_type": "text"
      }
    },
    {
      "cell_type": "markdown",
      "source": [
        "Especificación:"
      ],
      "metadata": {
        "id": "H11fWvIjMqPC",
        "colab_type": "text"
      }
    },
    {
      "cell_type": "code",
      "source": [],
      "outputs": [],
      "execution_count": 0,
      "metadata": {
        "id": "ovco97_WH202",
        "colab_type": "code",
        "colab": {}
      }
    },
    {
      "cell_type": "markdown",
      "source": [
        "- Calcule el área de dos círculos que se sobrelapan."
      ],
      "metadata": {
        "id": "zenG-SPxJerZ",
        "colab_type": "text"
      }
    },
    {
      "cell_type": "markdown",
      "source": [
        "Especificación:"
      ],
      "metadata": {
        "id": "LP8Cvq59MrMC",
        "colab_type": "text"
      }
    },
    {
      "cell_type": "code",
      "source": [],
      "outputs": [],
      "execution_count": 0,
      "metadata": {
        "id": "w2ogfRuDJX3j",
        "colab_type": "code",
        "colab": {}
      }
    },
    {
      "cell_type": "markdown",
      "source": [
        "- El siguiente problema fue formulado por Leonardo de Pisa (Liber Abaci - 1202): Cierto hombre tenía una pareja de conejos juntos en un lugar cerrado. ¿Cuantos conejos nacen de este par en un año, si su naturaleza es parir otro par en un mes, y el el segundo mes los nacidos pueden parir también?. Calcule el número de parejas después de 70 meses. Sea $f_n$ el número de parejas al final del $n$-esimo mes."
      ],
      "metadata": {
        "id": "fukHFin_JXyz",
        "colab_type": "text"
      }
    },
    {
      "cell_type": "markdown",
      "source": [
        "Especificación:"
      ],
      "metadata": {
        "id": "A3A7MoHiMr6q",
        "colab_type": "text"
      }
    },
    {
      "cell_type": "code",
      "source": [],
      "outputs": [],
      "execution_count": 0,
      "metadata": {
        "id": "T9Oz5VJ6Jex5",
        "colab_type": "code",
        "colab": {}
      }
    },
    {
      "cell_type": "markdown",
      "source": [
        "- Usted está en una carrera de bicicletas que sube y baja una montaña. Un indicador define cuatro variables para: distancia de subida y distancia de bajada (en km) de ambas partes de la carrera, y tiempo de subida y tiempo de bajada (en minutos). Escriba un programa que imprima su velocidad media (en km/min) para toda la carrera."
      ],
      "metadata": {
        "id": "NdlROrJqLOw0",
        "colab_type": "text"
      }
    },
    {
      "cell_type": "markdown",
      "source": [
        "Especificación:"
      ],
      "metadata": {
        "id": "n2iiPoqKMs2T",
        "colab_type": "text"
      }
    },
    {
      "cell_type": "code",
      "source": [],
      "outputs": [],
      "execution_count": 0,
      "metadata": {
        "id": "eDstK3v-LO4j",
        "colab_type": "code",
        "colab": {}
      }
    },
    {
      "cell_type": "markdown",
      "source": [
        "- Escriba un programa que intercambie los valores de dos variables"
      ],
      "metadata": {
        "id": "2YEF4oHZLYa6",
        "colab_type": "text"
      }
    },
    {
      "cell_type": "markdown",
      "source": [
        "Especificación:"
      ],
      "metadata": {
        "id": "ZcRI6u_aMtwU",
        "colab_type": "text"
      }
    },
    {
      "cell_type": "code",
      "source": [],
      "outputs": [],
      "execution_count": 0,
      "metadata": {
        "id": "cNe4oEamLYhT",
        "colab_type": "code",
        "colab": {}
      }
    },
    {
      "cell_type": "markdown",
      "source": [
        "- Encuentre el área y el volumen de un cono de helado."
      ],
      "metadata": {
        "id": "ktfb0irLLdNT",
        "colab_type": "text"
      }
    },
    {
      "cell_type": "markdown",
      "source": [
        "Especificación:"
      ],
      "metadata": {
        "id": "0MSzOhZWMuaL",
        "colab_type": "text"
      }
    },
    {
      "cell_type": "code",
      "source": [],
      "outputs": [],
      "execution_count": 0,
      "metadata": {
        "id": "jvhee-gYLdR5",
        "colab_type": "code",
        "colab": {}
      }
    },
    {
      "cell_type": "markdown",
      "source": [
        "- En una clase, N estudiantes tienen que estar sentados de tal manera que cada fila tenga el mismo número de estudiantes que las otras. Si por lo menos X estudiantes deben sentarse por fila y por lo menos X filas tienen que estar allí, entonces cuántos arreglos son posibles?"
      ],
      "metadata": {
        "id": "L_BuS64vLxpL",
        "colab_type": "text"
      }
    },
    {
      "cell_type": "markdown",
      "source": [
        "Especificación:"
      ],
      "metadata": {
        "id": "9ldOxAfoMvGw",
        "colab_type": "text"
      }
    },
    {
      "cell_type": "code",
      "source": [],
      "outputs": [],
      "execution_count": 0,
      "metadata": {
        "id": "52fQSefkLxyJ",
        "colab_type": "code",
        "colab": {}
      }
    },
    {
      "cell_type": "markdown",
      "source": [
        "- ¿Cuántos billetes de cada cantidad (100.000, 50.000, 20.000 y 10.000) debe entregar un cajero automático que sigue las siguientes reglas?: El usuario puede pedir hasta un máximo de 1.200.000 y mínimo 10.000, los valores pedidos son múltiplos de 10.000. El cajero debe entregar la cantidad máxima de billetes de 50.000 que se pueden entregar, luego de billetes de 20.000 y el residuo con 10.000?. Por ejemplo, al solicitar 280.000 el programa responde: 5 billetes de 50.000 + 1 billete de 20.000 y 1 billete de 10.000. Si la solicitud es 40.000 entonces se responde: 0 billetes de 50.000 + 2 billetes de 20.000 + 0 billetes de 10.000."
      ],
      "metadata": {
        "id": "l4dJ4_JONfwx",
        "colab_type": "text"
      }
    },
    {
      "cell_type": "markdown",
      "source": [
        "Especificación:"
      ],
      "metadata": {
        "id": "XG16hSMONg1y",
        "colab_type": "text"
      }
    },
    {
      "cell_type": "code",
      "source": [],
      "outputs": [],
      "execution_count": 0,
      "metadata": {
        "id": "sb1szdLXNirU",
        "colab_type": "code",
        "colab": {}
      }
    }
  ],
  "metadata": {
    "colab": {
      "name": "00_IntroAlgorithms.ipynb",
      "version": "0.3.2",
      "provenance": []
    },
    "kernelspec": {
      "name": "python3",
      "language": "python",
      "display_name": "Python 3"
    },
    "kernel_info": {
      "name": "python3"
    },
    "language_info": {
      "name": "python",
      "version": "3.6.5",
      "mimetype": "text/x-python",
      "codemirror_mode": {
        "name": "ipython",
        "version": 3
      },
      "pygments_lexer": "ipython3",
      "nbconvert_exporter": "python",
      "file_extension": ".py"
    },
    "nteract": {
      "version": "0.11.6"
    }
  },
  "nbformat": 4,
  "nbformat_minor": 0
}