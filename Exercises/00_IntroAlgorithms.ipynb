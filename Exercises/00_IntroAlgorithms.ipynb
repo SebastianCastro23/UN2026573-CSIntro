{
  "cells": [
    {
      "cell_type": "markdown",
      "source": [
        "<table>\n",
        " <tr align=left><td><img align=left src=\"https://drive.google.com/uc?export=view&id=1edefIUL_iwWk4K3KtrNynSJ0Qvpdb2YY\">\n",
        " <td>Text provided under a Creative Commons Attribution license, CC-BY. All code is made available under the FSF-approved MIT license. (c) Francisco Gómez</td>\n",
        "</table>"
      ],
      "metadata": {
        "id": "3oxedQvB1c5p",
        "colab_type": "text",
        "slideshow": {
          "slide_type": "skip"
        }
      }
    },
    {
      "cell_type": "markdown",
      "source": [
        "*“when you don't create things, you become defined by your tastes rather than ability. your tastes only narrow & exclude people. so create.” *\n",
        "\n__Why The Lucky Stiff__"
      ],
      "metadata": {
        "id": "Xq_hs1jGRtLR",
        "colab_type": "text"
      }
    },
    {
      "cell_type": "markdown",
      "source": [
        "## Problemas"
      ],
      "metadata": {
        "id": "zYW3ZR0NSLk7",
        "colab_type": "text"
      }
    },
    {
      "cell_type": "markdown",
      "source": [
        "Para los siguientes problemas:\n",
        "\n",
        "1. [Especifique en lenguaje natural](https://courses.cs.vt.edu/csonline/Algorithms/Lessons/SpecifyingAlgorithms/index.html)\n",
        "2. Escriba el código en pyhton para los siguientes problemas. \n",
        "\nSi no esta familiarizado con pyhton puede utilizar ([blocky](https://blockly-demo.appspot.com/static/demos/code/index.html))."
      ],
      "metadata": {
        "id": "VGPAaTVmGR7h",
        "colab_type": "text"
      }
    },
    {
      "cell_type": "markdown",
      "source": [
        "* Escriba un programa que calcule el área total del cuerpo (Body surface area)."
      ],
      "metadata": {
        "id": "B72fnfAPFZNz",
        "colab_type": "text"
      }
    },
    {
      "cell_type": "markdown",
      "source": [
        "Especificación:\n",
        "\n",
        "Sean `h` la altura (medido en centímetros) y `w` el peso (medido en kilogramos), el área total del cuerpo, BSA[<sup>1</sup>](https://es.wikipedia.org/wiki/%C3%81rea_de_superficie_corporal), es:\n",
        "\n$BSA = \\sqrt{\\frac{h * w}{3600}}$"
      ],
      "metadata": {
        "id": "CZosDsZ8Mhp5",
        "colab_type": "text"
      }
    },
    {
      "cell_type": "code",
      "source": [
        "from math import sqrt\n",
        "\n",
        "bsa = lambda h, w: sqrt(h * w / 3600)\n",
        "\n",
        "my_bsa = bsa(179, 89)\n",
        "print('{:.2f} m²'.format(my_bsa))"
      ],
      "outputs": [
        {
          "output_type": "stream",
          "name": "stdout",
          "text": [
            "2.10 m²\n"
          ]
        }
      ],
      "execution_count": 1,
      "metadata": {
        "id": "JiCFfhv2FZWL",
        "colab_type": "code",
        "colab": {}
      }
    },
    {
      "cell_type": "markdown",
      "source": [
        "* Se dice que dos cantidades $a$ y $b$ están en proporción aurea si la longitud total $a+b$ es al segmento más largo $a$, como $a$ es al segmento más corto $b$, es decir, para $a$ mayor que $b$ se tiene $\\frac{a}{b} = \\frac{a+b}{b}$. Esta razón define una constate llamada [número aureo $\\phi$](https://es.wikipedia.org/wiki/N%C3%BAmero_%C3%A1ureo) que aparece de forma recurrente en muchos fenómenos naturales. Se dice que la distancia del ombligo a la planta de los pies y la altura total de una persona están en proporción aurea. Utilizando la observación anterior y sus medidas experimentales encuentre una aproximación al número aureo $\\phi$. Utilizando la observación anterior y las medidas experimentales de 5, 7 y 10 compañeros encuentre una aproximación al número aureo $\\phi$."
      ],
      "metadata": {
        "id": "FP5SChrPE1qp",
        "colab_type": "text"
      }
    },
    {
      "cell_type": "markdown",
      "source": [
        "Especificación:\n",
        "\nSe construye una tabla con los datos de las distancias pies-ombligo y ombligo-cabeza. Luego de esto, se obtiene la _relación_ de cada par de medidas, de la forma $\\frac{piesombligo + ombligocabeza}{piesombligo}$. Finalmente, se aproxima al valor de $\\phi$ a través del promedio de las relaciones anteriormente obtenidas."
      ],
      "metadata": {
        "id": "lDrps4GJMZCl",
        "colab_type": "text"
      }
    },
    {
      "cell_type": "code",
      "source": [
        "measures = [\n",
        "    { 'ftbb': 103, 'bbth': 68 },\n",
        "    { 'ftbb': 104, 'bbth': 67 },\n",
        "    { 'ftbb': 101, 'bbth': 71 },\n",
        "    { 'ftbb': 103, 'bbth': 69 },\n",
        "    { 'ftbb': 106, 'bbth': 69 }\n",
        "]\n",
        "\n",
        "proportions = [ (p['ftbb'] + p['bbth']) / p['ftbb'] for p in measures ]\n",
        "\n",
        "phi = sum(proportions) / len(proportions)\n",
        "\nphi"
      ],
      "outputs": [
        {
          "output_type": "execute_result",
          "execution_count": 2,
          "data": {
            "text/plain": [
              "1.6656483099731054"
            ]
          },
          "metadata": {}
        }
      ],
      "execution_count": 2,
      "metadata": {
        "id": "HXJhejw4FLsy",
        "colab_type": "code",
        "colab": {}
      }
    },
    {
      "cell_type": "markdown",
      "source": [
        "- Calcule la suma de la serie de números $1+2+\\dots+n$ ([hint](https://www.youtube.com/watch?v=aGUQ1bwio68))."
      ],
      "metadata": {
        "id": "OKKbv1BKFMex",
        "colab_type": "text"
      }
    },
    {
      "cell_type": "markdown",
      "source": [
        "Especificación:\n",
        "\nLa sumatoria $\\sum_{k=0}^n{k} = \\frac{n * (n+1)}{2}$"
      ],
      "metadata": {
        "id": "oE6KYD3gMkiy",
        "colab_type": "text"
      }
    },
    {
      "cell_type": "code",
      "source": [
        "sum_n = lambda n: int(n * (n + 1) / 2)\n",
        "\nsum_n(100)"
      ],
      "outputs": [
        {
          "output_type": "execute_result",
          "execution_count": 3,
          "data": {
            "text/plain": [
              "5050"
            ]
          },
          "metadata": {}
        }
      ],
      "execution_count": 3,
      "metadata": {
        "id": "1f_EIYa9FMp2",
        "colab_type": "code",
        "colab": {}
      }
    },
    {
      "cell_type": "markdown",
      "source": [
        "- Dado un digito de tres cifras escriba un programa que calcule la suma de sus dígitos. Recuerde que los números negativos también tienen tres cifras."
      ],
      "metadata": {
        "id": "PgqWFNG5MH_S",
        "colab_type": "text"
      }
    },
    {
      "cell_type": "markdown",
      "source": [
        "Especificación:\n",
        "\nSea $n$ un número decimal de tres cifras ($log_{10} {n} = 2$), la suma de los dígitos desde el dígito más a la derecha hasta la izquierda. Para la lectura, uso el módulo (o residuo) de la división por 10, y me deshago de este, para seguir con la lectura."
      ],
      "metadata": {
        "id": "ip48gHdNMmkj",
        "colab_type": "text"
      }
    },
    {
      "cell_type": "code",
      "source": [
        "sum_digits = lambda n: n if n < 10 else n % 10 + sum_digits (int(n / 10))\n",
        "\nsum_digits(999)"
      ],
      "outputs": [
        {
          "output_type": "execute_result",
          "execution_count": 4,
          "data": {
            "text/plain": [
              "27"
            ]
          },
          "metadata": {}
        }
      ],
      "execution_count": 4,
      "metadata": {
        "id": "CUESPjKTMIJS",
        "colab_type": "code",
        "colab": {}
      }
    },
    {
      "cell_type": "markdown",
      "source": [
        "- Calcule la distancia más corta de un punto a una línea."
      ],
      "metadata": {
        "id": "w6aG4ekFFfv8",
        "colab_type": "text"
      }
    },
    {
      "cell_type": "markdown",
      "source": [
        "Especificación:\n",
        "\n",
        "La distancia más corta desde un punto $(x_0, y_0)$ hasta una línea (definida como el segmento entre los puntos $P_1 =(x_1, y_1), P_2 = (x_2, y_2)$) es[<sup>2</sup>](https://en.wikipedia.org/wiki/Distance_from_a_point_to_a_line):\n",
        "\n$\\operatorname{distance}(P_1, P_2, (x_0, y_0)) = \\frac{|(y_2-y_1)x_0-(x_2-x_1)y_0+x_2 y_1-y_2 x_1|}{\\sqrt{(y_2-y_1)^2+(x_2-x_1)^2}}.$"
      ],
      "metadata": {
        "id": "yVWZR-0zMnf6",
        "colab_type": "text"
      }
    },
    {
      "cell_type": "code",
      "source": [
        "class Line:\n",
        "    def __str__ (self):\n",
        "        return str([ self.p, self.q ])\n",
        "\n",
        "    def __init__ (self, p, q):\n",
        "        self.p = p\n",
        "        self.q = q\n",
        "\n",
        "    def distance(self, p):\n",
        "        (x0, y0) = p\n",
        "        (x1, y1) = self.p\n",
        "        (x2, y2) = self.q\n",
        "        \n",
        "        return abs((y2 - y1) * x0 - (x2 - x1) * y0 + (x2 * y1) - (y2 * x1)) / sqrt((y2 - y1) ** 2 + (x2 - x1) ** 2)\n",
        "\n",
        "l = Line((-1, -1), (1, 1))\n",
        "l.distance((-3, 3))"
      ],
      "outputs": [
        {
          "output_type": "execute_result",
          "execution_count": 5,
          "data": {
            "text/plain": [
              "4.242640687119285"
            ]
          },
          "metadata": {}
        }
      ],
      "execution_count": 5,
      "metadata": {
        "id": "-91xnpfrFf3S",
        "colab_type": "code",
        "colab": {}
      }
    },
    {
      "cell_type": "markdown",
      "source": [
        "- Dadas las coordenadas de un triángulo verifique si es equilátero"
      ],
      "metadata": {
        "id": "47xu0dynFw9R",
        "colab_type": "text"
      }
    },
    {
      "cell_type": "markdown",
      "source": [
        "Especificación:\n",
        "\nUn triángulo es equilátero si para tres puntos $A, B, C$, la suma de $AB$, $BC$ y $AC$ es 3 veces la suma de cualquiera de los segmentos anteriores."
      ],
      "metadata": {
        "id": "ip0bTLoOMo6a",
        "colab_type": "text"
      }
    },
    {
      "cell_type": "code",
      "source": [
        "from math import pi, acos \n",
        "\n",
        "def distance_of (a, b):\n",
        "    (x1, y1) = a\n",
        "    (x2, y2) = b\n",
        "    \n",
        "    return sqrt((x2 - x1) ** 2 + (y2 - y1) ** 2)\n",
        "\n",
        "y_max = sqrt((0 - 6) ** 2 - (3 - 0) ** 2)\n",
        "A = (0, 0)\n",
        "B = (3, y_max)\n",
        "C = (6, 0)\n",
        "\n",
        "is_equilateral = lambda A, B, C: distance_of(A, B) + distance_of(B, C) + distance_of(A, C) == 3 * distance_of(A, B)\n",
        "\nis_equilateral(A, B, C)"
      ],
      "outputs": [
        {
          "output_type": "execute_result",
          "execution_count": 6,
          "data": {
            "text/plain": [
              "True"
            ]
          },
          "metadata": {}
        }
      ],
      "execution_count": 6,
      "metadata": {
        "id": "MzX3bSIxFxIa",
        "colab_type": "code",
        "colab": {}
      }
    },
    {
      "cell_type": "markdown",
      "source": [
        "- Determine la ecuación de la [recta de Euler](https://es.wikipedia.org/wiki/Recta_de_Euler)."
      ],
      "metadata": {
        "id": "U_pGWTaMH3Bj",
        "colab_type": "text"
      }
    },
    {
      "cell_type": "markdown",
      "source": [
        "Especificación:\n",
        "\n",
        "Sean $A$, $B$, $C$ denotan los ángulos del vértice del triángulo de referencia, y sea $(x, y, z)$ un punto variable en coordenadas trilineales, a continuación, la ecuación de la recta de Euler es:\n",
        "\n$\\sin(2A)\\sin(B-C)x+\\sin(2B)\\sin(C-A)y + \\sin(2C)\\sin(A-B)z=0$"
      ],
      "metadata": {
        "id": "H11fWvIjMqPC",
        "colab_type": "text"
      }
    },
    {
      "cell_type": "code",
      "source": [
        "from math import sin, cos, radians\n",
        "\n",
        "euler_rect = lambda A, B, C: (sin(2 * A) * sin(B - C), sin(2 * B) * sin(C - A), sin(2 * C) * sin(A - B))\n",
        "\n",
        "(A, B, C) = (91, 9, 80)\n",
        "\n",
        "print('Let a scalene triangle have sides with angles A = {0:d}, B = {1:d}, C = {2:d},' +\n",
        "      'its euler rect is {3[0]:.2f}x + {3[1]:.2f}y + {3[2]:.2f}z = 0'\n",
        "        .format(A, B, C, euler_rect(radians(A), radians(B), radians(C))))"
      ],
      "outputs": [
        {
          "output_type": "stream",
          "name": "stdout",
          "text": [
            "Let a scalene triangle have sides with angles A = {0:d}, B = {1:d}, C = {2:d},its euler rect is 0.03x + -0.06y + 0.34z = 0\n"
          ]
        }
      ],
      "execution_count": 7,
      "metadata": {
        "id": "ovco97_WH202",
        "colab_type": "code",
        "colab": {}
      }
    },
    {
      "cell_type": "markdown",
      "source": [
        "- Calcule el área de dos círculos que se sobrelapan."
      ],
      "metadata": {
        "id": "zenG-SPxJerZ",
        "colab_type": "text"
      }
    },
    {
      "cell_type": "markdown",
      "source": [
        "Especificación:"
      ],
      "metadata": {
        "id": "LP8Cvq59MrMC",
        "colab_type": "text"
      }
    },
    {
      "cell_type": "code",
      "source": [],
      "outputs": [],
      "execution_count": 8,
      "metadata": {
        "id": "w2ogfRuDJX3j",
        "colab_type": "code",
        "colab": {}
      }
    },
    {
      "cell_type": "markdown",
      "source": [
        "- El siguiente problema fue formulado por Leonardo de Pisa (Liber Abaci - 1202): Cierto hombre tenía una pareja de conejos juntos en un lugar cerrado. ¿Cuantos conejos nacen de este par en un año, si su naturaleza es parir otro par en un mes, y el el segundo mes los nacidos pueden parir también?. Calcule el número de parejas después de 70 meses. Sea $f_n$ el número de parejas al final del $n$-esimo mes."
      ],
      "metadata": {
        "id": "fukHFin_JXyz",
        "colab_type": "text"
      }
    },
    {
      "cell_type": "markdown",
      "source": [
        "Especificación:\n",
        "\nSegún el [problema](http://www.epsilones.com/paginas/historias/historias-024-fibonacci-conejos.html) formulado por Leonardo de Pisa, la solución es la sucesión de fibonacci a partir del mes $n = 0$ definido como $f(n) = \\operatorname{fibonacci}(n - 1)$"
      ],
      "metadata": {
        "id": "A3A7MoHiMr6q",
        "colab_type": "text"
      }
    },
    {
      "cell_type": "code",
      "source": [
        "fibo_array = [ 1, 1 ]\n",
        "\n",
        "def fibonacci (n):\n",
        "    if n > len(fibo_array):\n",
        "        for i in range(len(fibo_array), n + 1):\n",
        "            fibo_array.append(fibo_array[i - 1] + fibo_array[i - 2])\n",
        "\n",
        "    return fibo_array[n]\n",
        "\n",
        "couples_in_month = lambda n: fibonacci(n - 1)\n",
        "\n",
        "months = 70\n",
        "print('{:,d} couples in {:d} months'.format(couples_in_month(months), months))"
      ],
      "outputs": [
        {
          "output_type": "stream",
          "name": "stdout",
          "text": [
            "190,392,490,709,135 couples in 70 months\n"
          ]
        }
      ],
      "execution_count": 9,
      "metadata": {
        "id": "T9Oz5VJ6Jex5",
        "colab_type": "code",
        "colab": {}
      }
    },
    {
      "cell_type": "markdown",
      "source": [
        "- Usted está en una carrera de bicicletas que sube y baja una montaña. Un indicador define cuatro variables para: distancia de subida y distancia de bajada (en km) de ambas partes de la carrera, y tiempo de subida y tiempo de bajada (en minutos). Escriba un programa que imprima su velocidad media (en km/min) para toda la carrera."
      ],
      "metadata": {
        "id": "NdlROrJqLOw0",
        "colab_type": "text"
      }
    },
    {
      "cell_type": "markdown",
      "source": [
        "Especificación:\n",
        "\nEl tiempo medio es la media del tiempo medio de subida y tiempo medio de bajada, que se miden como la relación entre distancia (en km) y tiempo (en min)."
      ],
      "metadata": {
        "id": "n2iiPoqKMs2T",
        "colab_type": "text"
      }
    },
    {
      "cell_type": "code",
      "source": [
        "def mean_race_time (upside_distance, downside_distance, upside_time, downside_time):\n",
        "    upside_avg = upside_distance / upside_time\n",
        "    downside_avg = downside_distance / downside_time\n",
        "    \n",
        "    return (upside_avg + downside_avg) / 2\n",
        "\nprint('{:.2f} km/min'.format(mean_race_time(5, 30, 4, 10)))"
      ],
      "outputs": [
        {
          "output_type": "stream",
          "name": "stdout",
          "text": [
            "2.12 km/min\n"
          ]
        }
      ],
      "execution_count": 10,
      "metadata": {
        "id": "eDstK3v-LO4j",
        "colab_type": "code",
        "colab": {}
      }
    },
    {
      "cell_type": "markdown",
      "source": [
        "- Escriba un programa que intercambie los valores de dos variables"
      ],
      "metadata": {
        "id": "2YEF4oHZLYa6",
        "colab_type": "text"
      }
    },
    {
      "cell_type": "markdown",
      "source": [
        "Especificación:"
      ],
      "metadata": {
        "id": "ZcRI6u_aMtwU",
        "colab_type": "text"
      }
    },
    {
      "cell_type": "code",
      "source": [],
      "outputs": [],
      "execution_count": 11,
      "metadata": {
        "id": "cNe4oEamLYhT",
        "colab_type": "code",
        "colab": {}
      }
    },
    {
      "cell_type": "markdown",
      "source": [
        "- Encuentre el área y el volumen de un cono de helado."
      ],
      "metadata": {
        "id": "ktfb0irLLdNT",
        "colab_type": "text"
      }
    },
    {
      "cell_type": "markdown",
      "source": [
        "Especificación:\n",
        "\n",
        "Si se entiende un cono de helado como un cono cilíndrico con un radio $r$ y una altura $h$, entonces:\n",
        "\n",
        "- El área superficial de un cono cilíndrico es $A = \\pi r \\sqrt{r^2 + h^2}$\n",
        "- El volumen de un cono cilíntrico es $V = \\frac{1}{3}\\pi r^2h$"
      ],
      "metadata": {
        "id": "0MSzOhZWMuaL",
        "colab_type": "text"
      }
    },
    {
      "cell_type": "code",
      "source": [
        "cone_superficial_area = lambda h, r: pi * r * sqrt(r ** 2 + h ** 2)\n",
        "cone_volume = lambda h, r: 1 / 3 * pi * (r ** 2) * h\n",
        "\n",
        "r = 2\n",
        "h = 7\n",
        "\n",
        "print('Superficial area of cone r = {:d}cm, h = {:d}cm is {:.2f}cm²'.format(r, h, cone_superficial_area(r, h)))\n",
        "print('Volume of cone r = {:d}cm, h = {:d}cm is {:.2f}cm²'.format(r, h, cone_volume(r, h)))"
      ],
      "outputs": [
        {
          "output_type": "stream",
          "name": "stdout",
          "text": [
            "Superficial area of cone r = 2cm, h = 7cm is 160.10cm²\n",
            "Volume of cone r = 2cm, h = 7cm is 102.63cm²\n"
          ]
        }
      ],
      "execution_count": 12,
      "metadata": {
        "id": "jvhee-gYLdR5",
        "colab_type": "code",
        "colab": {}
      }
    },
    {
      "cell_type": "markdown",
      "source": [
        "- En una clase, N estudiantes tienen que estar sentados de tal manera que cada fila tenga el mismo número de estudiantes que las otras. Si por lo menos X estudiantes deben sentarse por fila y por lo menos X filas tienen que estar allí, entonces cuántos arreglos son posibles?"
      ],
      "metadata": {
        "id": "L_BuS64vLxpL",
        "colab_type": "text"
      }
    },
    {
      "cell_type": "markdown",
      "source": [
        "Especificación:"
      ],
      "metadata": {
        "id": "9ldOxAfoMvGw",
        "colab_type": "text"
      }
    },
    {
      "cell_type": "code",
      "source": [],
      "outputs": [],
      "execution_count": 13,
      "metadata": {
        "id": "52fQSefkLxyJ",
        "colab_type": "code",
        "colab": {}
      }
    },
    {
      "cell_type": "markdown",
      "source": [
        "- ¿Cuántos billetes de cada cantidad (100.000, 50.000, 20.000 y 10.000) debe entregar un cajero automático que sigue las siguientes reglas?: El usuario puede pedir hasta un máximo de 1.200.000 y mínimo 10.000, los valores pedidos son múltiplos de 10.000. El cajero debe entregar la cantidad máxima de billetes de 50.000 que se pueden entregar, luego de billetes de 20.000 y el residuo con 10.000?. Por ejemplo, al solicitar 280.000 el programa responde: 5 billetes de 50.000 + 1 billete de 20.000 y 1 billete de 10.000. Si la solicitud es 40.000 entonces se responde: 0 billetes de 50.000 + 2 billetes de 20.000 + 0 billetes de 10.000."
      ],
      "metadata": {
        "id": "l4dJ4_JONfwx",
        "colab_type": "text"
      }
    },
    {
      "cell_type": "markdown",
      "source": [
        "Especificación:"
      ],
      "metadata": {
        "id": "XG16hSMONg1y",
        "colab_type": "text"
      }
    },
    {
      "cell_type": "code",
      "source": [],
      "outputs": [],
      "execution_count": 13,
      "metadata": {
        "id": "sb1szdLXNirU",
        "colab_type": "code",
        "colab": {}
      }
    }
  ],
  "metadata": {
    "colab": {
      "name": "00_IntroAlgorithms.ipynb",
      "version": "0.3.2",
      "provenance": []
    },
    "kernelspec": {
      "name": "python3",
      "language": "python",
      "display_name": "Python 3"
    },
    "kernel_info": {
      "name": "python3"
    },
    "language_info": {
      "name": "python",
      "version": "3.6.5",
      "mimetype": "text/x-python",
      "codemirror_mode": {
        "name": "ipython",
        "version": 3
      },
      "pygments_lexer": "ipython3",
      "nbconvert_exporter": "python",
      "file_extension": ".py"
    },
    "nteract": {
      "version": "0.11.6"
    }
  },
  "nbformat": 4,
  "nbformat_minor": 0
}