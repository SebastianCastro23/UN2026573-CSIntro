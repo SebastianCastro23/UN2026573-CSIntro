{
  "nbformat": 4,
  "nbformat_minor": 0,
  "metadata": {
    "colab": {
      "name": "00_IntroAlgorithms.ipynb",
      "version": "0.3.2",
      "provenance": []
    },
    "kernelspec": {
      "display_name": "Python [Root]",
      "language": "python",
      "name": "Python [Root]"
    }
  },
  "cells": [
    {
      "metadata": {
        "id": "3oxedQvB1c5p",
        "colab_type": "text",
        "slideshow": {
          "slide_type": "skip"
        }
      },
      "cell_type": "markdown",
      "source": [
        "[texto del enlace](https://)<table>\n",
        " <tr align=left><td><img align=left src=\"https://drive.google.com/uc?export=view&id=1edefIUL_iwWk4K3KtrNynSJ0Qvpdb2YY\">\n",
        " <td>Text provided under a Creative Commons Attribution license, CC-BY. All code is made available under the FSF-approved MIT license. (c) Francisco Gómez</td>\n",
        "</table>"
      ]
    },
    {
      "metadata": {
        "id": "Xq_hs1jGRtLR",
        "colab_type": "text"
      },
      "cell_type": "markdown",
      "source": [
        "*“when you don't create things, you become defined by your tastes rather than ability. your tastes only narrow & exclude people. so create.” *\n",
        "\n",
        "__Why The Lucky Stiff__"
      ]
    },
    {
      "metadata": {
        "id": "zYW3ZR0NSLk7",
        "colab_type": "text"
      },
      "cell_type": "markdown",
      "source": [
        "## Problemas"
      ]
    },
    {
      "metadata": {
        "id": "VGPAaTVmGR7h",
        "colab_type": "text"
      },
      "cell_type": "markdown",
      "source": [
        "Para los siguientes problemas:\n",
        "1. [Especifique en lenguaje natural](https://courses.cs.vt.edu/csonline/Algorithms/Lessons/SpecifyingAlgorithms/index.html)\n",
        "2. Escriba el código en pyhton para los siguientes problemas. \n",
        "\n",
        "Si no esta familiarizado con pyhton puede utilizar ([blocky](https://blockly-demo.appspot.com/static/demos/code/index.html))."
      ]
    },
    {
      "metadata": {
        "id": "B72fnfAPFZNz",
        "colab_type": "text"
      },
      "cell_type": "markdown",
      "source": [
        "* Escriba un programa que calcule el área total del cuerpo (Body surface area)."
      ]
    },
    {
      "metadata": {
        "id": "CZosDsZ8Mhp5",
        "colab_type": "text"
      },
      "cell_type": "markdown",
      "source": [
        "Especificación:\n",
        "\n"
      ]
    },
    {
      "metadata": {
        "id": "JiCFfhv2FZWL",
        "colab_type": "code",
        "colab": {}
      },
      "cell_type": "code",
      "source": [
        ""
      ],
      "execution_count": 0,
      "outputs": []
    },
    {
      "metadata": {
        "id": "FP5SChrPE1qp",
        "colab_type": "text"
      },
      "cell_type": "markdown",
      "source": [
        "* Se dice que dos cantidades $a$ y $b$ están en proporción aurea si la longitud total $a+b$ es al segmento más largo $a$, como $a$ es al segmento más corto $b$, es decir, para $a$ mayor que $b$ se tiene $\\frac{a}{b} = \\frac{a+b}{b}$. Esta razón define una constate llamada [número aureo $\\phi$](https://es.wikipedia.org/wiki/N%C3%BAmero_%C3%A1ureo) que aparece de forma recurrente en muchos fenómenos naturales. Se dice que la distancia del ombligo a la planta de los pies y la altura total de una persona están en proporción aurea. Utilizando la observación anterior y sus medidas experimentales encuentre una aproximación al número aureo $\\phi$. Utilizando la observación anterior y las medidas experimentales de 5, 7 y 10 compañeros encuentre una aproximación al número aureo $\\phi$."
      ]
    },
    {
      "metadata": {
        "id": "lDrps4GJMZCl",
        "colab_type": "text"
      },
      "cell_type": "markdown",
      "source": [
        "Especificación:"
      ]
    },
    {
      "metadata": {
        "id": "HXJhejw4FLsy",
        "colab_type": "code",
        "colab": {}
      },
      "cell_type": "code",
      "source": [
        ""
      ],
      "execution_count": 0,
      "outputs": []
    },
    {
      "metadata": {
        "id": "OKKbv1BKFMex",
        "colab_type": "text"
      },
      "cell_type": "markdown",
      "source": [
        "- Calcule la suma de la serie de números $1+2+⋯+n$. [Hint](https://www.youtube.com/watch?v=aGUQ1bwio68)"
      ]
    },
    {
      "metadata": {
        "id": "oE6KYD3gMkiy",
        "colab_type": "text"
      },
      "cell_type": "markdown",
      "source": [
        "Especificación:"
      ]
    },
    {
      "metadata": {
        "id": "1f_EIYa9FMp2",
        "colab_type": "code",
        "colab": {}
      },
      "cell_type": "code",
      "source": [
        ""
      ],
      "execution_count": 0,
      "outputs": []
    },
    {
      "metadata": {
        "id": "PgqWFNG5MH_S",
        "colab_type": "text"
      },
      "cell_type": "markdown",
      "source": [
        "- Dado un digito de tres cifras escriba un programa que calcule la suma de sus dígitos. Recuerde que los números negativos también tienen tres cifras."
      ]
    },
    {
      "metadata": {
        "id": "ip48gHdNMmkj",
        "colab_type": "text"
      },
      "cell_type": "markdown",
      "source": [
        "Especificación:"
      ]
    },
    {
      "metadata": {
        "id": "CUESPjKTMIJS",
        "colab_type": "code",
        "colab": {}
      },
      "cell_type": "code",
      "source": [
        ""
      ],
      "execution_count": 0,
      "outputs": []
    },
    {
      "metadata": {
        "id": "w6aG4ekFFfv8",
        "colab_type": "text"
      },
      "cell_type": "markdown",
      "source": [
        "- Calcule la distancia más corta de un punto a una línea."
      ]
    },
    {
      "metadata": {
        "id": "yVWZR-0zMnf6",
        "colab_type": "text"
      },
      "cell_type": "markdown",
      "source": [
        "Especificación:"
      ]
    },
    {
      "metadata": {
        "id": "-91xnpfrFf3S",
        "colab_type": "code",
        "colab": {}
      },
      "cell_type": "code",
      "source": [
        ""
      ],
      "execution_count": 0,
      "outputs": []
    },
    {
      "metadata": {
        "id": "47xu0dynFw9R",
        "colab_type": "text"
      },
      "cell_type": "markdown",
      "source": [
        "- Dadas las coordenadas de un triángulo verifique si es equilátero"
      ]
    },
    {
      "metadata": {
        "id": "ip0bTLoOMo6a",
        "colab_type": "text"
      },
      "cell_type": "markdown",
      "source": [
        "Especificación:"
      ]
    },
    {
      "metadata": {
        "id": "MzX3bSIxFxIa",
        "colab_type": "code",
        "colab": {}
      },
      "cell_type": "code",
      "source": [
        ""
      ],
      "execution_count": 0,
      "outputs": []
    },
    {
      "metadata": {
        "id": "U_pGWTaMH3Bj",
        "colab_type": "text"
      },
      "cell_type": "markdown",
      "source": [
        "- Determine la ecuación de la [recta de Euler](https://es.wikipedia.org/wiki/Recta_de_Euler)."
      ]
    },
    {
      "metadata": {
        "id": "H11fWvIjMqPC",
        "colab_type": "text"
      },
      "cell_type": "markdown",
      "source": [
        "Especificación:"
      ]
    },
    {
      "metadata": {
        "id": "ovco97_WH202",
        "colab_type": "code",
        "colab": {}
      },
      "cell_type": "code",
      "source": [
        ""
      ],
      "execution_count": 0,
      "outputs": []
    },
    {
      "metadata": {
        "id": "zenG-SPxJerZ",
        "colab_type": "text"
      },
      "cell_type": "markdown",
      "source": [
        "- Calcule el área de dos círculos que se sobrelapan."
      ]
    },
    {
      "metadata": {
        "id": "LP8Cvq59MrMC",
        "colab_type": "text"
      },
      "cell_type": "markdown",
      "source": [
        "Especificación:"
      ]
    },
    {
      "metadata": {
        "id": "w2ogfRuDJX3j",
        "colab_type": "code",
        "colab": {}
      },
      "cell_type": "code",
      "source": [
        ""
      ],
      "execution_count": 0,
      "outputs": []
    },
    {
      "metadata": {
        "id": "fukHFin_JXyz",
        "colab_type": "text"
      },
      "cell_type": "markdown",
      "source": [
        "- El siguiente problema fue formulado por Leonardo de Pisa (Liber Abaci - 1202): Cierto hombre tenía una pareja de conejos juntos en un lugar cerrado. ¿Cuantos conejos nacen de este par en un año, si su naturaleza es parir otro par en un mes, y el el segundo mes los nacidos pueden parir también?. Calcule el número de parejas después de 70 meses. Sea $f_n$ el número de parejas al final del $n$-esimo mes."
      ]
    },
    {
      "metadata": {
        "id": "A3A7MoHiMr6q",
        "colab_type": "text"
      },
      "cell_type": "markdown",
      "source": [
        "Especificación:"
      ]
    },
    {
      "metadata": {
        "id": "T9Oz5VJ6Jex5",
        "colab_type": "code",
        "colab": {}
      },
      "cell_type": "code",
      "source": [
        ""
      ],
      "execution_count": 0,
      "outputs": []
    },
    {
      "metadata": {
        "id": "NdlROrJqLOw0",
        "colab_type": "text"
      },
      "cell_type": "markdown",
      "source": [
        "- Usted está en una carrera de bicicletas que sube y baja una montaña. Un indicador define cuatro variables para: distancia de subida y distancia de bajada (en km) de ambas partes de la carrera, y tiempo de subida y tiempo de bajada (en minutos). Escriba un programa que imprima su velocidad media (en km/min) para toda la carrera."
      ]
    },
    {
      "metadata": {
        "id": "n2iiPoqKMs2T",
        "colab_type": "text"
      },
      "cell_type": "markdown",
      "source": [
        "Especificación:"
      ]
    },
    {
      "metadata": {
        "id": "eDstK3v-LO4j",
        "colab_type": "code",
        "colab": {}
      },
      "cell_type": "code",
      "source": [
        ""
      ],
      "execution_count": 0,
      "outputs": []
    },
    {
      "metadata": {
        "id": "2YEF4oHZLYa6",
        "colab_type": "text"
      },
      "cell_type": "markdown",
      "source": [
        "- Escriba un programa que intercambie los valores de dos variables"
      ]
    },
    {
      "metadata": {
        "id": "ZcRI6u_aMtwU",
        "colab_type": "text"
      },
      "cell_type": "markdown",
      "source": [
        "Especificación:"
      ]
    },
    {
      "metadata": {
        "id": "cNe4oEamLYhT",
        "colab_type": "code",
        "colab": {}
      },
      "cell_type": "code",
      "source": [
        ""
      ],
      "execution_count": 0,
      "outputs": []
    },
    {
      "metadata": {
        "id": "ktfb0irLLdNT",
        "colab_type": "text"
      },
      "cell_type": "markdown",
      "source": [
        "- Encuentre el área y el volumen de un cono de helado."
      ]
    },
    {
      "metadata": {
        "id": "0MSzOhZWMuaL",
        "colab_type": "text"
      },
      "cell_type": "markdown",
      "source": [
        "Especificación:"
      ]
    },
    {
      "metadata": {
        "id": "jvhee-gYLdR5",
        "colab_type": "code",
        "colab": {}
      },
      "cell_type": "code",
      "source": [
        ""
      ],
      "execution_count": 0,
      "outputs": []
    },
    {
      "metadata": {
        "id": "L_BuS64vLxpL",
        "colab_type": "text"
      },
      "cell_type": "markdown",
      "source": [
        "- En una clase, N estudiantes tienen que estar sentados de tal manera que cada fila tenga el mismo número de estudiantes que las otras. Si por lo menos X estudiantes deben sentarse por fila y por lo menos X filas tienen que estar allí, entonces cuántos arreglos son posibles?"
      ]
    },
    {
      "metadata": {
        "id": "9ldOxAfoMvGw",
        "colab_type": "text"
      },
      "cell_type": "markdown",
      "source": [
        "Especificación:"
      ]
    },
    {
      "metadata": {
        "id": "52fQSefkLxyJ",
        "colab_type": "code",
        "colab": {}
      },
      "cell_type": "code",
      "source": [
        ""
      ],
      "execution_count": 0,
      "outputs": []
    },
    {
      "metadata": {
        "id": "l4dJ4_JONfwx",
        "colab_type": "text"
      },
      "cell_type": "markdown",
      "source": [
        "- ¿Cuántos billetes de cada cantidad (100.000, 50.000, 20.000 y 10.000) debe entregar un cajero automático que sigue las siguientes reglas?: El usuario puede pedir hasta un máximo de 1.200.000 y mínimo 10.000, los valores pedidos son múltiplos de 10.000. El cajero debe entregar la cantidad máxima de billetes de 50.000 que se pueden entregar, luego de billetes de 20.000 y el residuo con 10.000?. Por ejemplo, al solicitar 280.000 el programa responde: 5 billetes de 50.000 + 1 billete de 20.000 y 1 billete de 10.000. Si la solicitud es 40.000 entonces se responde: 0 billetes de 50.000 + 2 billetes de 20.000 + 0 billetes de 10.000."
      ]
    },
    {
      "metadata": {
        "id": "XG16hSMONg1y",
        "colab_type": "text"
      },
      "cell_type": "markdown",
      "source": [
        "Especificación:"
      ]
    },
    {
      "metadata": {
        "id": "sb1szdLXNirU",
        "colab_type": "code",
        "colab": {}
      },
      "cell_type": "code",
      "source": [
        ""
      ],
      "execution_count": 0,
      "outputs": []
    }
  ]
}