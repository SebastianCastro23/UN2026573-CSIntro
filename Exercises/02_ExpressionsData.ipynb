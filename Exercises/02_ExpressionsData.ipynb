{
  "cells": [
    {
      "cell_type": "markdown",
      "source": [
        "<table>\n",
        " <tr align=left><td><img align=left src=\"https://drive.google.com/uc?export=view&id=1edefIUL_iwWk4K3KtrNynSJ0Qvpdb2YY\">\n",
        " <td>Text provided under a Creative Commons Attribution license, CC-BY. All code is made available under the FSF-approved MIT license. (c) Francisco Gómez</td>\n",
        "</table>"
      ],
      "metadata": {
        "id": "3oxedQvB1c5p",
        "colab_type": "text",
        "slideshow": {
          "slide_type": "skip"
        }
      }
    },
    {
      "cell_type": "markdown",
      "source": [
        "*“Always code as if the guy who ends up maintaining your code will be a violent psychopath who knows where you live.” *\n",
        "\n__Martin Golding__"
      ],
      "metadata": {
        "id": "Xq_hs1jGRtLR",
        "colab_type": "text"
      }
    },
    {
      "cell_type": "markdown",
      "source": [
        "## Problemas"
      ],
      "metadata": {
        "id": "zYW3ZR0NSLk7",
        "colab_type": "text"
      }
    },
    {
      "cell_type": "markdown",
      "source": [
        "\n\n",
        "Para los problemas de programación:\n",
        "1. [Especifique en lenguaje natural](https://courses.cs.vt.edu/csonline/Algorithms/Lessons/SpecifyingAlgorithms/index.html)\n",
        "2. Escriba el código en pyhton. \n"
      ],
      "metadata": {
        "id": "VGPAaTVmGR7h",
        "colab_type": "text"
      }
    },
    {
      "cell_type": "markdown",
      "source": [
        "* Encuentre el área del camino, donde un camino mide 14 cm de ancho, rodea un césped circular cuyo diámetro es de 360 cm.."
      ],
      "metadata": {
        "id": "B72fnfAPFZNz",
        "colab_type": "text"
      }
    },
    {
      "cell_type": "markdown",
      "source": [
        "Especificación:\n",
        "\n"
      ],
      "metadata": {
        "id": "CZosDsZ8Mhp5",
        "colab_type": "text"
      }
    },
    {
      "cell_type": "code",
      "source": [],
      "outputs": [],
      "execution_count": 0,
      "metadata": {
        "id": "JiCFfhv2FZWL",
        "colab_type": "code",
        "colab": {}
      }
    },
    {
      "cell_type": "markdown",
      "source": [
        "* Encuentre el área de un hexagono cuyo lado es 4cm y cuyo radio es 6cm."
      ],
      "metadata": {
        "id": "FP5SChrPE1qp",
        "colab_type": "text"
      }
    },
    {
      "cell_type": "markdown",
      "source": [
        "Especificación:"
      ],
      "metadata": {
        "id": "lDrps4GJMZCl",
        "colab_type": "text"
      }
    },
    {
      "cell_type": "code",
      "source": [],
      "outputs": [],
      "execution_count": 0,
      "metadata": {
        "id": "HXJhejw4FLsy",
        "colab_type": "code",
        "colab": {}
      }
    },
    {
      "cell_type": "markdown",
      "source": [
        "- Resuelva la ecuación radical $ \\sqrt[3]{x}=9$"
      ],
      "metadata": {
        "id": "OKKbv1BKFMex",
        "colab_type": "text"
      }
    },
    {
      "cell_type": "markdown",
      "source": [
        "Especificación:"
      ],
      "metadata": {
        "id": "oE6KYD3gMkiy",
        "colab_type": "text"
      }
    },
    {
      "cell_type": "code",
      "source": [],
      "outputs": [],
      "execution_count": 0,
      "metadata": {
        "id": "1f_EIYa9FMp2",
        "colab_type": "code",
        "colab": {}
      }
    },
    {
      "cell_type": "markdown",
      "source": [
        "- Calcule la fuerza de atracción entre dos cuerpos, la cual es igual al producto de una constante k por las masas de los cuerpos y el cociente que resulta del cuadrado de su distancia."
      ],
      "metadata": {
        "id": "PgqWFNG5MH_S",
        "colab_type": "text"
      }
    },
    {
      "cell_type": "markdown",
      "source": [
        "Especificación:"
      ],
      "metadata": {
        "id": "ip48gHdNMmkj",
        "colab_type": "text"
      }
    },
    {
      "cell_type": "code",
      "source": [],
      "outputs": [],
      "execution_count": 0,
      "metadata": {
        "id": "CUESPjKTMIJS",
        "colab_type": "code",
        "colab": {}
      }
    },
    {
      "cell_type": "markdown",
      "source": [
        "- ¿Cuál es el área de un triángulo cuyos lados tienen una longitud de $a$ y $b$, cuyo ángulo interno entre estos dos lados es de $\\alpha$ grados?."
      ],
      "metadata": {
        "id": "w6aG4ekFFfv8",
        "colab_type": "text"
      }
    },
    {
      "cell_type": "markdown",
      "source": [
        "Especificación:\n",
        "\n",
        "Si tenemos una ecuación de tercer grado, es decir, de la forma $ax^3 + bx^2 + cx + d = 0$, necesitamos:\n",
        "\n",
        "1. Hallar $C = \\sqrt[3]{\\frac{\\Delta_1 \\pm \\sqrt{{\\Delta_1}^2 - 4{\\Delta_0}^3}}{2}}$, donde $\\Delta_0 = b^2 - 3ac$, y $\\Delta_1 = 2b^3 - 9abc + 27a^2d$.\n",
        "    - Es necesario calcular con anterioridad $n = {\\Delta_1}2 - 4{\\Delta_0}^3$ para determinar si $C$ es un número real o no.\n",
        "    - Se entrega $C$ como una tupla $(real, imaginario)$.\n",
        "2. Luego, se itera sobre la formula general de las raíces.\n",
        "    1. Se calculan las partes real e imaginaria para $m = \\xi^kC$. Para esto, si al multiplicar la parte imaginaria resulta real, se suman al resultado real.\n",
        "    2. Se calcula la parte real de la ecuación para la raíz $x_k = -\\frac{1}{3a}(b + m + \\frac{\\Delta_0}{m})$, tomando la parte real de $m$.\n",
        "    3. Se calcula la parte imaginaria $x_k = -\\frac{1}{3a}(b + m + \\frac{\\Delta_0}{m})$, tomando la parte imaginaria de $m$, si esta es diferente de $0$. De lo contrario, se calcula como $0$.\n",
        "    4. Se entrega la raíz como una tupla $(real, imaginario)$."
      ],
      "metadata": {
        "id": "yVWZR-0zMnf6",
        "colab_type": "text"
      }
    },
    {
      "cell_type": "code",
      "source": [],
      "outputs": [],
      "execution_count": 0,
      "metadata": {
        "id": "-91xnpfrFf3S",
        "colab_type": "code",
        "colab": {}
      }
    },
    {
      "cell_type": "markdown",
      "source": [
        "- Calcule las raíces de un polinomio de tercer grado, asuma que las raíces son reales."
      ],
      "metadata": {
        "id": "47xu0dynFw9R",
        "colab_type": "text"
      }
    },
    {
      "cell_type": "markdown",
      "source": [
        "Especificación:"
      ],
      "metadata": {
        "id": "ip0bTLoOMo6a",
        "colab_type": "text"
      }
    },
    {
      "cell_type": "code",
      "source": [],
      "outputs": [],
      "execution_count": 0,
      "metadata": {
        "id": "MzX3bSIxFxIa",
        "colab_type": "code",
        "colab": {}
      }
    },
    {
      "cell_type": "markdown",
      "source": [
        "- Encuentre la línea paralela de la línea recta dada $6x - 3y = 2$ que pasa por un punto $(1, 2)$."
      ],
      "metadata": {
        "id": "U_pGWTaMH3Bj",
        "colab_type": "text"
      }
    },
    {
      "cell_type": "markdown",
      "source": [
        "Especificación:"
      ],
      "metadata": {
        "id": "H11fWvIjMqPC",
        "colab_type": "text"
      }
    },
    {
      "cell_type": "code",
      "source": [],
      "outputs": [],
      "execution_count": 0,
      "metadata": {
        "id": "ovco97_WH202",
        "colab_type": "code",
        "colab": {}
      }
    },
    {
      "cell_type": "markdown",
      "source": [
        "- La comida servida en un restaurante debe estar entre 38 ° C y 49 ° C cuando se entrega al cliente. El proceso utilizado para mantener los alimentos a la temperatura correcta tiene una desviación estándar de 2 ° C y el valor medio para estas temperaturas es 40. ¿Cuál es la capacidad de proceso (Cpk - Process capability index)[ https://es.wikipedia.org/wiki/%C3%8Dndice_de_capacidad_del_proceso]?."
      ],
      "metadata": {
        "id": "zenG-SPxJerZ",
        "colab_type": "text"
      }
    },
    {
      "cell_type": "markdown",
      "source": [
        "Especificación:"
      ],
      "metadata": {
        "id": "LP8Cvq59MrMC",
        "colab_type": "text"
      }
    },
    {
      "cell_type": "code",
      "source": [],
      "outputs": [],
      "execution_count": 0,
      "metadata": {
        "id": "w2ogfRuDJX3j",
        "colab_type": "code",
        "colab": {}
      }
    },
    {
      "cell_type": "markdown",
      "source": [
        "- ¿Qué tipo de valor (número entero, número de coma flotante o cadena de caracteres) usaría para representar cada uno de los siguientes? Trate de encontrar más de una buena respuesta para cada problema. Por ejemplo, en el n. ° 1, ¿cuándo tendría más sentido contar días con una variable de coma flotante que usar un número entero?\n",
        "\n"
      ],
      "metadata": {
        "id": "fukHFin_JXyz",
        "colab_type": "text"
      }
    },
    {
      "cell_type": "markdown",
      "source": [
        "\n",
        "> - Número de días desde el comienzo del año. (*Escriba aca su respuesta*)\n",
        "-\tTiempo transcurrido desde el comienzo del año hasta ahora en días. (*Escriba aca su respuesta*)\n",
        "-\tNúmero de serie de una pieza de equipo de laboratorio. (*Escriba aca su respuesta*)\n",
        "-\tLa edad de un espécimen de laboratorio. (*Escriba aca su respuesta*)\n",
        "-\tPoblación actual de una ciudad. (*Escriba aca su respuesta*)\n",
        "-\tPoblación promedio de una ciudad a lo largo del tiempo. (*Escriba aca su respuesta*)\n",
        "\n\n\n\n"
      ],
      "metadata": {
        "id": "2TPd_okYFFBp",
        "colab_type": "text"
      }
    },
    {
      "cell_type": "markdown",
      "source": [
        "- ¿Qué tipo de dato es 4.0+5?."
      ],
      "metadata": {
        "id": "NdlROrJqLOw0",
        "colab_type": "text"
      }
    },
    {
      "cell_type": "markdown",
      "source": [
        ">(*Escriba aca su respuesta*)"
      ],
      "metadata": {
        "id": "n2iiPoqKMs2T",
        "colab_type": "text"
      }
    }
  ],
  "metadata": {
    "colab": {
      "name": "02_ExpressionsData.ipynb",
      "version": "0.3.2",
      "provenance": []
    },
    "kernelspec": {
      "display_name": "Python [Root]",
      "language": "python",
      "name": "Python [Root]"
    },
    "nteract": {
      "version": "0.11.6"
    }
  },
  "nbformat": 4,
  "nbformat_minor": 0
}