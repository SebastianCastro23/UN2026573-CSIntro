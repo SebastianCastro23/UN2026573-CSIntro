{
  "cells": [
    {
      "cell_type": "markdown",
      "source": [
        "<table>\n",
        " <tr align=left><td><img align=left src=\"https://drive.google.com/uc?export=view&id=1edefIUL_iwWk4K3KtrNynSJ0Qvpdb2YY\">\n",
        " <td>Text provided under a Creative Commons Attribution license, CC-BY. All code is made available under the FSF-approved MIT license. (c) Francisco Gómez</td>\n",
        "</table>"
      ],
      "metadata": {
        "id": "3oxedQvB1c5p",
        "colab_type": "text",
        "slideshow": {
          "slide_type": "skip"
        }
      }
    },
    {
      "cell_type": "markdown",
      "source": [
        "*“Always code as if the guy who ends up maintaining your code will be a violent psychopath who knows where you live.” *\n",
        "\n__Martin Golding__"
      ],
      "metadata": {
        "id": "Xq_hs1jGRtLR",
        "colab_type": "text"
      }
    },
    {
      "cell_type": "markdown",
      "source": [
        "## Problemas"
      ],
      "metadata": {
        "id": "zYW3ZR0NSLk7",
        "colab_type": "text"
      }
    },
    {
      "cell_type": "markdown",
      "source": [
        "Para los problemas de programación:\n",
        "\n",
        "1. [Especifique en lenguaje natural](https://courses.cs.vt.edu/csonline/Algorithms/Lessons/SpecifyingAlgorithms/index.html)\n",
        "2. Escriba el código en pyhton. \n"
      ],
      "metadata": {
        "id": "VGPAaTVmGR7h",
        "colab_type": "text"
      }
    },
    {
      "cell_type": "markdown",
      "source": [
        "* Encuentre el área del camino, donde un camino mide 14 cm de ancho, rodea un césped circular cuyo diámetro es de 360 cm."
      ],
      "metadata": {
        "id": "B72fnfAPFZNz",
        "colab_type": "text"
      }
    },
    {
      "cell_type": "markdown",
      "source": [
        "Especificación:\n",
        "\nSea un círculo, que tiene un radio $r = d / 2$, el camino es un anillo circunscrito, de radio interno $r$ y radio externo $R = r + w$. Entonces, el área del anillo es $A = \\pi (R - r)^2$."
      ],
      "metadata": {
        "id": "CZosDsZ8Mhp5",
        "colab_type": "text"
      }
    },
    {
      "cell_type": "code",
      "source": [
        "from math import sqrt, pi\n",
        "\n",
        "(w, d) = (14, 360)\n",
        "\n",
        "r = d / 2\n",
        "R = r + w\n",
        "A = pi * (R - r) ** 2\n",
        "\n'A = {:.2f}cm²'.format(A)"
      ],
      "outputs": [
        {
          "output_type": "execute_result",
          "execution_count": 8,
          "data": {
            "text/plain": [
              "'A = 615.75cm²'"
            ]
          },
          "metadata": {}
        }
      ],
      "execution_count": 8,
      "metadata": {
        "id": "JiCFfhv2FZWL",
        "colab_type": "code",
        "colab": {}
      }
    },
    {
      "cell_type": "markdown",
      "source": [
        "* Encuentre el área de un hexagono cuyo lado es 4cm y cuyo radio es 6cm."
      ],
      "metadata": {
        "id": "FP5SChrPE1qp",
        "colab_type": "text"
      }
    },
    {
      "cell_type": "markdown",
      "source": [
        "Especificación:\n",
        "\n",
        "Teniendo un hexágono de lado $S$ y radio $R$, tenemos 6 triángulos cuya área son dos veces el triángulo conformado por $h = \\sqrt{R^2-\\frac{S}{2}^2}$\n",
        "\nEl área es $A_H = 6Sh$"
      ],
      "metadata": {
        "id": "lDrps4GJMZCl",
        "colab_type": "text"
      }
    },
    {
      "cell_type": "code",
      "source": [
        "(S, R) = (4, 6)\n",
        "\n'A = {:.2f}cm²'.format(6 * (S * sqrt(R ** 2 - (S / 2) ** 2)))"
      ],
      "outputs": [
        {
          "output_type": "execute_result",
          "execution_count": 2,
          "data": {
            "text/plain": [
              "'A = 135.76cm²'"
            ]
          },
          "metadata": {}
        }
      ],
      "execution_count": 2,
      "metadata": {
        "id": "HXJhejw4FLsy",
        "colab_type": "code",
        "colab": {}
      }
    },
    {
      "cell_type": "markdown",
      "source": [
        "- Resuelva la ecuación radical $ \\sqrt[3]{x}=9$"
      ],
      "metadata": {
        "id": "OKKbv1BKFMex",
        "colab_type": "text"
      }
    },
    {
      "cell_type": "markdown",
      "source": [
        "Especificación:\n",
        "\nSi $y = \\sqrt[b]{x}$, tenemos $y$ e $b$ entonces $x = y^b$"
      ],
      "metadata": {
        "id": "oE6KYD3gMkiy",
        "colab_type": "text"
      }
    },
    {
      "cell_type": "code",
      "source": [
        "x = 9 ** 3\n",
        "\nx"
      ],
      "outputs": [
        {
          "output_type": "execute_result",
          "execution_count": 3,
          "data": {
            "text/plain": [
              "729"
            ]
          },
          "metadata": {}
        }
      ],
      "execution_count": 3,
      "metadata": {
        "id": "1f_EIYa9FMp2",
        "colab_type": "code",
        "colab": {}
      }
    },
    {
      "cell_type": "markdown",
      "source": [
        "- Calcule la fuerza de atracción entre dos cuerpos, la cual es igual al producto de una constante k por las masas de los cuerpos y el cociente que resulta del cuadrado de su distancia."
      ],
      "metadata": {
        "id": "PgqWFNG5MH_S",
        "colab_type": "text"
      }
    },
    {
      "cell_type": "markdown",
      "source": [
        "Especificación:\n",
        "\n",
        "Dada una constante $k$ y dos masas $m_1$ y $m_2$, la fuerza de atracción entre dichos cuerpos es:\n",
        "\n$F = k\\frac{m_1m_2}{d^2}$"
      ],
      "metadata": {
        "id": "ip48gHdNMmkj",
        "colab_type": "text"
      }
    },
    {
      "cell_type": "code",
      "source": [
        "attraction_force = lambda k, m1, m2, d: k * (m1 * m2) / (d ** 2)\n",
        "\n",
        "G = 6.674 * 10 ** -11\n",
        "m1 = 90\n",
        "m2 = 64\n",
        "d = 0.5\n",
        "\nattraction_force(G, m1, m2, d)"
      ],
      "outputs": [
        {
          "output_type": "execute_result",
          "execution_count": 11,
          "data": {
            "text/plain": [
              "1.5376895999999999e-06"
            ]
          },
          "metadata": {}
        }
      ],
      "execution_count": 11,
      "metadata": {
        "id": "CUESPjKTMIJS",
        "colab_type": "code",
        "colab": {}
      }
    },
    {
      "cell_type": "markdown",
      "source": [
        "- ¿Cuál es el área de un triángulo cuyos lados tienen una longitud de $a$ y $b$, cuyo ángulo interno entre estos dos lados es de $\\alpha$ grados?."
      ],
      "metadata": {
        "id": "w6aG4ekFFfv8",
        "colab_type": "text"
      }
    },
    {
      "cell_type": "markdown",
      "source": [
        "Especificación:\n",
        "\nEl área es: $A = \\frac{ab\\sin\\alpha}{2}$"
      ],
      "metadata": {
        "id": "yVWZR-0zMnf6",
        "colab_type": "text"
      }
    },
    {
      "cell_type": "code",
      "source": [
        "from math import sin, pi\n",
        "\n",
        "triangle_area = lambda a, b, alpha: a * b * sin(alpha * pi / 180) / 2\n",
        "triangle_area(1, 2, 90)"
      ],
      "outputs": [
        {
          "output_type": "execute_result",
          "execution_count": 17,
          "data": {
            "text/plain": [
              "1.0"
            ]
          },
          "metadata": {}
        }
      ],
      "execution_count": 17,
      "metadata": {
        "id": "-91xnpfrFf3S",
        "colab_type": "code",
        "colab": {}
      }
    },
    {
      "cell_type": "markdown",
      "source": [
        "- Calcule las raíces de un polinomio de tercer grado, asuma que las raíces son reales."
      ],
      "metadata": {
        "id": "47xu0dynFw9R",
        "colab_type": "text"
      }
    },
    {
      "cell_type": "markdown",
      "source": [
        "Especificación:\n",
        "\n",
        "Para una ecuación polinomial de tercer grado, de la forma $ax^3 + bx^2 + cx + d = 0$,\n",
        "\n",
        "1. Si tenemos que $a\\neq0$, podemos dividir por a, por lo que tenemos $x^3+Px^2+Qx+R = 0$.\n",
        "2. Completando el cubo, tenemos que $(x + \\frac{P}3) = \\frac{P^2}{3}x + \\frac{P^3}{27} - Qx - R$, o bien $(x + \\frac{P}3) = (\\frac{P^2}{3} - Q)x + \\frac{P^3}{27} - Qx - R$"
      ],
      "metadata": {
        "id": "ip0bTLoOMo6a",
        "colab_type": "text"
      }
    },
    {
      "cell_type": "code",
      "source": [],
      "outputs": [],
      "execution_count": 1,
      "metadata": {
        "collapsed": false,
        "outputHidden": false,
        "inputHidden": false
      }
    },
    {
      "cell_type": "markdown",
      "source": [
        "- Encuentre la línea paralela de la línea recta dada $6x - 3y = 2$ que pasa por un punto $(1, 2)$."
      ],
      "metadata": {
        "id": "U_pGWTaMH3Bj",
        "colab_type": "text"
      }
    },
    {
      "cell_type": "markdown",
      "source": [
        "Especificación:"
      ],
      "metadata": {
        "id": "H11fWvIjMqPC",
        "colab_type": "text"
      }
    },
    {
      "cell_type": "code",
      "source": [],
      "outputs": [],
      "execution_count": 4,
      "metadata": {
        "id": "ovco97_WH202",
        "colab_type": "code",
        "colab": {}
      }
    },
    {
      "cell_type": "markdown",
      "source": [
        "- La comida servida en un restaurante debe estar entre 38 ° C y 49 ° C cuando se entrega al cliente. El proceso utilizado para mantener los alimentos a la temperatura correcta tiene una desviación estándar de 2 ° C y el valor medio para estas temperaturas es 40. ¿Cuál es la capacidad de proceso (Cpk - Process capability index)[ https://es.wikipedia.org/wiki/%C3%8Dndice_de_capacidad_del_proceso]?."
      ],
      "metadata": {
        "id": "zenG-SPxJerZ",
        "colab_type": "text"
      }
    },
    {
      "cell_type": "markdown",
      "source": [
        "Especificación:"
      ],
      "metadata": {
        "id": "LP8Cvq59MrMC",
        "colab_type": "text"
      }
    },
    {
      "cell_type": "code",
      "source": [],
      "outputs": [],
      "execution_count": 4,
      "metadata": {
        "id": "w2ogfRuDJX3j",
        "colab_type": "code",
        "colab": {}
      }
    },
    {
      "cell_type": "markdown",
      "source": [
        "- ¿Qué tipo de valor (número entero, número de coma flotante o cadena de caracteres) usaría para representar cada uno de los siguientes? Trate de encontrar más de una buena respuesta para cada problema. Por ejemplo, en el n. ° 1, ¿cuándo tendría más sentido contar días con una variable de coma flotante que usar un número entero?\n",
        "\n"
      ],
      "metadata": {
        "id": "fukHFin_JXyz",
        "colab_type": "text"
      }
    },
    {
      "cell_type": "markdown",
      "source": [
        "\n",
        "> - Número de días desde el comienzo del año. (_**Número entero**. Es posible usar un **Número de coma flotante** si, adicionalmente, se pide almacenar el número de horas, minutos y segundos transcurridos en ese día._)\n",
        "-\tTiempo transcurrido desde el comienzo del año hasta ahora en días. (_Es posible usar un **Número de coma flotante** si, adicionalmente, se pide almacenar el número de horas, minutos y segundos transcurridos en ese día. De lo contrario, se puede usar un **Número entero**_)\n",
        "-\tNúmero de serie de una pieza de equipo de laboratorio. (*Depende de si el número de serie puede incluir letras, en cuyo caso sería una **Cadena de caracteres**. De lo contrario, y salvo que sea un número donde contenga ceros a la izquierda (en cuyo caso lo ideal sigue siendo una **Cadena de caracteres**), el **Número entero** es el tipo ideal *)\n",
        "-\tLa edad de un espécimen de laboratorio. (*El tipo más adecuado es **Número de coma flotante**, puesto que puede representar segundos, con sus milisegundos, así como días con sus fracciones.*)\n",
        "-\tPoblación actual de una ciudad. (*Se puede usar una **Cadena de caracteres** si lo que se busca es una representación en lenguaje natural. De lo contrario, un **Número entero** nos dará la población actual sin ocupar más espacio*)\n",
        "-\tPoblación promedio de una ciudad a lo largo del tiempo. (*En este caso, y considerando que es un valor promedio, y dependiendo de la cantidad de precisión que querramos, un **Número de coma flotante** es un buen tipo de dato a usar*)\n",
        "\n\n\n\n"
      ],
      "metadata": {
        "id": "2TPd_okYFFBp",
        "colab_type": "text"
      }
    },
    {
      "cell_type": "markdown",
      "source": [
        "- ¿Qué tipo de dato es 4.0+5?."
      ],
      "metadata": {
        "id": "NdlROrJqLOw0",
        "colab_type": "text"
      }
    },
    {
      "cell_type": "markdown",
      "source": [
        "> Número de coma flotante (`Float`). Esto, debido a que uno de los dos operandos es de tipo decimal, y tiene prevalencia sobre un número entero."
      ],
      "metadata": {
        "id": "n2iiPoqKMs2T",
        "colab_type": "text"
      }
    }
  ],
  "metadata": {
    "colab": {
      "name": "02_ExpressionsData.ipynb",
      "version": "0.3.2",
      "provenance": []
    },
    "kernelspec": {
      "name": "python3",
      "language": "python",
      "display_name": "Python 3"
    },
    "nteract": {
      "version": "0.12.3"
    },
    "kernel_info": {
      "name": "python3"
    },
    "language_info": {
      "name": "python",
      "version": "3.7.2",
      "mimetype": "text/x-python",
      "codemirror_mode": {
        "name": "ipython",
        "version": 3
      },
      "pygments_lexer": "ipython3",
      "nbconvert_exporter": "python",
      "file_extension": ".py"
    }
  },
  "nbformat": 4,
  "nbformat_minor": 0
}