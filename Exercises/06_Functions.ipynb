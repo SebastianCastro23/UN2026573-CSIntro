{
  "nbformat": 4,
  "nbformat_minor": 0,
  "metadata": {
    "colab": {
      "name": "06_Functions.ipynb",
      "version": "0.3.2",
      "provenance": [],
      "collapsed_sections": []
    },
    "kernelspec": {
      "display_name": "Python [Root]",
      "language": "python",
      "name": "Python [Root]"
    }
  },
  "cells": [
    {
      "metadata": {
        "id": "3oxedQvB1c5p",
        "colab_type": "text",
        "slideshow": {
          "slide_type": "skip"
        }
      },
      "cell_type": "markdown",
      "source": [
        "[texto del enlace](https://)<table>\n",
        " <tr align=left><td><img align=left src=\"https://drive.google.com/uc?export=view&id=1edefIUL_iwWk4K3KtrNynSJ0Qvpdb2YY\">\n",
        " <td>Text provided under a Creative Commons Attribution license, CC-BY. All code is made available under the FSF-approved MIT license. (c) Francisco Gómez</td>\n",
        "</table>"
      ]
    },
    {
      "metadata": {
        "id": "Xq_hs1jGRtLR",
        "colab_type": "text"
      },
      "cell_type": "markdown",
      "source": [
        "*“When people think about computer science, they imagine people with pocket protectors and thick glasses who code all night” *\n",
        "\n",
        "__Marissa Mayer__"
      ]
    },
    {
      "metadata": {
        "id": "zYW3ZR0NSLk7",
        "colab_type": "text"
      },
      "cell_type": "markdown",
      "source": [
        "## Problemas"
      ]
    },
    {
      "metadata": {
        "id": "Lw7Zrm0lJ52N",
        "colab_type": "text"
      },
      "cell_type": "markdown",
      "source": [
        "* Construya una función que calcule el doble factorial de un número"
      ]
    },
    {
      "metadata": {
        "id": "RUcWXtUQJ9E0",
        "colab_type": "code",
        "colab": {}
      },
      "cell_type": "code",
      "source": [
        ""
      ],
      "execution_count": 0,
      "outputs": []
    },
    {
      "metadata": {
        "id": "B72fnfAPFZNz",
        "colab_type": "text"
      },
      "cell_type": "markdown",
      "source": [
        "* Escriba una función que imprima la n-esima fila del triángulo de Pascal"
      ]
    },
    {
      "metadata": {
        "id": "JiCFfhv2FZWL",
        "colab_type": "code",
        "colab": {}
      },
      "cell_type": "code",
      "source": [
        ""
      ],
      "execution_count": 0,
      "outputs": []
    },
    {
      "metadata": {
        "id": "FP5SChrPE1qp",
        "colab_type": "text"
      },
      "cell_type": "markdown",
      "source": [
        "* Escriba una función que detecte si un string es un panagrama o no."
      ]
    },
    {
      "metadata": {
        "id": "HXJhejw4FLsy",
        "colab_type": "code",
        "colab": {}
      },
      "cell_type": "code",
      "source": [
        ""
      ],
      "execution_count": 0,
      "outputs": []
    },
    {
      "metadata": {
        "id": "OKKbv1BKFMex",
        "colab_type": "text"
      },
      "cell_type": "markdown",
      "source": [
        "- Calcule los números de Catalan de un número utilizando la definición recursiva."
      ]
    },
    {
      "metadata": {
        "id": "1f_EIYa9FMp2",
        "colab_type": "code",
        "colab": {}
      },
      "cell_type": "code",
      "source": [
        ""
      ],
      "execution_count": 0,
      "outputs": []
    },
    {
      "metadata": {
        "id": "PgqWFNG5MH_S",
        "colab_type": "text"
      },
      "cell_type": "markdown",
      "source": [
        "- Construya una función que calcule los números de Delannoy"
      ]
    },
    {
      "metadata": {
        "id": "CUESPjKTMIJS",
        "colab_type": "code",
        "colab": {}
      },
      "cell_type": "code",
      "source": [
        ""
      ],
      "execution_count": 0,
      "outputs": []
    },
    {
      "metadata": {
        "id": "w6aG4ekFFfv8",
        "colab_type": "text"
      },
      "cell_type": "markdown",
      "source": [
        "- Calcule los números de Stirling de primera clase"
      ]
    },
    {
      "metadata": {
        "id": "-91xnpfrFf3S",
        "colab_type": "code",
        "colab": {}
      },
      "cell_type": "code",
      "source": [
        ""
      ],
      "execution_count": 0,
      "outputs": []
    },
    {
      "metadata": {
        "id": "47xu0dynFw9R",
        "colab_type": "text"
      },
      "cell_type": "markdown",
      "source": [
        "- Imprima los 100 primeros números naturales utilizando recursión"
      ]
    },
    {
      "metadata": {
        "id": "MzX3bSIxFxIa",
        "colab_type": "code",
        "colab": {}
      },
      "cell_type": "code",
      "source": [
        ""
      ],
      "execution_count": 0,
      "outputs": []
    },
    {
      "metadata": {
        "id": "S599fJnrLlk7",
        "colab_type": "text"
      },
      "cell_type": "markdown",
      "source": [
        "* Invierta los caracteres de un string utilizando recursión"
      ]
    },
    {
      "metadata": {
        "id": "Uvy08g4MLlxU",
        "colab_type": "code",
        "colab": {}
      },
      "cell_type": "code",
      "source": [
        ""
      ],
      "execution_count": 0,
      "outputs": []
    },
    {
      "metadata": {
        "id": "kluLrKL7LphH",
        "colab_type": "text"
      },
      "cell_type": "markdown",
      "source": [
        "* Escriba una función que encuentre el n-esimo término de la secuencia de Fibonacci utilizando recursión"
      ]
    },
    {
      "metadata": {
        "id": "9PisdmFlLprA",
        "colab_type": "code",
        "colab": {}
      },
      "cell_type": "code",
      "source": [
        ""
      ],
      "execution_count": 0,
      "outputs": []
    },
    {
      "metadata": {
        "id": "1emFpwGjL6o9",
        "colab_type": "text"
      },
      "cell_type": "markdown",
      "source": [
        "* Escriba un programa que genere el (conjunto de cantor)"
      ]
    },
    {
      "metadata": {
        "id": "O4FldweFcSAj",
        "colab_type": "code",
        "colab": {}
      },
      "cell_type": "code",
      "source": [
        ""
      ],
      "execution_count": 0,
      "outputs": []
    },
    {
      "metadata": {
        "id": "GjFkz87icRKv",
        "colab_type": "text"
      },
      "cell_type": "markdown",
      "source": [
        "* Encuentre los dos elementos de una lista cuya suma sea más cercana a cero"
      ]
    },
    {
      "metadata": {
        "id": "ycutVAZZL6wL",
        "colab_type": "code",
        "colab": {}
      },
      "cell_type": "code",
      "source": [
        ""
      ],
      "execution_count": 0,
      "outputs": []
    },
    {
      "metadata": {
        "id": "gbgnZsxccVJc",
        "colab_type": "text"
      },
      "cell_type": "markdown",
      "source": [
        "* Quince alumnas salen formadas de tres en fondo durante siete días seguidos: se requiere formarlas cada día de manera que al terminar la semana no haya habido dos de ellas que hayan caminado juntas (o sea, en la misma fila) más de una vez. Construya una solución para una seman"
      ]
    },
    {
      "metadata": {
        "id": "lEOuUIJNcVUE",
        "colab_type": "code",
        "colab": {}
      },
      "cell_type": "code",
      "source": [
        ""
      ],
      "execution_count": 0,
      "outputs": []
    }
  ]
}